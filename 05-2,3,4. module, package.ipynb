{
 "cells": [
  {
   "cell_type": "markdown",
   "metadata": {},
   "source": [
    "## 05-2. 모듈(module)\n",
    "- 함수, 변수, 클래스들을 모아놓은 파일.\n",
    "- 프로그래밍 할 때 우리는 많은 모듈들을 사용하게 될 것임.\n",
    "- 모듈을 어떻게 만들고 사용할 수 있는지를 알아보자!"
   ]
  },
  {
   "cell_type": "markdown",
   "metadata": {},
   "source": [
    "### 모듈 만들고 불러오기\n",
    "- 파이참(에디터)에서 만든 .py 파일이 바로 모듈\n",
    "- 모듈을 불러오기 위해선: cd 경로 -> dir(디렉토리 내 파일 확인) -> python(대화형 인터프리터 실행, 이로 인해 파이썬 인터프레터를 사용 가능. 파이썬 함수들 사용 가능) -> import 모듈 -> 모듈.함수(모듈 내의 함수 사용 가능)\n",
    "---\n",
    "- __주의__: `import 모듈 > 모듈.함수(인자,..)` 또는 \n",
    "- `from 모듈 import 함수 > 함수(인자,...)` 로도 사용 가능.-->이 방법의 경우 사용하려는 함수를 모두 import해야만 사용할 수 있다.(하나만 import하면 그거밖에 못씀)\n",
    "- `from 모듈 import * > 함수(인자,...)` 의 경우 해당 모듈 내의 모든 함수를 이용가능!\n",
    "---\n",
    "- 프로그램 바로 실행: `cd 경로 > python ~.py `\n",
    "- 파이썬 인터프레터 실행 후, 모듈 이용: `cd 경로> python > import 모듈` \n",
    "- 프로그램 바로 실행 시 print문으로 출력하고 싶은 게 있다면 --> if __ name __ =='__ main__': 밑에다가 print문 써줄 것!\n",
    "---\n",
    "- <실습모듈>\n",
    "- mod1.py: 함수만 포함한 모듈\n",
    "- mod2.py: 클래스, 변수 등을 포함한 모듈"
   ]
  },
  {
   "cell_type": "markdown",
   "metadata": {},
   "source": [
    "## 05-3. 패키지(package)\n",
    "- 패키지는 모듈들을 모아 놓은 것. 만일 A.B라면 A:패키지, B: 패키지 내의 모듈을 의미.\n",
    "- 패키지는 `디렉터리, 파이썬 모듈`로 이루어져 있다.(여기서 파이썬 모듈은 .py 확장자를 갖고 있는 것을 말함)\n",
    "- `cd 경로 > python > import 패키지.(서브)디렉토리.모듈> 패키지.디렉토리.모듈.함수(인자,..)` \n",
    "- `cd 경로 > python > from 패키지.(서브)디렉토리 import 모듈> 모듈.함수(인자,...)` \n",
    "- `cd 경로 > python > from 패키지.(서브)디렉토리.모듈 import 함수> 함수(인자,...)` "
   ]
  },
  {
   "cell_type": "markdown",
   "metadata": {},
   "source": [
    "## 05-4. 예외 처리"
   ]
  },
  {
   "cell_type": "code",
   "execution_count": 1,
   "metadata": {},
   "outputs": [
    {
     "ename": "FileNotFoundError",
     "evalue": "[Errno 2] No such file or directory: '나없는파일'",
     "output_type": "error",
     "traceback": [
      "\u001b[1;31m---------------------------------------------------------------------------\u001b[0m",
      "\u001b[1;31mFileNotFoundError\u001b[0m                         Traceback (most recent call last)",
      "\u001b[1;32m<ipython-input-1-4902f664db93>\u001b[0m in \u001b[0;36m<module>\u001b[1;34m\u001b[0m\n\u001b[0;32m      1\u001b[0m \u001b[1;31m#자주 발생하는 오류들\u001b[0m\u001b[1;33m\u001b[0m\u001b[1;33m\u001b[0m\u001b[1;33m\u001b[0m\u001b[0m\n\u001b[0;32m      2\u001b[0m \u001b[1;31m## 디렉터리 안에 없는 파일을 열려고 시도했을 때 발생하는 오류\u001b[0m\u001b[1;33m\u001b[0m\u001b[1;33m\u001b[0m\u001b[1;33m\u001b[0m\u001b[0m\n\u001b[1;32m----> 3\u001b[1;33m \u001b[0mf\u001b[0m \u001b[1;33m=\u001b[0m \u001b[0mopen\u001b[0m\u001b[1;33m(\u001b[0m\u001b[1;34m'나없는파일'\u001b[0m\u001b[1;33m,\u001b[0m\u001b[1;34m'r'\u001b[0m\u001b[1;33m)\u001b[0m\u001b[1;33m\u001b[0m\u001b[1;33m\u001b[0m\u001b[0m\n\u001b[0m",
      "\u001b[1;31mFileNotFoundError\u001b[0m: [Errno 2] No such file or directory: '나없는파일'"
     ]
    }
   ],
   "source": [
    "#자주 발생하는 오류들\n",
    "## 디렉터리 안에 없는 파일을 열려고 시도했을 때 발생하는 오류\n",
    "f = open('나없는파일','r')"
   ]
  },
  {
   "cell_type": "code",
   "execution_count": 2,
   "metadata": {},
   "outputs": [
    {
     "ename": "ZeroDivisionError",
     "evalue": "division by zero",
     "output_type": "error",
     "traceback": [
      "\u001b[1;31m---------------------------------------------------------------------------\u001b[0m",
      "\u001b[1;31mZeroDivisionError\u001b[0m                         Traceback (most recent call last)",
      "\u001b[1;32m<ipython-input-2-4b88e67d1ccd>\u001b[0m in \u001b[0;36m<module>\u001b[1;34m\u001b[0m\n\u001b[0;32m      1\u001b[0m \u001b[1;31m## 0으로 숫자를 나누려고 했을 때 발생하는 오류\u001b[0m\u001b[1;33m\u001b[0m\u001b[1;33m\u001b[0m\u001b[1;33m\u001b[0m\u001b[0m\n\u001b[1;32m----> 2\u001b[1;33m \u001b[1;36m4\u001b[0m\u001b[1;33m/\u001b[0m\u001b[1;36m0\u001b[0m\u001b[1;33m\u001b[0m\u001b[1;33m\u001b[0m\u001b[0m\n\u001b[0m",
      "\u001b[1;31mZeroDivisionError\u001b[0m: division by zero"
     ]
    }
   ],
   "source": [
    "## 0으로 숫자를 나누려고 했을 때 발생하는 오류\n",
    "4/0"
   ]
  },
  {
   "cell_type": "code",
   "execution_count": 3,
   "metadata": {},
   "outputs": [
    {
     "ename": "IndexError",
     "evalue": "list index out of range",
     "output_type": "error",
     "traceback": [
      "\u001b[1;31m---------------------------------------------------------------------------\u001b[0m",
      "\u001b[1;31mIndexError\u001b[0m                                Traceback (most recent call last)",
      "\u001b[1;32m<ipython-input-3-e4e9a8dee017>\u001b[0m in \u001b[0;36m<module>\u001b[1;34m\u001b[0m\n\u001b[0;32m      1\u001b[0m \u001b[0ma\u001b[0m\u001b[1;33m=\u001b[0m\u001b[1;33m[\u001b[0m\u001b[1;36m1\u001b[0m\u001b[1;33m,\u001b[0m\u001b[1;36m2\u001b[0m\u001b[1;33m,\u001b[0m\u001b[1;36m3\u001b[0m\u001b[1;33m]\u001b[0m\u001b[1;33m\u001b[0m\u001b[1;33m\u001b[0m\u001b[0m\n\u001b[1;32m----> 2\u001b[1;33m \u001b[0ma\u001b[0m\u001b[1;33m[\u001b[0m\u001b[1;36m4\u001b[0m\u001b[1;33m]\u001b[0m\u001b[1;33m\u001b[0m\u001b[1;33m\u001b[0m\u001b[0m\n\u001b[0m",
      "\u001b[1;31mIndexError\u001b[0m: list index out of range"
     ]
    }
   ],
   "source": [
    "## 인덱싱 오류 \n",
    "a=[1,2,3]\n",
    "a[4]"
   ]
  },
  {
   "cell_type": "markdown",
   "metadata": {},
   "source": [
    "### 오류 예외 처리 기법\n",
    "- try~except\n",
    "- try~else\n",
    "- try~finally"
   ]
  },
  {
   "cell_type": "raw",
   "metadata": {},
   "source": [
    "# try, except문([]부분은 생략가능)\n",
    "\n",
    "try:\n",
    "    ... 수행문\n",
    "except [발생 오류[as 오류 메시지 변수]]:        #except문은 try문 내에서 오류가 발생하면 실행된다.(만일 오류가 발생안되면 실행안됨)\n",
    "    ... 수행문                                            \n",
    "    "
   ]
  },
  {
   "cell_type": "code",
   "execution_count": 9,
   "metadata": {},
   "outputs": [
    {
     "name": "stdout",
     "output_type": "stream",
     "text": [
      "4/0는 에러가 납니다.\n"
     ]
    }
   ],
   "source": [
    "try: 4/0\n",
    "except: #일반적 상황(오류가 발생하기만 하면 except블록 수행.)\n",
    "    print('4/0는 에러가 납니다.')"
   ]
  },
  {
   "cell_type": "code",
   "execution_count": 8,
   "metadata": {},
   "outputs": [
    {
     "name": "stdout",
     "output_type": "stream",
     "text": [
      "4/0는 ZeroDivisionError에러가 납니다.\n"
     ]
    }
   ],
   "source": [
    "try: 4/0\n",
    "except ZeroDivisionError:      #발생 오류로 설정한 것과 일치해야만 except를 수행함.\n",
    "    print('4/0는 ZeroDivisionError에러가 납니다.')"
   ]
  },
  {
   "cell_type": "code",
   "execution_count": 10,
   "metadata": {},
   "outputs": [
    {
     "ename": "ZeroDivisionError",
     "evalue": "division by zero",
     "output_type": "error",
     "traceback": [
      "\u001b[1;31m---------------------------------------------------------------------------\u001b[0m",
      "\u001b[1;31mZeroDivisionError\u001b[0m                         Traceback (most recent call last)",
      "\u001b[1;32m<ipython-input-10-7d4e08126803>\u001b[0m in \u001b[0;36m<module>\u001b[1;34m\u001b[0m\n\u001b[1;32m----> 1\u001b[1;33m \u001b[1;32mtry\u001b[0m\u001b[1;33m:\u001b[0m \u001b[1;36m4\u001b[0m\u001b[1;33m/\u001b[0m\u001b[1;36m0\u001b[0m\u001b[1;33m\u001b[0m\u001b[1;33m\u001b[0m\u001b[0m\n\u001b[0m\u001b[0;32m      2\u001b[0m \u001b[1;32mexcept\u001b[0m \u001b[0mIndexError\u001b[0m\u001b[1;33m:\u001b[0m      \u001b[1;31m#발생 오류로 설정한 것과 일치해야만 except를 수행함.\u001b[0m\u001b[1;33m\u001b[0m\u001b[1;33m\u001b[0m\u001b[0m\n\u001b[0;32m      3\u001b[0m     \u001b[0mprint\u001b[0m\u001b[1;33m(\u001b[0m\u001b[1;34m'4/0는 IndexError에러가 납니다.'\u001b[0m\u001b[1;33m)\u001b[0m\u001b[1;33m\u001b[0m\u001b[1;33m\u001b[0m\u001b[0m\n",
      "\u001b[1;31mZeroDivisionError\u001b[0m: division by zero"
     ]
    }
   ],
   "source": [
    "try: 4/0\n",
    "except IndexError:      #발생 오류로 설정한 것과 일치해야만 except를 수행함.\n",
    "    print('4/0는 IndexError에러가 납니다.')"
   ]
  },
  {
   "cell_type": "code",
   "execution_count": 6,
   "metadata": {},
   "outputs": [
    {
     "name": "stdout",
     "output_type": "stream",
     "text": [
      "division by zero\n"
     ]
    }
   ],
   "source": [
    "#예시\n",
    "try: 4/0\n",
    "except ZeroDivisionError as e: #'e'변수에 오류 메시지가 담김.(이건 발생 오류와 메시지 변수까지 출력하고자 할 때 사용)\n",
    "    print(e) "
   ]
  },
  {
   "cell_type": "code",
   "execution_count": 11,
   "metadata": {},
   "outputs": [
    {
     "ename": "ZeroDivisionError",
     "evalue": "division by zero",
     "output_type": "error",
     "traceback": [
      "\u001b[1;31m---------------------------------------------------------------------------\u001b[0m",
      "\u001b[1;31mZeroDivisionError\u001b[0m                         Traceback (most recent call last)",
      "\u001b[1;32m<ipython-input-11-520e3d3102c2>\u001b[0m in \u001b[0;36m<module>\u001b[1;34m\u001b[0m\n\u001b[1;32m----> 1\u001b[1;33m \u001b[1;32mtry\u001b[0m\u001b[1;33m:\u001b[0m \u001b[1;36m4\u001b[0m\u001b[1;33m/\u001b[0m\u001b[1;36m0\u001b[0m\u001b[1;33m\u001b[0m\u001b[1;33m\u001b[0m\u001b[0m\n\u001b[0m\u001b[0;32m      2\u001b[0m \u001b[1;32mexcept\u001b[0m \u001b[0mIndexError\u001b[0m \u001b[1;32mas\u001b[0m \u001b[0me\u001b[0m\u001b[1;33m:\u001b[0m \u001b[1;31m#'e'변수에 오류 메시지가 담김.(이건 발생 오류와 메시지 변수까지 출력하고자 할 때 사용)\u001b[0m\u001b[1;33m\u001b[0m\u001b[1;33m\u001b[0m\u001b[0m\n\u001b[0;32m      3\u001b[0m     \u001b[0mprint\u001b[0m\u001b[1;33m(\u001b[0m\u001b[0me\u001b[0m\u001b[1;33m)\u001b[0m\u001b[1;33m\u001b[0m\u001b[1;33m\u001b[0m\u001b[0m\n",
      "\u001b[1;31mZeroDivisionError\u001b[0m: division by zero"
     ]
    }
   ],
   "source": [
    "try: 4/0\n",
    "except IndexError as e: #'e'변수에 오류 메시지가 담김.(이건 발생 오류와 메시지 변수까지 출력하고자 할 때 사용)\n",
    "    print(e) "
   ]
  },
  {
   "cell_type": "markdown",
   "metadata": {},
   "source": [
    "#### try~else문\n",
    "- else절(블록): try문의 예외가 발생되지 않은 경우 실행, 반드시 except절 바로 다음에 위치"
   ]
  },
  {
   "cell_type": "code",
   "execution_count": 13,
   "metadata": {},
   "outputs": [
    {
     "name": "stdout",
     "output_type": "stream",
     "text": [
      "[Errno 2] No such file or directory: 'ffoo.txt'\n"
     ]
    }
   ],
   "source": [
    "#다음의 예는 'ffoo.txt' 파일이 없으므로 except가 실행됨.\n",
    "try:\n",
    "    f = open('ffoo.txt','r')\n",
    "except FileNotFoundError as e: #try가 오류가 발생 시 수행 \n",
    "    print(e)\n",
    "else:                                    #오류가 발생하지 않으면 else를 수행\n",
    "    data = f.read()\n",
    "    f.close()"
   ]
  },
  {
   "cell_type": "code",
   "execution_count": 14,
   "metadata": {},
   "outputs": [],
   "source": [
    "#다음의 예는 'foo.txt' 파일이 있으므로 else가 실행됨.\n",
    "try:\n",
    "    f = open('foo.txt','r')\n",
    "except FileNotFoundError as e: #try가 오류가 발생 시 수행 \n",
    "    print(e)\n",
    "else:                                    #오류가 발생하지 않으면 else를 수행\n",
    "    data = f.read()\n",
    "    f.close()"
   ]
  },
  {
   "cell_type": "code",
   "execution_count": 15,
   "metadata": {},
   "outputs": [
    {
     "data": {
      "text/plain": [
       "'Life is too short, You need python!'"
      ]
     },
     "execution_count": 15,
     "metadata": {},
     "output_type": "execute_result"
    }
   ],
   "source": [
    "data"
   ]
  },
  {
   "cell_type": "markdown",
   "metadata": {},
   "source": [
    "#### try~finally문\n",
    "- finally 블록: try문이 예외가 발생하든 아니든지간에 항상 실행됨.\n",
    "- 보통 사용한 리소스를 clsoe해야할 경우 많이 사용됨."
   ]
  },
  {
   "cell_type": "code",
   "execution_count": 22,
   "metadata": {},
   "outputs": [],
   "source": [
    "f=open('ffoo2.txt','w')\n",
    "try:\n",
    "    f.write('사랑해요')\n",
    "finally:      #try문이 에러가 있든 없든간에 반드시 실행됨.\n",
    "    f.close() "
   ]
  },
  {
   "cell_type": "code",
   "execution_count": 25,
   "metadata": {},
   "outputs": [
    {
     "name": "stdout",
     "output_type": "stream",
     "text": [
      "파일이없네\n"
     ]
    }
   ],
   "source": [
    "try:\n",
    "    f=open('ffo.txt','r')\n",
    "    data = f.readline()\n",
    "except: \n",
    "    print('파일이없네')\n",
    "finally:\n",
    "    f.close()"
   ]
  },
  {
   "cell_type": "markdown",
   "metadata": {},
   "source": [
    "### 오류 회피하기\n",
    "- 어떤 경우에는 오류가 발생하더라도 그냥 회피하고 넘겨야 하는 경우가 있다."
   ]
  },
  {
   "cell_type": "code",
   "execution_count": 26,
   "metadata": {},
   "outputs": [],
   "source": [
    "try:\n",
    "    open('나없는파일','r')\n",
    "except FileNotFoundError: #이 에러가 난다면 그냥 아무것도 출력하지 않고 통과.\n",
    "    pass"
   ]
  },
  {
   "cell_type": "markdown",
   "metadata": {},
   "source": [
    "### 오류 일부러 발생시키기 \n",
    "- rasie라는 명령어를 사용해 오류를 강제로 발생시키기 "
   ]
  },
  {
   "cell_type": "code",
   "execution_count": 27,
   "metadata": {},
   "outputs": [],
   "source": [
    "#Bird 클래스를 상속받는 자식 클래스는 반드시 'fly'라는 함수를 구현하도록 만들고 싶은 경우\n",
    "class Bird: #부모 클래스\n",
    "    def fly(self):\n",
    "        raise NotImplementedError #rasie명령어를 이용해 Bird를 상속받는 자식 클래스는 반드시 fly함수를 구현해야만 하도록 함!"
   ]
  },
  {
   "cell_type": "code",
   "execution_count": 28,
   "metadata": {},
   "outputs": [],
   "source": [
    "#만일 자식 클래스가 fly함수를 구현하지 않은 상태로 fly함수를 호출하면.....\n",
    "class Eagle(Bird):\n",
    "    pass"
   ]
  },
  {
   "cell_type": "code",
   "execution_count": 29,
   "metadata": {},
   "outputs": [
    {
     "ename": "NotImplementedError",
     "evalue": "",
     "output_type": "error",
     "traceback": [
      "\u001b[1;31m---------------------------------------------------------------------------\u001b[0m",
      "\u001b[1;31mNotImplementedError\u001b[0m                       Traceback (most recent call last)",
      "\u001b[1;32m<ipython-input-29-44df1654c75e>\u001b[0m in \u001b[0;36m<module>\u001b[1;34m\u001b[0m\n\u001b[0;32m      1\u001b[0m \u001b[0meagle\u001b[0m \u001b[1;33m=\u001b[0m \u001b[0mEagle\u001b[0m\u001b[1;33m(\u001b[0m\u001b[1;33m)\u001b[0m\u001b[1;33m\u001b[0m\u001b[1;33m\u001b[0m\u001b[0m\n\u001b[1;32m----> 2\u001b[1;33m \u001b[0meagle\u001b[0m\u001b[1;33m.\u001b[0m\u001b[0mfly\u001b[0m\u001b[1;33m(\u001b[0m\u001b[1;33m)\u001b[0m\u001b[1;33m\u001b[0m\u001b[1;33m\u001b[0m\u001b[0m\n\u001b[0m",
      "\u001b[1;32m<ipython-input-27-a2cad72f5bb6>\u001b[0m in \u001b[0;36mfly\u001b[1;34m(self)\u001b[0m\n\u001b[0;32m      2\u001b[0m \u001b[1;32mclass\u001b[0m \u001b[0mBird\u001b[0m\u001b[1;33m:\u001b[0m \u001b[1;31m#부모 클래스\u001b[0m\u001b[1;33m\u001b[0m\u001b[1;33m\u001b[0m\u001b[0m\n\u001b[0;32m      3\u001b[0m     \u001b[1;32mdef\u001b[0m \u001b[0mfly\u001b[0m\u001b[1;33m(\u001b[0m\u001b[0mself\u001b[0m\u001b[1;33m)\u001b[0m\u001b[1;33m:\u001b[0m\u001b[1;33m\u001b[0m\u001b[1;33m\u001b[0m\u001b[0m\n\u001b[1;32m----> 4\u001b[1;33m         \u001b[1;32mraise\u001b[0m \u001b[0mNotImplementedError\u001b[0m \u001b[1;31m#rasie명령어를 이용해 Bird를 상속받는 자식 클래스는 반드시 fly함수를 구현해야만 하도록 함!\u001b[0m\u001b[1;33m\u001b[0m\u001b[1;33m\u001b[0m\u001b[0m\n\u001b[0m",
      "\u001b[1;31mNotImplementedError\u001b[0m: "
     ]
    }
   ],
   "source": [
    "eagle = Eagle()\n",
    "eagle.fly() #이렇듯, 자식 클래스인 Eagle이 fly함수를 구현하지 않았으므로 Bird클래스의 fly함수를 쓰게 되는데, raise명령어에 의해 에러가 뜬다."
   ]
  },
  {
   "cell_type": "code",
   "execution_count": 30,
   "metadata": {},
   "outputs": [],
   "source": [
    "#그러니 반드시 Eagle 클래스는 fly함수를 구현해야 에러가 안뜬다.\n",
    "class Eagle(Bird):\n",
    "    def fly(self):\n",
    "        print('very fast')"
   ]
  },
  {
   "cell_type": "code",
   "execution_count": 31,
   "metadata": {},
   "outputs": [
    {
     "name": "stdout",
     "output_type": "stream",
     "text": [
      "very fast\n"
     ]
    }
   ],
   "source": [
    "eagle = Eagle()\n",
    "eagle.fly()"
   ]
  },
  {
   "cell_type": "code",
   "execution_count": null,
   "metadata": {},
   "outputs": [],
   "source": []
  }
 ],
 "metadata": {
  "kernelspec": {
   "display_name": "Python 3",
   "language": "python",
   "name": "python3"
  },
  "language_info": {
   "codemirror_mode": {
    "name": "ipython",
    "version": 3
   },
   "file_extension": ".py",
   "mimetype": "text/x-python",
   "name": "python",
   "nbconvert_exporter": "python",
   "pygments_lexer": "ipython3",
   "version": "3.7.6"
  }
 },
 "nbformat": 4,
 "nbformat_minor": 4
}
