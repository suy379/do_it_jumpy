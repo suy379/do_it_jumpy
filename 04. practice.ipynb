{
 "cells": [
  {
   "cell_type": "code",
   "execution_count": 37,
   "metadata": {},
   "outputs": [],
   "source": [
    "#함수\n",
    "#1. 첫 번째 항의 값이 0이고 두 번째 항의 값이 1일 때, 이후에 이어지는 항들은 이전의 두 항을 더한 값으로 이루어지는 수열을 피보나치 수열이라고 한다.\n",
    "#먼저 입력이 0과 1이면 각각 0과 1을 출력하고, 입력을 정수 n(n>=2)으로 받았을 때, n 이하까지의 피보나치 수열을 출력하는 함수를 작성\n",
    "\n",
    "\n",
    "def fib(n):\n",
    "    if n ==0: return 0\n",
    "    if n ==1: return 1\n",
    "    return fib(n-2)+fib(n-1)\n",
    "\n",
    "def print_fib(n):\n",
    "    for i in range(n+1):\n",
    "        print(fib(i)) #fib(0)부터 fib(n)까지의 값들을 출력함."
   ]
  },
  {
   "cell_type": "code",
   "execution_count": 39,
   "metadata": {},
   "outputs": [
    {
     "name": "stdout",
     "output_type": "stream",
     "text": [
      "정수를 입력하세요.: 9\n",
      "0\n",
      "1\n",
      "1\n",
      "2\n",
      "3\n",
      "5\n",
      "8\n",
      "13\n",
      "21\n",
      "34\n"
     ]
    }
   ],
   "source": [
    "n = int(input('정수를 입력하세요.: '))\n",
    " \n",
    "print_fib(n)"
   ]
  },
  {
   "cell_type": "code",
   "execution_count": 12,
   "metadata": {},
   "outputs": [],
   "source": [
    "#파일 읽고 쓰기\n",
    "#2. 총 10줄로 이루어진 sample.txt 파일이 있다. 여기의 숫자값을 모두 읽어 총합과 평균값을 구한 후, 평균값을 result.txt라는 파일에 쓰는 프로그램을 작성\n",
    "\n",
    "#줄단위로 전체를 읽어옴\n",
    "with open('sample.txt','r') as f:\n",
    "    lines = f.readlines() #lines는 리스트이므로 len으로 개수 셀 수 있음.\n",
    "    \n",
    "total = 0\n",
    "for line in lines:\n",
    "    score = int(line) #line은 str이므로 숫자형 변환\n",
    "    total += score\n",
    "    \n",
    "average = total/len(lines)\n",
    "\n",
    "with open('result.txt', 'w') as f:\n",
    "    f.write('평균값은 %d 입니다.'%average)\n",
    "    "
   ]
  },
  {
   "cell_type": "code",
   "execution_count": 11,
   "metadata": {},
   "outputs": [
    {
     "data": {
      "text/plain": [
       "10"
      ]
     },
     "execution_count": 11,
     "metadata": {},
     "output_type": "execute_result"
    }
   ],
   "source": [
    "len(lines)"
   ]
  },
  {
   "cell_type": "code",
   "execution_count": 13,
   "metadata": {},
   "outputs": [
    {
     "name": "stdout",
     "output_type": "stream",
     "text": [
      "평균값은 79 입니다.\n"
     ]
    }
   ],
   "source": [
    "with open('result.txt', 'r') as f:\n",
    "    print(f.read())"
   ]
  },
  {
   "cell_type": "code",
   "execution_count": 15,
   "metadata": {},
   "outputs": [],
   "source": [
    "##주의!! average는 숫자값이다. 근데 파일에 숫자값을 바로 쓸수는 없음(반드시 문자여야만 함) 이럴땐 문자형으로 바꿔서 입력해주기!\n",
    "with open('result2.txt', 'w') as f:\n",
    "    f.write(str(average))"
   ]
  },
  {
   "cell_type": "code",
   "execution_count": null,
   "metadata": {},
   "outputs": [],
   "source": []
  }
 ],
 "metadata": {
  "kernelspec": {
   "display_name": "Python 3",
   "language": "python",
   "name": "python3"
  },
  "language_info": {
   "codemirror_mode": {
    "name": "ipython",
    "version": 3
   },
   "file_extension": ".py",
   "mimetype": "text/x-python",
   "name": "python",
   "nbconvert_exporter": "python",
   "pygments_lexer": "ipython3",
   "version": "3.7.6"
  }
 },
 "nbformat": 4,
 "nbformat_minor": 4
}
