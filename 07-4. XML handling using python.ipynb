{
 "cells": [
  {
   "cell_type": "markdown",
   "metadata": {},
   "source": [
    "## XML 문서 생성하기\n",
    "- 엘리먼트(Element)를 이용해 태그 만들고 태그에 텍스트 값 추가하기\n",
    "- 서브엘리먼트(SubElement)를 이용하면 좀더 편리하게 태그 추가 가능"
   ]
  },
  {
   "cell_type": "code",
   "execution_count": 1,
   "metadata": {},
   "outputs": [],
   "source": [
    "# 1) Element 이용 - note 및 tag 생성 가능.\n",
    "from xml.etree.ElementTree import Element, dump"
   ]
  },
  {
   "cell_type": "code",
   "execution_count": 6,
   "metadata": {},
   "outputs": [
    {
     "name": "stdout",
     "output_type": "stream",
     "text": [
      "<note><to>Tove</to></note>\n"
     ]
    }
   ],
   "source": [
    "#note생성, to에 'Tove' 추가\n",
    "note = Element('note')\n",
    "to = Element('to')\n",
    "to.text = 'Tove' #tag에 text 추가 \n",
    "\n",
    "note.append(to)\n",
    "dump(note) #note 출력 명령어 "
   ]
  },
  {
   "cell_type": "code",
   "execution_count": 5,
   "metadata": {},
   "outputs": [],
   "source": [
    "# 2)SubElement 이용 - tag에 text 추가 시 편리함.\n",
    "from xml.etree.ElementTree import Element, SubElement, dump"
   ]
  },
  {
   "cell_type": "code",
   "execution_count": 7,
   "metadata": {},
   "outputs": [
    {
     "name": "stdout",
     "output_type": "stream",
     "text": [
      "<note><to>Tove</to><from>Jani</from></note>\n"
     ]
    }
   ],
   "source": [
    "#to에 'Tove'와 from 'Jani'도 추가\n",
    "note = Element('note')\n",
    "to = Element('to')\n",
    "to.text = 'Tove'\n",
    "note.append(to)\n",
    "\n",
    "SubElement(note, 'from').text = 'Jani' #SubElement(note, tag).text = '추가할 텍스트'\n",
    "\n",
    "dump(note)"
   ]
  },
  {
   "cell_type": "code",
   "execution_count": 33,
   "metadata": {},
   "outputs": [
    {
     "name": "stdout",
     "output_type": "stream",
     "text": [
      "<note><dummy /></note>\n"
     ]
    }
   ],
   "source": [
    "#태그 사이에 태그 추가 - note.insert(인덱스, tag)\n",
    "note = Element('note')\n",
    "dummy = Element('dummy')\n",
    "note.insert(1, dummy)\n",
    "dump(note)"
   ]
  },
  {
   "cell_type": "code",
   "execution_count": 32,
   "metadata": {},
   "outputs": [
    {
     "name": "stdout",
     "output_type": "stream",
     "text": [
      "<note><dummy /></note>\n"
     ]
    }
   ],
   "source": [
    "#또는- note.append(tag)\n",
    "note = Element('note')\n",
    "dummy = Element('dummy')\n",
    "note.append(dummy)\n",
    "dump(note)"
   ]
  },
  {
   "cell_type": "code",
   "execution_count": 34,
   "metadata": {},
   "outputs": [
    {
     "name": "stdout",
     "output_type": "stream",
     "text": [
      "<note />\n"
     ]
    }
   ],
   "source": [
    "#특정 태그 삭제- note.remove(tag)\n",
    "note.remove(dummy)\n",
    "dump(note)"
   ]
  },
  {
   "cell_type": "code",
   "execution_count": 35,
   "metadata": {},
   "outputs": [
    {
     "name": "stdout",
     "output_type": "stream",
     "text": [
      "<note author=\"suyeon\" date=\"20210209\"><to>Tove</to><from>Jani</from></note>\n"
     ]
    }
   ],
   "source": [
    "#note 태그에 애트리뷰트(attribute) 추가하기 - note.attrib[애트리뷰트명] = '텍스트'\n",
    "from xml.etree.ElementTree import Element, SubElement, dump\n",
    "\n",
    "note = Element('note')\n",
    "to = Element('to')\n",
    "to.text = 'Tove'\n",
    "\n",
    "note.append(to)\n",
    "SubElement(note, 'from').text = 'Jani'\n",
    "note.attrib['date'] = '20210209' #애트리뷰트 추가 \n",
    "note.attrib['author'] = 'suyeon' #계속 추가 가능\n",
    "\n",
    "dump(note)"
   ]
  },
  {
   "cell_type": "code",
   "execution_count": 36,
   "metadata": {},
   "outputs": [
    {
     "name": "stdout",
     "output_type": "stream",
     "text": [
      "<note author=\"suyeon\" date=\"20210209\"><to>Tove</to><from>Jani</from></note>\n"
     ]
    }
   ],
   "source": [
    "#위의 과정을 간단히 하려면 note 생성 시\n",
    "note = Element('note', date='20210209', author='suyeon') #이렇게 써줘도 같은 결과이다.\n",
    "to = Element('to')\n",
    "to.text = 'Tove'\n",
    "\n",
    "note.append(to)\n",
    "SubElement(note, 'from').text = 'Jani'\n",
    "\n",
    "dump(note)"
   ]
  },
  {
   "cell_type": "code",
   "execution_count": 37,
   "metadata": {},
   "outputs": [
    {
     "name": "stdout",
     "output_type": "stream",
     "text": [
      "<note date=\"20210209\"><to>Tove</to><from>Jani</from><heading>Reminder</heading><body>Don\"t forget me this weekend!</body></note>\n"
     ]
    }
   ],
   "source": [
    "##만들고자 했던 것을 만들어보자.\n",
    "from xml.etree.ElementTree import Element, SubElement, dump\n",
    "\n",
    "note = Element('note', date='20210209')\n",
    "to = Element('to')\n",
    "to.text = 'Tove'\n",
    "\n",
    "note.append(to)\n",
    "SubElement(note, 'from').text = 'Jani'\n",
    "SubElement(note, 'heading').text = 'Reminder'\n",
    "SubElement(note, 'body').text = 'Don\"t forget me this weekend!'\n",
    "\n",
    "dump(note)"
   ]
  },
  {
   "cell_type": "code",
   "execution_count": 38,
   "metadata": {},
   "outputs": [],
   "source": [
    "#위의 출력값 띄어쓰기 하기 - indent 함수 만들어 사용 \n",
    "from xml.etree.ElementTree import Element, SubElement, dump\n",
    "\n",
    "note = Element('note', date='20210209')\n",
    "to = Element('to')\n",
    "to.text = 'Tove'\n",
    "\n",
    "note.append(to)\n",
    "SubElement(note, 'from').text = 'Jani'\n",
    "SubElement(note, 'heading').text = 'Reminder'\n",
    "SubElement(note, 'body').text = 'Don\"t forget me this weekend!'\n",
    "\n",
    "\n",
    "def indent(elem, level=0):\n",
    "    i = '\\n' + level*\" \"\n",
    "    if len(elem):\n",
    "        if not elem.text or not elem.text.strip():\n",
    "            elem.text = i+' '\n",
    "        if not elem.tail or not elem.tail.strip():\n",
    "            elem.tail = i\n",
    "        for elem in elem:\n",
    "            indent(elem, level+1)\n",
    "        if not elem.tail or not elem.tail.strip():\n",
    "            elem.tail = i\n",
    "    else:\n",
    "        if level and (not elem.tail or not elem.tail.strip()):\n",
    "            elem.tail = i\n",
    "            "
   ]
  },
  {
   "cell_type": "code",
   "execution_count": 39,
   "metadata": {},
   "outputs": [],
   "source": [
    "#함수 적용 \n",
    "indent(note)"
   ]
  },
  {
   "cell_type": "code",
   "execution_count": 40,
   "metadata": {},
   "outputs": [
    {
     "name": "stdout",
     "output_type": "stream",
     "text": [
      "<note date=\"20210209\">\n",
      " <to>Tove</to>\n",
      " <from>Jani</from>\n",
      " <heading>Reminder</heading>\n",
      " <body>Don\"t forget me this weekend!</body>\n",
      "</note>\n"
     ]
    }
   ],
   "source": [
    "#출력 \n",
    "dump(note)"
   ]
  },
  {
   "cell_type": "markdown",
   "metadata": {},
   "source": [
    "### 파일에 쓰기(xml 문서): ElementTree(객체명).write(파일명.xml)"
   ]
  },
  {
   "cell_type": "code",
   "execution_count": 18,
   "metadata": {},
   "outputs": [],
   "source": [
    "from xml.etree.ElementTree import ElementTree\n",
    "ElementTree(note).write('note.xml') #아까 만든 'note'를 'note.xml'이라는 파일로 생성!"
   ]
  },
  {
   "cell_type": "markdown",
   "metadata": {},
   "source": [
    "### XML 문서 파싱하기(parsing)"
   ]
  },
  {
   "cell_type": "code",
   "execution_count": 19,
   "metadata": {},
   "outputs": [],
   "source": [
    "from xml.etree.ElementTree import parse\n",
    "tree = parse('note.xml')\n",
    "note = tree.getroot()"
   ]
  },
  {
   "cell_type": "code",
   "execution_count": 20,
   "metadata": {},
   "outputs": [
    {
     "name": "stdout",
     "output_type": "stream",
     "text": [
      "<Element 'note' at 0x000002464D850D68>\n"
     ]
    }
   ],
   "source": [
    "print(note)"
   ]
  },
  {
   "cell_type": "code",
   "execution_count": 21,
   "metadata": {},
   "outputs": [
    {
     "name": "stdout",
     "output_type": "stream",
     "text": [
      "20210209\n",
      "default\n",
      "['date']\n",
      "[('date', '20210209')]\n"
     ]
    }
   ],
   "source": [
    "#애트리뷰트 값 읽기\n",
    "print(note.get('date'))\n",
    "print(note.get('foo','default')) #딕셔너리 메서드라서 'foo'라는 key가 없으면 default 반환 \n",
    "print(note.keys()) #현재 이 note 라는 xml 파일에는 'date'라는 key뿐임.\n",
    "print(note.items())"
   ]
  },
  {
   "cell_type": "markdown",
   "metadata": {},
   "source": [
    "### xml 문서의 태그 접근하기: xml문서명.find('태그명')"
   ]
  },
  {
   "cell_type": "code",
   "execution_count": 22,
   "metadata": {},
   "outputs": [],
   "source": [
    "from_tag = note.find('from') #tag가 'from'인 것을 찾음. 여러개라면 그 중 첫번째 값만 리턴\n",
    "from_tags = note.findall('from') #tag가 'from'인 모든 값을 리턴 \n",
    "from_text = note.findtext('from') #tag가 'from'인 것의 text명을 반환 "
   ]
  },
  {
   "cell_type": "code",
   "execution_count": 25,
   "metadata": {},
   "outputs": [
    {
     "data": {
      "text/plain": [
       "<Element 'from' at 0x000002464D8430E8>"
      ]
     },
     "execution_count": 25,
     "metadata": {},
     "output_type": "execute_result"
    }
   ],
   "source": [
    "from_tag"
   ]
  },
  {
   "cell_type": "code",
   "execution_count": 26,
   "metadata": {},
   "outputs": [
    {
     "data": {
      "text/plain": [
       "'Jani'"
      ]
     },
     "execution_count": 26,
     "metadata": {},
     "output_type": "execute_result"
    }
   ],
   "source": [
    "from_text"
   ]
  },
  {
   "cell_type": "code",
   "execution_count": 27,
   "metadata": {},
   "outputs": [
    {
     "data": {
      "text/plain": [
       "<_elementtree._element_iterator at 0x2464d851b28>"
      ]
     },
     "execution_count": 27,
     "metadata": {},
     "output_type": "execute_result"
    }
   ],
   "source": [
    "#특정 태그의 모든 하위 엘리먼트를 순차적으로 처리할 경우 \n",
    "note.getiterator()"
   ]
  },
  {
   "cell_type": "code",
   "execution_count": 28,
   "metadata": {},
   "outputs": [
    {
     "name": "stderr",
     "output_type": "stream",
     "text": [
      "C:\\Users\\user\\anaconda3\\lib\\site-packages\\ipykernel_launcher.py:1: DeprecationWarning: This method will be removed in future versions.  Use 'list(elem)' or iteration over elem instead.\n",
      "  \"\"\"Entry point for launching an IPython kernel.\n"
     ]
    },
    {
     "data": {
      "text/plain": [
       "[<Element 'to' at 0x000002464D8434F8>,\n",
       " <Element 'from' at 0x000002464D8430E8>,\n",
       " <Element 'heading' at 0x000002464D8439F8>,\n",
       " <Element 'body' at 0x000002464D843A48>]"
      ]
     },
     "execution_count": 28,
     "metadata": {},
     "output_type": "execute_result"
    }
   ],
   "source": [
    "note.getchildren() #모든 태그 반환 "
   ]
  },
  {
   "cell_type": "code",
   "execution_count": 29,
   "metadata": {},
   "outputs": [
    {
     "data": {
      "text/plain": [
       "<_elementtree._element_iterator at 0x2464d85a048>"
      ]
     },
     "execution_count": 29,
     "metadata": {},
     "output_type": "execute_result"
    }
   ],
   "source": [
    "#getiterator()는 ()안에 특정 태그명만 받을수 있음.\n",
    "note.getiterator('body')"
   ]
  },
  {
   "cell_type": "code",
   "execution_count": null,
   "metadata": {},
   "outputs": [],
   "source": []
  }
 ],
 "metadata": {
  "kernelspec": {
   "display_name": "Python 3",
   "language": "python",
   "name": "python3"
  },
  "language_info": {
   "codemirror_mode": {
    "name": "ipython",
    "version": 3
   },
   "file_extension": ".py",
   "mimetype": "text/x-python",
   "name": "python",
   "nbconvert_exporter": "python",
   "pygments_lexer": "ipython3",
   "version": "3.7.6"
  }
 },
 "nbformat": 4,
 "nbformat_minor": 4
}
