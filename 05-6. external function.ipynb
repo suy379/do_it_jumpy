{
 "cells": [
  {
   "cell_type": "markdown",
   "metadata": {},
   "source": [
    "## 05-6. 외장함수\n",
    "- 내장함수와는 달리, 외부의 함수를 이용함. -> 라이브러리를 import하여 사용!\n",
    "- __(참고) 밑의 내용을 도스에서 실행할 때, `python > import 외장함수들` 을 해서 공부하기! 그리고 파이썬 인터프레터를 빠져나가고 싶으면 import sys>sys.exit()를 하면 되는데, 그냥 외장함수 또다른거 실행하기 위해서라면 굳이 sys.exit할필요 없고 그냥 그상태 그대로` import 또다른 외장함수` 하면 된다!__"
   ]
  },
  {
   "cell_type": "markdown",
   "metadata": {},
   "source": [
    "### sys\n",
    "- 파이썬 인터프레터가 제공하는 변수들&함수들을 직접 제어할수 있게 해주는 모듈\n",
    "- 이 부분은 파이참&도스를 이용해서 해야 함.\n",
    "- 이 부분은 모듈들이 있어서 그 경로로 이동한 후에 실행해야 함을 잊지말것!(근데 sys 뒤에 나오는 함수들은 안그래도 된다.. *물론 경로를 지정해서(보통은 C:\\Python) 함수들을 실행하는 편이 좋긴 하다*)\n",
    "---\n",
    "- 파이참에 argv_test.py 생성 (얘는 __print(sys.argv)__가 있는 모듈)\n",
    "- __`sys.argv`__: 명령 행에서 인수를 전달하는 역할.(즉, print(sys.argv)를 하면 모듈파일과 그 뒤에 입력된 값들이 하나씩 리스트의 요소에 담겨 출력됨)\n",
    "- cmd> cd 경로(C:\\Python\\mymodule)> python argv_test.py you need python ----> ['argv_test.py', 'you', 'need', 'python']\n",
    "---\n",
    "- __`sys.exit`__: 강제로 스크립트 종료. 이건 도스 창에서 python으로 들어가 모듈, 패키지 등을 실행 후, 이 파이썬 인터프레터를 빠져나가고 싶을 경우\n",
    "- `도스> import sys > sys.exit()` : 파이썬 인터프레터 창을 빠져나가서 다시 처음 도스를 킨 화면과 같아짐!! __(대신 python을 다시 쳐줘야 한다)__\n",
    "---\n",
    "- __`sys.path`__: 파이썬 모듈들이 저장된 위치를 출력. 여기에 있는 위치들은 경로에 상관없이 어디에서나 불러올 수 있다.\n",
    "- 도스> python > import sys>sys.path 출력 - 여기에 sys.path.append(원하는 경로 추가) 를 해도 되고\n",
    "- 책에서는 'path_append.py' 모듈을 만들고, 도스>cd 경로> python> import path_append > import sys > sys.path 출력 (그럼 mymodule이라는 경로가 추가돼있는 것을 확인할 수 있다)"
   ]
  },
  {
   "cell_type": "code",
   "execution_count": 1,
   "metadata": {},
   "outputs": [],
   "source": [
    "#쥬피터에서 실행해보면..\n",
    "import sys"
   ]
  },
  {
   "cell_type": "code",
   "execution_count": 2,
   "metadata": {},
   "outputs": [
    {
     "name": "stdout",
     "output_type": "stream",
     "text": [
      "['C:\\\\Users\\\\user\\\\Desktop\\\\[2021] Jump_to_Python', 'C:\\\\Users\\\\user\\\\anaconda3\\\\python37.zip', 'C:\\\\Users\\\\user\\\\anaconda3\\\\DLLs', 'C:\\\\Users\\\\user\\\\anaconda3\\\\lib', 'C:\\\\Users\\\\user\\\\anaconda3', '', 'C:\\\\Users\\\\user\\\\anaconda3\\\\lib\\\\site-packages', 'C:\\\\Users\\\\user\\\\anaconda3\\\\lib\\\\site-packages\\\\win32', 'C:\\\\Users\\\\user\\\\anaconda3\\\\lib\\\\site-packages\\\\win32\\\\lib', 'C:\\\\Users\\\\user\\\\anaconda3\\\\lib\\\\site-packages\\\\Pythonwin', 'C:\\\\Users\\\\user\\\\anaconda3\\\\lib\\\\site-packages\\\\IPython\\\\extensions', 'C:\\\\Users\\\\user\\\\.ipython']\n"
     ]
    }
   ],
   "source": [
    "print(sys.path) "
   ]
  },
  {
   "cell_type": "code",
   "execution_count": 4,
   "metadata": {},
   "outputs": [
    {
     "name": "stdout",
     "output_type": "stream",
     "text": [
      "['C:\\\\Users\\\\user\\\\anaconda3\\\\lib\\\\site-packages\\\\ipykernel_launcher.py', '-f', 'C:\\\\Users\\\\user\\\\AppData\\\\Roaming\\\\jupyter\\\\runtime\\\\kernel-aaba2125-0ba5-4bba-b690-a8daee4ab08d.json']\n"
     ]
    }
   ],
   "source": [
    "print(sys.argv)  #현재의 이 쥬피터 파일에 대한 argv가 출력돼서 실제 도스 창에서 하는것과는 차이가 있음."
   ]
  },
  {
   "cell_type": "markdown",
   "metadata": {},
   "source": [
    "### pickle\n",
    "- 객체의 형태를 __\"그대로\"__ 유지하면서 파일에 저장하고 불러올 수 있게 하는 모듈 \n",
    "---\n",
    "- `도스> python> import pickle`\n",
    "- __`pickle.dump(data, 파일명)`__ : data를 파일에 \"원본 그대로\" 저장함. / f=open('test.txt','wb') > data={1:'python',2:'you need'} > pickle.dump(data, f) > f.close() ---> 여기서는 data를 원본 그대로인 딕셔너리 형태로 저장함.\n",
    "- __`pickle.load(파일명)`__ : 파일을 \"원본 그대로\" 불러오기. / f=open('test.txt','rb') > pickle.load(f)"
   ]
  },
  {
   "cell_type": "code",
   "execution_count": 3,
   "metadata": {},
   "outputs": [],
   "source": [
    "import pickle"
   ]
  },
  {
   "cell_type": "code",
   "execution_count": 8,
   "metadata": {},
   "outputs": [],
   "source": [
    "f=open('test.txt','wb')\n",
    "data={1:'python',2:'you need'}\n",
    "pickle.dump(data, f) \n",
    "f.close() "
   ]
  },
  {
   "cell_type": "code",
   "execution_count": 9,
   "metadata": {},
   "outputs": [
    {
     "data": {
      "text/plain": [
       "{1: 'python', 2: 'you need'}"
      ]
     },
     "execution_count": 9,
     "metadata": {},
     "output_type": "execute_result"
    }
   ],
   "source": [
    "f=open('test.txt','rb')\n",
    "pickle.load(f)"
   ]
  },
  {
   "cell_type": "markdown",
   "metadata": {},
   "source": [
    "### OS 모듈\n",
    "- 환경 변수, 디렉터리, 파일 등의 OS 자원을 제어할 수 있게 해주는 모듈\n",
    "---\n",
    "- `도스> python > import os`\n",
    "- __`os.environ`__ : 현재 시스템의 환경변수 값들을 보여줌(딕셔너리로 리턴)\n",
    "- __`os.chdir(new디렉터리)`__ : 현재 디렉터리 위치를 new디렉터리로 변경\n",
    "- __`os.getcwd()`__ : 현재 디렉터리 위치 출력\n",
    "- __`os.system()`__ : 시스템 명령어 호출 ex) os.system('dir'): 현재 디렉터리 내의 파일들 출력 \n",
    "- __` f= os.popen('dir')`__: 시스템 명령어를 실행한 결과값을 리턴. -->여기선 print(f.read())로 더 읽기 쉽게 출력가능\n",
    "- __`os.mkdir(new디렉터리)`__ : new디렉터리 생성 ex) os.mkdir('sy') ->'sy'라는 파일 생성\n",
    "- __`os.rmdir(디렉터리)`__ : 디렉터리를 삭제 ex) os.rmdir('sy') -> 'sy'라는 파일 삭제됨"
   ]
  },
  {
   "cell_type": "code",
   "execution_count": 1,
   "metadata": {},
   "outputs": [],
   "source": [
    "import os"
   ]
  },
  {
   "cell_type": "code",
   "execution_count": 11,
   "metadata": {
    "scrolled": true
   },
   "outputs": [
    {
     "data": {
      "text/plain": [
       "environ{'ALLUSERSPROFILE': 'C:\\\\ProgramData',\n",
       "        'APPDATA': 'C:\\\\Users\\\\user\\\\AppData\\\\Roaming',\n",
       "        'COMMONPROGRAMFILES': 'C:\\\\Program Files\\\\Common Files',\n",
       "        'COMMONPROGRAMFILES(X86)': 'C:\\\\Program Files (x86)\\\\Common Files',\n",
       "        'COMMONPROGRAMW6432': 'C:\\\\Program Files\\\\Common Files',\n",
       "        'COMPUTERNAME': 'LAPTOP-LC38ID5H',\n",
       "        'COMSPEC': 'C:\\\\WINDOWS\\\\system32\\\\cmd.exe',\n",
       "        'CONDA_DEFAULT_ENV': 'base',\n",
       "        'CONDA_EXE': 'C:\\\\Users\\\\user\\\\anaconda3\\\\Scripts\\\\conda.exe',\n",
       "        'CONDA_PREFIX': 'C:\\\\Users\\\\user\\\\anaconda3',\n",
       "        'CONDA_PROMPT_MODIFIER': '(base) ',\n",
       "        'CONDA_PYTHON_EXE': 'C:\\\\Users\\\\user\\\\anaconda3\\\\python.exe',\n",
       "        'CONDA_SHLVL': '1',\n",
       "        'DRIVERDATA': 'C:\\\\Windows\\\\System32\\\\Drivers\\\\DriverData',\n",
       "        'FPS_BROWSER_APP_PROFILE_STRING': 'Internet Explorer',\n",
       "        'FPS_BROWSER_USER_PROFILE_STRING': 'Default',\n",
       "        'HOMEDRIVE': 'C:',\n",
       "        'HOMEPATH': '\\\\Users\\\\user',\n",
       "        'JAVA_HOME': 'C:\\\\Program Files\\\\Java\\\\jdk1.8.0_202',\n",
       "        'LOCALAPPDATA': 'C:\\\\Users\\\\user\\\\AppData\\\\Local',\n",
       "        'LOGONSERVER': '\\\\\\\\LAPTOP-LC38ID5H',\n",
       "        'NUMBER_OF_PROCESSORS': '4',\n",
       "        'ONEDRIVE': 'C:\\\\Users\\\\user\\\\OneDrive',\n",
       "        'OS': 'Windows_NT',\n",
       "        'PATH': 'C:\\\\Users\\\\user\\\\anaconda3;C:\\\\Users\\\\user\\\\anaconda3\\\\Library\\\\mingw-w64\\\\bin;C:\\\\Users\\\\user\\\\anaconda3\\\\Library\\\\usr\\\\bin;C:\\\\Users\\\\user\\\\anaconda3\\\\Library\\\\bin;C:\\\\Users\\\\user\\\\anaconda3\\\\Scripts;C:\\\\Users\\\\user\\\\anaconda3\\\\bin;C:\\\\Users\\\\user\\\\anaconda3\\\\condabin;C:\\\\Program Files (x86)\\\\Common Files\\\\Oracle\\\\Java\\\\javapath;C:\\\\Program Files (x86)\\\\Intel\\\\iCLS Client;C:\\\\Program Files\\\\Intel\\\\iCLS Client;C:\\\\WINDOWS\\\\system32;C:\\\\WINDOWS;C:\\\\WINDOWS\\\\System32\\\\Wbem;C:\\\\WINDOWS\\\\System32\\\\WindowsPowerShell\\\\v1.0;C:\\\\Program Files\\\\Intel\\\\WiFi\\\\bin;C:\\\\Program Files\\\\Common Files\\\\Intel\\\\WirelessCommon;C:\\\\WINDOWS\\\\System32\\\\OpenSSH;C:\\\\Program Files (x86)\\\\Intel\\\\Intel(R) Management Engine Components\\\\DAL;C:\\\\Program Files\\\\Intel\\\\Intel(R) Management Engine Components\\\\DAL;C:\\\\Program Files (x86)\\\\Intel\\\\Intel(R) Management Engine Components\\\\IPT;C:\\\\Program Files\\\\Intel\\\\Intel(R) Management Engine Components\\\\IPT;C:\\\\Program Files\\\\Java\\\\jdk1.8.0_202\\\\bin;C:\\\\Users\\\\user\\\\AppData\\\\Local\\\\Microsoft\\\\WindowsApps;C:\\\\Program Files\\\\Intel\\\\WiFi\\\\bin;C:\\\\Program Files\\\\Common Files\\\\Intel\\\\WirelessCommon;C:\\\\Users\\\\user\\\\AppData\\\\Roaming\\\\TinyTeX\\\\bin\\\\win32',\n",
       "        'PATHEXT': '.COM;.EXE;.BAT;.CMD;.VBS;.VBE;.JS;.JSE;.WSF;.WSH;.MSC',\n",
       "        'PROCESSOR_ARCHITECTURE': 'AMD64',\n",
       "        'PROCESSOR_IDENTIFIER': 'Intel64 Family 6 Model 78 Stepping 3, GenuineIntel',\n",
       "        'PROCESSOR_LEVEL': '6',\n",
       "        'PROCESSOR_REVISION': '4e03',\n",
       "        'PROGRAMDATA': 'C:\\\\ProgramData',\n",
       "        'PROGRAMFILES': 'C:\\\\Program Files',\n",
       "        'PROGRAMFILES(X86)': 'C:\\\\Program Files (x86)',\n",
       "        'PROGRAMW6432': 'C:\\\\Program Files',\n",
       "        'PROMPT': '(base) $P$G',\n",
       "        'PSMODULEPATH': 'C:\\\\Program Files\\\\WindowsPowerShell\\\\Modules;C:\\\\WINDOWS\\\\system32\\\\WindowsPowerShell\\\\v1.0\\\\Modules',\n",
       "        'PUBLIC': 'C:\\\\Users\\\\Public',\n",
       "        'SESSIONNAME': 'Console',\n",
       "        'SYSTEMDRIVE': 'C:',\n",
       "        'SYSTEMROOT': 'C:\\\\WINDOWS',\n",
       "        'TEMP': 'C:\\\\Users\\\\user\\\\AppData\\\\Local\\\\Temp',\n",
       "        'TMP': 'C:\\\\Users\\\\user\\\\AppData\\\\Local\\\\Temp',\n",
       "        'USERDOMAIN': 'LAPTOP-LC38ID5H',\n",
       "        'USERDOMAIN_ROAMINGPROFILE': 'LAPTOP-LC38ID5H',\n",
       "        'USERNAME': 'user',\n",
       "        'USERPROFILE': 'C:\\\\Users\\\\user',\n",
       "        'WINDIR': 'C:\\\\WINDOWS',\n",
       "        'KERNEL_LAUNCH_TIMEOUT': '40',\n",
       "        'JPY_INTERRUPT_EVENT': '2832',\n",
       "        'IPY_INTERRUPT_EVENT': '2832',\n",
       "        'JPY_PARENT_PID': '2776',\n",
       "        'TERM': 'xterm-color',\n",
       "        'CLICOLOR': '1',\n",
       "        'PAGER': 'cat',\n",
       "        'GIT_PAGER': 'cat',\n",
       "        'MPLBACKEND': 'module://ipykernel.pylab.backend_inline'}"
      ]
     },
     "execution_count": 11,
     "metadata": {},
     "output_type": "execute_result"
    }
   ],
   "source": [
    "os.environ"
   ]
  },
  {
   "cell_type": "code",
   "execution_count": 2,
   "metadata": {},
   "outputs": [
    {
     "data": {
      "text/plain": [
       "'C:\\\\Users\\\\user\\\\Desktop\\\\[2021] Jump_to_Python'"
      ]
     },
     "execution_count": 2,
     "metadata": {},
     "output_type": "execute_result"
    }
   ],
   "source": [
    "os.getcwd() #현재 디렉터리 위치"
   ]
  },
  {
   "cell_type": "code",
   "execution_count": 3,
   "metadata": {},
   "outputs": [
    {
     "data": {
      "text/plain": [
       "['.ipynb_checkpoints',\n",
       " '02-1,2. 숫자열, 문자열(str) +예제.ipynb',\n",
       " '02-3,4. 리스트, 튜플.ipynb',\n",
       " '02-5,6. 딕셔너리, 집합.ipynb',\n",
       " '02. 연습문제.ipynb',\n",
       " '03-1,2,3. 제어문(if,while,for).ipynb',\n",
       " '03. 연습문제.ipynb',\n",
       " '04-1,2,3. 프로그램의 입력과 출력.ipynb',\n",
       " '04. 연습문제.ipynb',\n",
       " '05-1. 클래스.ipynb',\n",
       " '05-2,3,4. 모듈, 패키지, 오류 회피.ipynb',\n",
       " '05-5. 내장함수.ipynb',\n",
       " '05-6. 외장함수.ipynb',\n",
       " '05. 연습문제.ipynb',\n",
       " 'binary_file',\n",
       " 'ffoo2.txt',\n",
       " 'foo.txt',\n",
       " 'foo2.txt',\n",
       " 'newtest.txt',\n",
       " 'result.txt',\n",
       " 'result2.txt',\n",
       " 'sample.txt',\n",
       " 'sy',\n",
       " 'test.txt',\n",
       " '새파일.txt']"
      ]
     },
     "execution_count": 3,
     "metadata": {},
     "output_type": "execute_result"
    }
   ],
   "source": [
    "os.listdir() #현재 디렉터리 내의 파일들을 *리스트*로 출력!"
   ]
  },
  {
   "cell_type": "code",
   "execution_count": 13,
   "metadata": {},
   "outputs": [
    {
     "data": {
      "text/plain": [
       "0"
      ]
     },
     "execution_count": 13,
     "metadata": {},
     "output_type": "execute_result"
    }
   ],
   "source": [
    "os.system('dir') #쥬피터에선 출력을 못해준다!"
   ]
  },
  {
   "cell_type": "code",
   "execution_count": 16,
   "metadata": {
    "scrolled": true
   },
   "outputs": [
    {
     "data": {
      "text/plain": [
       "[' C 드라이브의 볼륨에는 이름이 없습니다.\\n',\n",
       " ' 볼륨 일련 번호: 165D-E1CB\\n',\n",
       " '\\n',\n",
       " ' C:\\\\Users\\\\user\\\\Desktop\\\\[2021] Jump_to_Python 디렉터리\\n',\n",
       " '\\n',\n",
       " '2021-01-31  오전 12:50    <DIR>          .\\n',\n",
       " '2021-01-31  오전 12:50    <DIR>          ..\\n',\n",
       " '2021-01-30  오후 11:46    <DIR>          .ipynb_checkpoints\\n',\n",
       " '2021-01-24  오전 12:09            45,604 02-1,2. 숫자열, 문자열(str).ipynb\\n',\n",
       " '2021-01-23  오후 05:27            35,461 02-3,4. 리스트, 튜플.ipynb\\n',\n",
       " '2021-01-25  오전 02:01            39,588 02-5,6. 딕셔너리, 집합.ipynb\\n',\n",
       " '2021-01-24  오후 05:12             4,435 02. 연습문제.ipynb\\n',\n",
       " '2021-01-27  오전 01:02         2,348,069 03-1,2,3. 제어문(if,while,for).ipynb\\n',\n",
       " '2021-01-26  오후 07:55             2,199 03. 연습문제.ipynb\\n',\n",
       " '2021-01-27  오후 11:44            38,534 04-1,2,3. 프로그램의 입력과 출력.ipynb\\n',\n",
       " '2021-01-27  오후 04:41             3,726 04. 연습문제.ipynb\\n',\n",
       " '2021-01-29  오전 02:51            38,191 05-1. 클래스.ipynb\\n',\n",
       " '2021-01-30  오후 02:58            18,700 05-2,3,4. 모듈, 패키지, 오류 회피.ipynb\\n',\n",
       " '2021-01-30  오후 11:45            50,404 05-5. 내장함수.ipynb\\n',\n",
       " '2021-01-31  오전 12:50            14,759 05-6. 외장함수.ipynb\\n',\n",
       " '2021-01-29  오후 07:08             3,704 05. 연습문제.ipynb\\n',\n",
       " '2021-01-30  오후 06:54                 0 binary_file\\n',\n",
       " '2021-01-29  오후 06:46                 8 ffoo2.txt\\n',\n",
       " '2021-01-27  오후 03:06                35 foo.txt\\n',\n",
       " '2021-01-27  오후 03:07                35 foo2.txt\\n',\n",
       " '2021-01-27  오후 03:39                19 result.txt\\n',\n",
       " '2021-01-27  오후 03:45                 4 result2.txt\\n',\n",
       " '2021-01-27  오후 03:33                39 sample.txt\\n',\n",
       " '2021-01-31  오전 12:48                40 test.txt\\n',\n",
       " '2021-01-27  오후 02:30                 0 새파일.txt\\n',\n",
       " '              22개 파일           2,643,554 바이트\\n',\n",
       " '               3개 디렉터리  127,196,626,944 바이트 남음\\n']"
      ]
     },
     "execution_count": 16,
     "metadata": {},
     "output_type": "execute_result"
    }
   ],
   "source": [
    "f=os.popen('dir') #이 방법을 쓰면 가능 \n",
    "f.readlines()"
   ]
  },
  {
   "cell_type": "code",
   "execution_count": 17,
   "metadata": {},
   "outputs": [],
   "source": [
    "os.mkdir('sy') "
   ]
  },
  {
   "cell_type": "code",
   "execution_count": 18,
   "metadata": {},
   "outputs": [],
   "source": [
    "os.rmdir('sy')"
   ]
  },
  {
   "cell_type": "markdown",
   "metadata": {},
   "source": [
    "### shutil\n",
    "- 파일을 복사해주는 파이썬 모듈 \n",
    "- 중요한 것은 파일명과 디렉터리명에 따옴표(' ') 쓰기!\n",
    "--- \n",
    "- __`shutil.copy(파일1, 파일2 or 디렉터리)`__ : 파일1을 파일2로 복사함. / 만일 파일2가 디렉터리라면, 해당 디렉터리에 파일1을 복사하고, 동일한 파일명이 있다면 덮어씀.\n",
    "- `도스> cd 경로> python> import shutil> shutil.copy(파일1,파일2)`"
   ]
  },
  {
   "cell_type": "code",
   "execution_count": 19,
   "metadata": {},
   "outputs": [],
   "source": [
    "import shutil"
   ]
  },
  {
   "cell_type": "code",
   "execution_count": 20,
   "metadata": {},
   "outputs": [
    {
     "data": {
      "text/plain": [
       "'sy\\\\test.txt'"
      ]
     },
     "execution_count": 20,
     "metadata": {},
     "output_type": "execute_result"
    }
   ],
   "source": [
    "os.mkdir('sy')\n",
    "shutil.copy('test.txt','sy') #'test.txt'가 'sy'라는 디렉토리에 저장됨."
   ]
  },
  {
   "cell_type": "code",
   "execution_count": 21,
   "metadata": {},
   "outputs": [
    {
     "data": {
      "text/plain": [
       "'newtest.txt'"
      ]
     },
     "execution_count": 21,
     "metadata": {},
     "output_type": "execute_result"
    }
   ],
   "source": [
    "shutil.copy('test.txt','newtest.txt') #'test.txt'의 내용이 새로 만들어진 'newtest.txt'로 복사됨."
   ]
  },
  {
   "cell_type": "markdown",
   "metadata": {},
   "source": [
    "### glob\n",
    "- 특정 디렉토리에 있는 파일명들 모두를 알아야 할 때 사용 \n",
    "---\n",
    "- __`glob(pathname)`__ : 디렉토리에 있는 파일들을 모두 리스트로 만들어 리턴. 메타 문자(*, ?)를 써서 원하는 파일만 읽을 수도 있음"
   ]
  },
  {
   "cell_type": "code",
   "execution_count": 6,
   "metadata": {},
   "outputs": [],
   "source": [
    "import glob"
   ]
  },
  {
   "cell_type": "code",
   "execution_count": 7,
   "metadata": {},
   "outputs": [
    {
     "data": {
      "text/plain": [
       "['C:/Python\\\\sleep1.py',\n",
       " 'C:/Python\\\\src.txt',\n",
       " 'C:/Python\\\\sub_dir_search.py',\n",
       " 'C:/Python\\\\sys1.py',\n",
       " 'C:/Python\\\\sys2.py']"
      ]
     },
     "execution_count": 7,
     "metadata": {},
     "output_type": "execute_result"
    }
   ],
   "source": [
    "#s로 시작하는 모든 파일을 읽어서 리스트로 만들어 리턴.\n",
    "glob.glob('C:/Python/s*')"
   ]
  },
  {
   "cell_type": "markdown",
   "metadata": {},
   "source": [
    "### tempfile\n",
    "- 파일을 임시로 만들어서 사용할 때 사용 \n",
    "- __`tempfile.mktemp()`__ : 중복되지 않는 __임시 파일명__ 을 무작위로 만들어 리턴 \n",
    "- __`tempfile.TemporaryFile()`__ : 중복되지 않는 __임시 파일__ 을 무작위로 만들어 리턴(단, 임시 파일이므로 진짜 파일이 생성되는 건 아님)"
   ]
  },
  {
   "cell_type": "code",
   "execution_count": 3,
   "metadata": {},
   "outputs": [],
   "source": [
    "import tempfile"
   ]
  },
  {
   "cell_type": "code",
   "execution_count": 4,
   "metadata": {},
   "outputs": [
    {
     "data": {
      "text/plain": [
       "'C:\\\\Users\\\\user\\\\AppData\\\\Local\\\\Temp\\\\tmp839udl_o'"
      ]
     },
     "execution_count": 4,
     "metadata": {},
     "output_type": "execute_result"
    }
   ],
   "source": [
    "#mktemp를 쓴다고 해서 새로운 파일이 생기는 건 아니고, 중복되지 않는 새로운 파일명을 반환해줌.\n",
    "file = tempfile.mktemp()\n",
    "file"
   ]
  },
  {
   "cell_type": "code",
   "execution_count": 5,
   "metadata": {},
   "outputs": [],
   "source": [
    "#TemporaryFile을 쓰면 임시 저장 공간으로 사용될 파일 객체 리턴함.(즉 임시저장되는 거라서 파일이 생성되지는 않음)\n",
    "f=tempfile.TemporaryFile()"
   ]
  },
  {
   "cell_type": "code",
   "execution_count": 6,
   "metadata": {},
   "outputs": [],
   "source": [
    "f.close() #이 코드를 쓰면 생성했던 임시파일이 자동삭제됨."
   ]
  },
  {
   "cell_type": "markdown",
   "metadata": {},
   "source": [
    "### time\n",
    "- 시간과 관련된 모듈로, 유용한 함수가 많음.\n",
    "---\n",
    "- __`time.time()`__ : 현재 시간을 실수 형태로 리턴함.\n",
    "- __`time.localtime(time.time())`__ : 위의 time.time의 값을 연도, 월, 일, 시, 분, 초,...의 형태로 바꿔 리턴함.\n",
    "- __`time.asctime(time.localtime(time.time()))`__ : 위의 값을 다시 날짜와 시간을 알아보기 쉬운 형태로 바꿔 리턴함. (= `time.ctime()`)\n",
    "- __`time.strftime('출력할 형식 포맷 코드', time.localtime(time.time()))`__ : time.time의 값을 포맷 코드에 맞춰 리턴함.\n",
    "- __`time.sleep(초)`__ : 주로 루프(loop)안에서 많이 사용되며, 초로 설정한 시간 간격을 두고 루프가 실행되도록 함."
   ]
  },
  {
   "cell_type": "code",
   "execution_count": 7,
   "metadata": {},
   "outputs": [],
   "source": [
    "import time"
   ]
  },
  {
   "cell_type": "code",
   "execution_count": 11,
   "metadata": {},
   "outputs": [
    {
     "data": {
      "text/plain": [
       "1612074324.3024151"
      ]
     },
     "execution_count": 11,
     "metadata": {},
     "output_type": "execute_result"
    }
   ],
   "source": [
    "#현재의 시간을, 1970년 1월 1일 0시 0분 0초를 기준으로 지난 시간을 초단위로 리턴.\n",
    "time.time()"
   ]
  },
  {
   "cell_type": "code",
   "execution_count": 12,
   "metadata": {},
   "outputs": [
    {
     "data": {
      "text/plain": [
       "time.struct_time(tm_year=2021, tm_mon=1, tm_mday=31, tm_hour=15, tm_min=26, tm_sec=4, tm_wday=6, tm_yday=31, tm_isdst=0)"
      ]
     },
     "execution_count": 12,
     "metadata": {},
     "output_type": "execute_result"
    }
   ],
   "source": [
    "#위의 값을 더 알아보기 쉽게 바꿈 \n",
    "time.localtime(time.time())"
   ]
  },
  {
   "cell_type": "code",
   "execution_count": 13,
   "metadata": {},
   "outputs": [
    {
     "data": {
      "text/plain": [
       "'Sun Jan 31 15:27:11 2021'"
      ]
     },
     "execution_count": 13,
     "metadata": {},
     "output_type": "execute_result"
    }
   ],
   "source": [
    "#위의 localtime을 더 알아보기 쉽게 바꿈\n",
    "time.asctime(time.localtime(time.time()))"
   ]
  },
  {
   "cell_type": "code",
   "execution_count": 14,
   "metadata": {},
   "outputs": [
    {
     "data": {
      "text/plain": [
       "'Sun Jan 31 15:28:25 2021'"
      ]
     },
     "execution_count": 14,
     "metadata": {},
     "output_type": "execute_result"
    }
   ],
   "source": [
    "#앞의 asctime과 같은 기능. 단 ctime은 항상 현재 시간만을 리턴함.\n",
    "time.ctime()"
   ]
  },
  {
   "cell_type": "code",
   "execution_count": 15,
   "metadata": {},
   "outputs": [
    {
     "data": {
      "text/plain": [
       "'01/31/21'"
      ]
     },
     "execution_count": 15,
     "metadata": {},
     "output_type": "execute_result"
    }
   ],
   "source": [
    "#time.strftime은 형식 포맷 코드가 다양하게 제공되어 있음.\n",
    "time.strftime('%x', time.localtime(time.time()))"
   ]
  },
  {
   "cell_type": "code",
   "execution_count": 16,
   "metadata": {},
   "outputs": [
    {
     "data": {
      "text/plain": [
       "'Sun Jan 31 15:30:33 2021'"
      ]
     },
     "execution_count": 16,
     "metadata": {},
     "output_type": "execute_result"
    }
   ],
   "source": [
    "time.strftime('%c', time.localtime(time.time()))"
   ]
  },
  {
   "cell_type": "code",
   "execution_count": 17,
   "metadata": {},
   "outputs": [
    {
     "name": "stdout",
     "output_type": "stream",
     "text": [
      "Sun\n",
      "Sunday\n",
      "Jan\n",
      "January\n"
     ]
    }
   ],
   "source": [
    "print(time.strftime('%a', time.localtime(time.time())))\n",
    "print(time.strftime('%A', time.localtime(time.time())))\n",
    "print(time.strftime('%b', time.localtime(time.time())))\n",
    "print(time.strftime('%B', time.localtime(time.time())))"
   ]
  },
  {
   "cell_type": "code",
   "execution_count": 18,
   "metadata": {},
   "outputs": [
    {
     "name": "stdout",
     "output_type": "stream",
     "text": [
      "15\n",
      "01\n",
      "31\n",
      "0\n",
      "2021\n",
      "%\n"
     ]
    }
   ],
   "source": [
    "print(time.strftime('%H', time.localtime(time.time())))\n",
    "print(time.strftime('%m', time.localtime(time.time())))\n",
    "print(time.strftime('%d', time.localtime(time.time())))\n",
    "print(time.strftime('%w', time.localtime(time.time()))) #요일을 숫자 출력. 일요일이 0\n",
    "print(time.strftime('%Y', time.localtime(time.time())))\n",
    "print(time.strftime('%%', time.localtime(time.time()))) #그냥 %뒤의 문자 출력 "
   ]
  },
  {
   "cell_type": "code",
   "execution_count": 19,
   "metadata": {},
   "outputs": [
    {
     "name": "stdout",
     "output_type": "stream",
     "text": [
      "0\n",
      "1\n",
      "2\n",
      "3\n",
      "4\n",
      "5\n",
      "6\n",
      "7\n",
      "8\n",
      "9\n"
     ]
    }
   ],
   "source": [
    "#time.sleep은 주로 loop 안에서 많이 사용됨 - 일정한 시간 간격을 두고 루프를 실행하도록 함 \n",
    "## 이부분은 파이참에 sleep1.py로 저장하였음. 도스>cd 경로>python sleep1.py로 자동실행해보자!\n",
    "import time\n",
    "for i in range(10):\n",
    "    print(i)\n",
    "    time.sleep(1) #1초마다 루프 실행(출력)"
   ]
  },
  {
   "cell_type": "code",
   "execution_count": 20,
   "metadata": {},
   "outputs": [
    {
     "name": "stdout",
     "output_type": "stream",
     "text": [
      "0\n",
      "1\n",
      "2\n",
      "3\n",
      "4\n",
      "5\n",
      "6\n",
      "7\n",
      "8\n",
      "9\n"
     ]
    }
   ],
   "source": [
    "import time\n",
    "for i in range(10):\n",
    "    print(i)\n",
    "    time.sleep(0.5) #1초마다 루프 실행(출력)"
   ]
  },
  {
   "cell_type": "markdown",
   "metadata": {},
   "source": [
    "### calendar\n",
    "- 파이썬에서 달력을 볼 수 있게 해주는 모듈 / 달력을 도스>python 인터프레터 창에서 수행하면 안짤리고 잘 맞춰져서 나옴!\n",
    "---\n",
    "- `calendar.calendar(연도)`: 그 해의 전체 달력을 볼 수 있음. (=`calendar.prcal(연도)`)\n",
    "- __`calendar.prmonth(연도,월)`__ : 그 해의 그 월의 달력만 보여줌.\n",
    "- __`calendar.weekday(연도,월,일)`__ : 이 날의 요일을 리턴함.(월:0~일:6)\n",
    "- __`calendar.monthrange(연도,월)`__ : 입력받은 달의 1일이 무슨 요일인지&그 달이 며칠까지 있는지 튜플 형태로 리턴함."
   ]
  },
  {
   "cell_type": "code",
   "execution_count": 23,
   "metadata": {},
   "outputs": [],
   "source": [
    "import calendar"
   ]
  },
  {
   "cell_type": "code",
   "execution_count": 24,
   "metadata": {
    "scrolled": true
   },
   "outputs": [
    {
     "name": "stdout",
     "output_type": "stream",
     "text": [
      "                                  2021\n",
      "\n",
      "      January                   February                   March\n",
      "Mo Tu We Th Fr Sa Su      Mo Tu We Th Fr Sa Su      Mo Tu We Th Fr Sa Su\n",
      "             1  2  3       1  2  3  4  5  6  7       1  2  3  4  5  6  7\n",
      " 4  5  6  7  8  9 10       8  9 10 11 12 13 14       8  9 10 11 12 13 14\n",
      "11 12 13 14 15 16 17      15 16 17 18 19 20 21      15 16 17 18 19 20 21\n",
      "18 19 20 21 22 23 24      22 23 24 25 26 27 28      22 23 24 25 26 27 28\n",
      "25 26 27 28 29 30 31                                29 30 31\n",
      "\n",
      "       April                      May                       June\n",
      "Mo Tu We Th Fr Sa Su      Mo Tu We Th Fr Sa Su      Mo Tu We Th Fr Sa Su\n",
      "          1  2  3  4                      1  2          1  2  3  4  5  6\n",
      " 5  6  7  8  9 10 11       3  4  5  6  7  8  9       7  8  9 10 11 12 13\n",
      "12 13 14 15 16 17 18      10 11 12 13 14 15 16      14 15 16 17 18 19 20\n",
      "19 20 21 22 23 24 25      17 18 19 20 21 22 23      21 22 23 24 25 26 27\n",
      "26 27 28 29 30            24 25 26 27 28 29 30      28 29 30\n",
      "                          31\n",
      "\n",
      "        July                     August                  September\n",
      "Mo Tu We Th Fr Sa Su      Mo Tu We Th Fr Sa Su      Mo Tu We Th Fr Sa Su\n",
      "          1  2  3  4                         1             1  2  3  4  5\n",
      " 5  6  7  8  9 10 11       2  3  4  5  6  7  8       6  7  8  9 10 11 12\n",
      "12 13 14 15 16 17 18       9 10 11 12 13 14 15      13 14 15 16 17 18 19\n",
      "19 20 21 22 23 24 25      16 17 18 19 20 21 22      20 21 22 23 24 25 26\n",
      "26 27 28 29 30 31         23 24 25 26 27 28 29      27 28 29 30\n",
      "                          30 31\n",
      "\n",
      "      October                   November                  December\n",
      "Mo Tu We Th Fr Sa Su      Mo Tu We Th Fr Sa Su      Mo Tu We Th Fr Sa Su\n",
      "             1  2  3       1  2  3  4  5  6  7             1  2  3  4  5\n",
      " 4  5  6  7  8  9 10       8  9 10 11 12 13 14       6  7  8  9 10 11 12\n",
      "11 12 13 14 15 16 17      15 16 17 18 19 20 21      13 14 15 16 17 18 19\n",
      "18 19 20 21 22 23 24      22 23 24 25 26 27 28      20 21 22 23 24 25 26\n",
      "25 26 27 28 29 30 31      29 30                     27 28 29 30 31\n",
      "\n"
     ]
    }
   ],
   "source": [
    "print(calendar.calendar(2021))"
   ]
  },
  {
   "cell_type": "code",
   "execution_count": 25,
   "metadata": {
    "scrolled": true
   },
   "outputs": [
    {
     "name": "stdout",
     "output_type": "stream",
     "text": [
      "                                  2021\n",
      "\n",
      "      January                   February                   March\n",
      "Mo Tu We Th Fr Sa Su      Mo Tu We Th Fr Sa Su      Mo Tu We Th Fr Sa Su\n",
      "             1  2  3       1  2  3  4  5  6  7       1  2  3  4  5  6  7\n",
      " 4  5  6  7  8  9 10       8  9 10 11 12 13 14       8  9 10 11 12 13 14\n",
      "11 12 13 14 15 16 17      15 16 17 18 19 20 21      15 16 17 18 19 20 21\n",
      "18 19 20 21 22 23 24      22 23 24 25 26 27 28      22 23 24 25 26 27 28\n",
      "25 26 27 28 29 30 31                                29 30 31\n",
      "\n",
      "       April                      May                       June\n",
      "Mo Tu We Th Fr Sa Su      Mo Tu We Th Fr Sa Su      Mo Tu We Th Fr Sa Su\n",
      "          1  2  3  4                      1  2          1  2  3  4  5  6\n",
      " 5  6  7  8  9 10 11       3  4  5  6  7  8  9       7  8  9 10 11 12 13\n",
      "12 13 14 15 16 17 18      10 11 12 13 14 15 16      14 15 16 17 18 19 20\n",
      "19 20 21 22 23 24 25      17 18 19 20 21 22 23      21 22 23 24 25 26 27\n",
      "26 27 28 29 30            24 25 26 27 28 29 30      28 29 30\n",
      "                          31\n",
      "\n",
      "        July                     August                  September\n",
      "Mo Tu We Th Fr Sa Su      Mo Tu We Th Fr Sa Su      Mo Tu We Th Fr Sa Su\n",
      "          1  2  3  4                         1             1  2  3  4  5\n",
      " 5  6  7  8  9 10 11       2  3  4  5  6  7  8       6  7  8  9 10 11 12\n",
      "12 13 14 15 16 17 18       9 10 11 12 13 14 15      13 14 15 16 17 18 19\n",
      "19 20 21 22 23 24 25      16 17 18 19 20 21 22      20 21 22 23 24 25 26\n",
      "26 27 28 29 30 31         23 24 25 26 27 28 29      27 28 29 30\n",
      "                          30 31\n",
      "\n",
      "      October                   November                  December\n",
      "Mo Tu We Th Fr Sa Su      Mo Tu We Th Fr Sa Su      Mo Tu We Th Fr Sa Su\n",
      "             1  2  3       1  2  3  4  5  6  7             1  2  3  4  5\n",
      " 4  5  6  7  8  9 10       8  9 10 11 12 13 14       6  7  8  9 10 11 12\n",
      "11 12 13 14 15 16 17      15 16 17 18 19 20 21      13 14 15 16 17 18 19\n",
      "18 19 20 21 22 23 24      22 23 24 25 26 27 28      20 21 22 23 24 25 26\n",
      "25 26 27 28 29 30 31      29 30                     27 28 29 30 31\n",
      "None\n"
     ]
    }
   ],
   "source": [
    "print(calendar.prcal(2021)) #같은 결과"
   ]
  },
  {
   "cell_type": "code",
   "execution_count": 28,
   "metadata": {},
   "outputs": [
    {
     "name": "stdout",
     "output_type": "stream",
     "text": [
      "    January 2021\n",
      "Mo Tu We Th Fr Sa Su\n",
      "             1  2  3\n",
      " 4  5  6  7  8  9 10\n",
      "11 12 13 14 15 16 17\n",
      "18 19 20 21 22 23 24\n",
      "25 26 27 28 29 30 31\n"
     ]
    }
   ],
   "source": [
    "calendar.prmonth(2021,1)"
   ]
  },
  {
   "cell_type": "code",
   "execution_count": 29,
   "metadata": {},
   "outputs": [
    {
     "data": {
      "text/plain": [
       "6"
      ]
     },
     "execution_count": 29,
     "metadata": {},
     "output_type": "execute_result"
    }
   ],
   "source": [
    "calendar.weekday(2021,1,31) #2021-1-31은 일요일(6)"
   ]
  },
  {
   "cell_type": "code",
   "execution_count": 30,
   "metadata": {},
   "outputs": [
    {
     "data": {
      "text/plain": [
       "(0, 28)"
      ]
     },
     "execution_count": 30,
     "metadata": {},
     "output_type": "execute_result"
    }
   ],
   "source": [
    "calendar.monthrange(2021,2) #2021년 2월의 1일은 월요일(0)이고, 28일까지 있다."
   ]
  },
  {
   "cell_type": "markdown",
   "metadata": {},
   "source": [
    "### random\n",
    "- 난수를 발생시키는 모듈. 중요!! \n",
    "---\n",
    "- __`random.random()`__ : 0~1사이의 실수 값 1개 리턴\n",
    "- __`random.randint(a,b)`__ : a~b사이의 정수 값 1개 리턴 (a포함, b포함)\n",
    "- __`random.choice(list)`__: 입력으로 받은 리스트에서 무작위로 하나를 선택하여 리턴\n",
    "- __`random.shuffle(list)`__: 입력받은 리스트의 항목을 무작위로 섞어 리턴 --> print(list) 해보기!"
   ]
  },
  {
   "cell_type": "code",
   "execution_count": 31,
   "metadata": {},
   "outputs": [],
   "source": [
    "import random"
   ]
  },
  {
   "cell_type": "code",
   "execution_count": 32,
   "metadata": {},
   "outputs": [
    {
     "data": {
      "text/plain": [
       "0.4800470642747895"
      ]
     },
     "execution_count": 32,
     "metadata": {},
     "output_type": "execute_result"
    }
   ],
   "source": [
    "#0.0~1.0사이의 실수 값 중 난수값을 리턴\n",
    "random.random()"
   ]
  },
  {
   "cell_type": "code",
   "execution_count": 35,
   "metadata": {},
   "outputs": [
    {
     "data": {
      "text/plain": [
       "10"
      ]
     },
     "execution_count": 35,
     "metadata": {},
     "output_type": "execute_result"
    }
   ],
   "source": [
    "#1~10사이의 정수값 중 난수값 리턴\n",
    "random.randint(1,10)"
   ]
  },
  {
   "cell_type": "code",
   "execution_count": 36,
   "metadata": {},
   "outputs": [
    {
     "data": {
      "text/plain": [
       "41"
      ]
     },
     "execution_count": 36,
     "metadata": {},
     "output_type": "execute_result"
    }
   ],
   "source": [
    "random.randint(20, 80)"
   ]
  },
  {
   "cell_type": "code",
   "execution_count": 8,
   "metadata": {},
   "outputs": [
    {
     "name": "stdout",
     "output_type": "stream",
     "text": [
      "4\n",
      "3\n",
      "5\n",
      "2\n",
      "1\n",
      "[]\n"
     ]
    }
   ],
   "source": [
    "import random\n",
    "\n",
    "def random_pop(data): #data는 list를 입력\n",
    "    num = random.randint(0, len(data)-1) #인덱스 랜덤 선택 \n",
    "    return data.pop(num) #위에서 선택된 랜덤 인덱스를 list 내에서 뽑아 반환(pop함수는 뽑고 리스트 내에서 없어지므로 num 값이 중복이어도 상관없음.)\n",
    "\n",
    "if __name__ == '__main__':\n",
    "    data = [1,2,3,4,5]\n",
    "    while data:\n",
    "        print(random_pop(data))\n",
    "    print(data) #리스트의 pop 메서드는 안에 있는 요소를 뽑고 삭제를 하므로 빈 리스트가 남게됨."
   ]
  },
  {
   "cell_type": "code",
   "execution_count": 3,
   "metadata": {},
   "outputs": [],
   "source": [
    "#위의 random_pop 함수를 random.choice를 이용해 만들어보면\n",
    "def random_pop(data): \n",
    "    num = random.choice(data) #list를 받아 그 안의 값을 무작위로 뽑기 때문.\n",
    "    data.remove(num)\n",
    "    return num"
   ]
  },
  {
   "cell_type": "code",
   "execution_count": 7,
   "metadata": {},
   "outputs": [
    {
     "name": "stdout",
     "output_type": "stream",
     "text": [
      "10\n",
      "2\n",
      "9\n",
      "0\n",
      "5\n",
      "[]\n"
     ]
    }
   ],
   "source": [
    "list1 = [5,9,10,2,0]\n",
    "\n",
    "while list1:\n",
    "    print(random_pop(list1))\n",
    "print(list1) "
   ]
  },
  {
   "cell_type": "code",
   "execution_count": 9,
   "metadata": {},
   "outputs": [
    {
     "name": "stdout",
     "output_type": "stream",
     "text": [
      "[10, 2, 9, 5, 0]\n"
     ]
    }
   ],
   "source": [
    "#random.shuffle(list): 리스트의 항목을 무작위로 섞음\n",
    "list1 = [5,9,10,2,0]\n",
    "random.shuffle(list1)\n",
    "print(list1)"
   ]
  },
  {
   "cell_type": "markdown",
   "metadata": {},
   "source": [
    "### webbrowser\n",
    "- 사용자의 기본 웹 브라우저가 자동으로 실행되게 하는 모듈\n",
    "---\n",
    "- __`webbrowser.open(URL)`__ : URL의 브라우저를 오픈함 (이미 열려있는 상태면 해당 URL로 바로 이동함)\n",
    "- __`webbrowser.open_new(URL)`__ : URL의 브라우저가 이미 실행된 상태더라도 새로운 창으로 열림"
   ]
  },
  {
   "cell_type": "code",
   "execution_count": 11,
   "metadata": {},
   "outputs": [
    {
     "data": {
      "text/plain": [
       "True"
      ]
     },
     "execution_count": 11,
     "metadata": {},
     "output_type": "execute_result"
    }
   ],
   "source": [
    "import webbrowser\n",
    "webbrowser.open('http://google.com')"
   ]
  },
  {
   "cell_type": "code",
   "execution_count": 12,
   "metadata": {},
   "outputs": [
    {
     "data": {
      "text/plain": [
       "True"
      ]
     },
     "execution_count": 12,
     "metadata": {},
     "output_type": "execute_result"
    }
   ],
   "source": [
    "webbrowser.open_new('www.youtube.com')"
   ]
  },
  {
   "cell_type": "markdown",
   "metadata": {},
   "source": [
    "### 스레드를 다루는 threading 모듈"
   ]
  },
  {
   "cell_type": "code",
   "execution_count": 13,
   "metadata": {},
   "outputs": [],
   "source": [
    "import threading, time"
   ]
  },
  {
   "cell_type": "code",
   "execution_count": 14,
   "metadata": {
    "scrolled": true
   },
   "outputs": [
    {
     "name": "stdout",
     "output_type": "stream",
     "text": [
      "0\n",
      "1\n",
      "2\n",
      "3\n",
      "4\n",
      "5\n",
      "6\n",
      "7\n",
      "8\n",
      "youptyhon9\n",
      "\n",
      "need\n",
      "\n",
      "10\n",
      "11\n",
      "12\n",
      "13\n",
      "14\n",
      "15\n",
      "16\n",
      "17\n",
      "18\n",
      "you\n",
      "needptyhon\n",
      "\n",
      "19\n",
      "20\n",
      "21\n",
      "22\n",
      "23\n",
      "24\n",
      "25\n",
      "26\n",
      "27\n",
      "28\n",
      "you\n",
      "needptyhon\n",
      "\n",
      "29\n",
      "30\n",
      "31\n",
      "32\n",
      "33\n",
      "34\n",
      "35\n",
      "36\n",
      "37\n",
      "38\n",
      "you\n",
      "needptyhon\n",
      "\n",
      "39\n",
      "40\n",
      "41\n",
      "42\n",
      "43\n",
      "44\n",
      "45\n",
      "46\n",
      "47\n",
      "48\n",
      "you\n",
      "needptyhon\n",
      "\n",
      "49\n",
      "you\n",
      "ptyhon\n",
      "need\n",
      "you\n",
      "ptyhon\n",
      "need\n",
      "you\n",
      "ptyhon\n",
      "need\n",
      "you\n",
      "ptyhon\n",
      "need\n",
      "you\n",
      "ptyhonneed\n",
      "\n",
      "you\n",
      "need\n",
      "ptyhon\n",
      "you\n",
      "need\n",
      "ptyhon\n",
      "you\n",
      "need\n",
      "ptyhon\n",
      "youneed\n",
      "\n",
      "ptyhon\n",
      "you\n",
      "need\n",
      "ptyhon\n",
      "needyou\n",
      "\n",
      "ptyhon\n",
      "needyou\n",
      "\n",
      "ptyhon\n",
      "youneed\n",
      "\n",
      "ptyhon\n",
      "youneed\n",
      "\n",
      "ptyhon\n",
      "needyou\n",
      "\n",
      "ptyhon\n",
      "you\n",
      "needptyhon\n",
      "\n",
      "you\n",
      "ptyhon\n",
      "need\n",
      "you\n",
      "ptyhon\n",
      "need\n",
      "ptyhonyou\n",
      "\n",
      "need\n",
      "you\n",
      "ptyhon\n",
      "need\n",
      "you\n",
      "ptyhon\n",
      "need\n",
      "you\n",
      "ptyhon\n",
      "need\n",
      "you\n",
      "ptyhon\n",
      "need\n",
      "you\n",
      "ptyhon\n",
      "need\n",
      "you\n",
      "ptyhon\n",
      "need\n",
      "you\n",
      "ptyhonneed\n",
      "\n",
      "you\n",
      "needptyhon\n",
      "\n",
      "you\n",
      "ptyhon\n",
      "need\n",
      "you\n",
      "need\n",
      "ptyhon\n",
      "you\n",
      "need\n",
      "ptyhon\n",
      "you\n",
      "ptyhonneed\n",
      "\n",
      "you\n",
      "ptyhonneed\n",
      "\n",
      "you\n",
      "ptyhonneed\n",
      "\n",
      "you\n",
      "needptyhon\n",
      "\n",
      "you\n",
      "ptyhon\n",
      "need\n",
      "youptyhonneed\n",
      "\n",
      "\n",
      "youptyhon\n",
      "\n",
      "need\n",
      "youptyhon\n",
      "\n",
      "need\n",
      "youptyhon\n",
      "\n",
      "need\n",
      "ptyhon\n",
      "youneed\n",
      "\n",
      "ptyhon\n",
      "you\n",
      "need\n",
      "ptyhon\n",
      "youneed\n",
      "\n",
      "ptyhon\n",
      "you\n",
      "need\n",
      "ptyhon\n",
      "needyou\n",
      "\n",
      "ptyhon\n",
      "needyou\n",
      "\n",
      "ptyhon\n",
      "youneed\n",
      "\n",
      "ptyhon\n",
      "needyou\n",
      "\n",
      "ptyhon\n",
      "you\n",
      "need\n",
      "ptyhon\n",
      "you\n",
      "need\n",
      "ptyhon\n",
      "you\n",
      "need\n",
      "ptyhon\n",
      "you\n",
      "need\n",
      "ptyhon\n",
      "you\n",
      "need\n",
      "ptyhon\n",
      "you\n",
      "need\n",
      "ptyhon\n",
      "youneed\n",
      "\n",
      "ptyhon\n",
      "needyou\n",
      "\n",
      "ptyhon\n",
      "youneed\n",
      "\n",
      "ptyhon\n",
      "youneed\n",
      "\n",
      "ptyhon\n",
      "need\n",
      "you\n",
      "ptyhon\n",
      "need\n",
      "you\n",
      "ptyhon\n",
      "need\n",
      "you\n",
      "ptyhon\n",
      "need\n",
      "you\n",
      "needptyhon\n",
      "\n",
      "you\n",
      "ptyhonneed\n",
      "\n",
      "you\n",
      "ptyhonneed\n",
      "\n",
      "you\n",
      "ptyhonneed\n",
      "\n",
      "you\n",
      "ptyhonneed\n",
      "\n",
      "you\n",
      "ptyhonneed\n",
      "\n",
      "you\n",
      "needptyhon\n",
      "\n",
      "you\n",
      "ptyhonneed\n",
      "\n",
      "you\n",
      "need\n",
      "ptyhon\n",
      "you\n",
      "need\n",
      "ptyhon\n",
      "you\n",
      "need\n",
      "ptyhon\n",
      "you\n",
      "need\n",
      "ptyhon\n",
      "you\n",
      "need\n",
      "ptyhon\n",
      "you\n",
      "need\n",
      "ptyhon\n",
      "you\n",
      "need\n",
      "ptyhon\n",
      "you\n",
      "need\n",
      "ptyhon\n",
      "you\n",
      "need\n",
      "ptyhon\n",
      "you\n",
      "need\n",
      "ptyhon\n",
      "you\n",
      "need\n",
      "ptyhonyou\n",
      "\n",
      "needptyhon\n",
      "\n",
      "you\n",
      "needptyhon\n",
      "\n",
      "you\n",
      "ptyhon\n",
      "need\n",
      "you\n",
      "ptyhon\n",
      "need\n",
      "you\n",
      "ptyhon\n",
      "needyou\n",
      "\n",
      "ptyhon\n",
      "need\n",
      "you\n",
      "ptyhonneed\n",
      "you\n",
      "\n",
      "ptyhon\n",
      "youneed\n",
      "\n",
      "ptyhon\n",
      "need\n",
      "you\n",
      "ptyhon\n",
      "needyou\n",
      "\n",
      "ptyhon\n",
      "needyou\n",
      "\n",
      "ptyhon\n",
      "you\n",
      "need\n",
      "ptyhon\n",
      "you\n",
      "need\n",
      "ptyhon\n",
      "need\n",
      "you\n",
      "ptyhon\n",
      "need\n",
      "you\n",
      "ptyhon\n",
      "need\n",
      "you\n",
      "ptyhon\n",
      "need\n",
      "you\n",
      "ptyhon\n",
      "need\n",
      "you\n",
      "ptyhon\n",
      "need\n",
      "you\n",
      "ptyhon\n",
      "need\n",
      "you\n",
      "ptyhon\n",
      "need\n",
      "you\n",
      "ptyhon\n",
      "need\n",
      "you\n",
      "ptyhon\n",
      "need\n",
      "you\n",
      "ptyhon\n",
      "need\n",
      "you\n",
      "ptyhon\n",
      "need\n",
      "you\n",
      "ptyhon\n",
      "need\n",
      "you\n",
      "ptyhon\n",
      "need\n",
      "you\n",
      "ptyhonneed\n",
      "\n",
      "you\n",
      "needptyhon\n",
      "\n",
      "you\n",
      "ptyhon\n",
      "need\n",
      "you\n",
      "ptyhon\n",
      "you\n",
      "need\n",
      "ptyhon\n",
      "you\n",
      "need\n",
      "ptyhon\n",
      "you\n",
      "need\n",
      "ptyhon\n",
      "you\n",
      "need\n",
      "ptyhon\n",
      "you\n",
      "need\n",
      "ptyhon\n",
      "you\n",
      "need\n",
      "ptyhon\n",
      "you\n",
      "need\n",
      "ptyhon\n",
      "you\n",
      "need\n",
      "ptyhon\n",
      "you\n",
      "need\n"
     ]
    }
   ],
   "source": [
    "def say(msg):\n",
    "    while True:\n",
    "        time.sleep(1)\n",
    "        print(msg)\n",
    "\n",
    "for msg in ['you','need','ptyhon']:\n",
    "    t = threading.Thread(target=say, args=(msg,))\n",
    "    t.daemon = True\n",
    "    t.start()\n",
    "    \n",
    "for i in range(50):\n",
    "    time.sleep(0.1)\n",
    "    print(i)"
   ]
  },
  {
   "cell_type": "code",
   "execution_count": null,
   "metadata": {},
   "outputs": [],
   "source": []
  }
 ],
 "metadata": {
  "kernelspec": {
   "display_name": "Python 3",
   "language": "python",
   "name": "python3"
  },
  "language_info": {
   "codemirror_mode": {
    "name": "ipython",
    "version": 3
   },
   "file_extension": ".py",
   "mimetype": "text/x-python",
   "name": "python",
   "nbconvert_exporter": "python",
   "pygments_lexer": "ipython3",
   "version": "3.7.6"
  }
 },
 "nbformat": 4,
 "nbformat_minor": 4
}
