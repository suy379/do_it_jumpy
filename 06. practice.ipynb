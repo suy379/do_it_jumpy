{
 "cells": [
  {
   "cell_type": "markdown",
   "metadata": {},
   "source": [
    "## 1번"
   ]
  },
  {
   "cell_type": "code",
   "execution_count": null,
   "metadata": {},
   "outputs": [],
   "source": [
    "#1. 문자열 압축하기- 문자가 들어올 때마다 이 문자의 개수를 계산해야 함.\n",
    "\n",
    "##접근\n",
    "#1) 함수이름: str_compress\n",
    "#2) 입력값: 문자열 / 출력값(result): 문자열\n",
    "#3) 처음으로 들어온 문자열을 result에 붙임. 각 문자들이 같은지를 계산 - 같으면 개수(cnt) += 1 / 다르면 기존 cnt를 result에 붙이고 cnt =1 초기화 \n",
    "#4) 맨마지막 문자는 같이 검사할 뒷 문자가 없으므로 이땐 cnt값을 그냥 result에 붙여줘야 함."
   ]
  },
  {
   "cell_type": "code",
   "execution_count": 1,
   "metadata": {},
   "outputs": [],
   "source": [
    "def str_compress(s):\n",
    "    c_ = '' #오리지널 문자열 - 얘랑 하나씩 들어오는 문자 c와 같은지를 계산.\n",
    "    result = '' #출력값\n",
    "    cnt = 0\n",
    "    for c in s:\n",
    "        if c != c_:\n",
    "            c_ = c\n",
    "            if cnt:\n",
    "                result +=str(cnt)\n",
    "            result += c\n",
    "            cnt = 1\n",
    "        else:\n",
    "            cnt += 1\n",
    "    if cnt:\n",
    "        result += str(cnt)\n",
    "        \n",
    "    return result"
   ]
  },
  {
   "cell_type": "code",
   "execution_count": 2,
   "metadata": {},
   "outputs": [
    {
     "data": {
      "text/plain": [
       "'a3b2c6a1'"
      ]
     },
     "execution_count": 2,
     "metadata": {},
     "output_type": "execute_result"
    }
   ],
   "source": [
    "str_compress('aaabbcccccca')"
   ]
  },
  {
   "cell_type": "code",
   "execution_count": 3,
   "metadata": {},
   "outputs": [
    {
     "data": {
      "text/plain": [
       "'a3b3c6'"
      ]
     },
     "execution_count": 3,
     "metadata": {},
     "output_type": "execute_result"
    }
   ],
   "source": [
    "str_compress('aaabbbcccccc')"
   ]
  },
  {
   "cell_type": "code",
   "execution_count": null,
   "metadata": {},
   "outputs": [],
   "source": [
    "## 예시로 설명- 예: s='aabbccc'라고 한다면 \n",
    "def compress_string(s):\n",
    "    _c = '' #빈 문자열(초기값)\n",
    "    cnt = 0 #count \n",
    "    result =''\n",
    "    \n",
    "    for c in s: #들어오는 문자열 하나하나를 c라고 봄 \n",
    "        if c!=_c: #1)처음엔 당연히 다르니까 얘가 실행됨. / 8)그 다음은 다른 문자인 'b'가 나와서 실행됨. / 15)다른문자 'c'\n",
    "            _c=c #2)_c=c='a'가 됨                        / 9) 'b'가 됨                                         / 16)'c'가 됨  \n",
    "            if cnt:  #3)현재 cnt값 없으므로 실행안됨. / 10) 'a'의 cnt=2로 값이 있었으므로               /17) 'b'의 cnt=2로 값이 있었으므로 \n",
    "                result += str(cnt)                       #11)얘가 실행돼서 result = 'a2'가 됨           /18) result='a2b2'\n",
    "            result +=c #4)result의 값이 붙여서 'a'가 됨. / 12)그 뒤 얘도 실행돼서 result='a2b'    /19)result='a2b2c'\n",
    "            cnt =1 #5)그리고 'a'의 cnt가 1          /13) 'b'의 cnt=1이 됨                               /20) 'c'의 cnt=1이 됨 \n",
    "        else:  #6)두번째는 같은 문자('a')가 등장  / 14)또 'b'이므로 cnt=2                             /21) 또 'c'이므로 cnt=2 / 22) cnt=3\n",
    "            cnt +=1  #7)'a'의 cnt=2\n",
    "    if cnt:                                                                             #23)cnt값이 있었으나 result에 아직 못붙었으므로\n",
    "        result += str(cnt)                                                        #24)최종적으로 result='a2b2c3'이 됨 \n",
    "    return result "
   ]
  },
  {
   "cell_type": "code",
   "execution_count": null,
   "metadata": {},
   "outputs": [],
   "source": [
    "#1-1. 문자가 들어올 때마다 계산하는게 아니라, 문자 전체에 대해 횟수계산을 요약하라는 문제라면?(문자는 abc순으로 정렬)\n",
    "#ex. 'aaabbcccccca' -> 'a4b2c6'으로 계산 \n",
    "\n",
    "##접근\n",
    "#1) 함수명: str_compress2 \n",
    "#2) 입력값: 문자열, 출력값(result): 문자열\n",
    "#3) 입력으로 들어온 문자열에서 문자를 리스트로 만들고(중복없이), 입력문자열에서 각 문자가 몇번 있는지를 반환하여 result에 붙여야함."
   ]
  },
  {
   "cell_type": "code",
   "execution_count": 6,
   "metadata": {},
   "outputs": [
    {
     "data": {
      "text/plain": [
       "['a', 'b', 'c']"
      ]
     },
     "execution_count": 6,
     "metadata": {},
     "output_type": "execute_result"
    }
   ],
   "source": [
    "sample = list(set('aaabbbccca'))\n",
    "sample.sort()\n",
    "sample"
   ]
  },
  {
   "cell_type": "code",
   "execution_count": 7,
   "metadata": {},
   "outputs": [],
   "source": [
    "def str_compress2(s):\n",
    "    result=''\n",
    "    str_list = list(set(s))\n",
    "    str_list.sort() #리스트 정렬\n",
    "    for st in str_list:\n",
    "        result += st\n",
    "        result += str(s.count(st))\n",
    "    return result"
   ]
  },
  {
   "cell_type": "code",
   "execution_count": 8,
   "metadata": {},
   "outputs": [
    {
     "data": {
      "text/plain": [
       "'a4b2c6'"
      ]
     },
     "execution_count": 8,
     "metadata": {},
     "output_type": "execute_result"
    }
   ],
   "source": [
    "str_compress2('aaabbcccccca')"
   ]
  },
  {
   "cell_type": "markdown",
   "metadata": {},
   "source": [
    "## 2번"
   ]
  },
  {
   "cell_type": "code",
   "execution_count": null,
   "metadata": {},
   "outputs": [],
   "source": [
    "#2. 0-9까지의 문자로 된 숫자를 입력받았을 때 이 입력값이 0~9까지의 모든 숫자가 각각 1번씩만 사용되었으면 True, 아니면 False 반환\n",
    "\n",
    "##접근\n",
    "#1) 함수명: duplicate_num\n",
    "#2) 입력값: 문자열(로 된 숫자), 출력값: True/False\n",
    "#3) 접근방식: 0~9로 된 리스트에서 for문으로 하나씩 뽑음. 그리고 입력된 문자열 전체에 대해 아까 뽑은 요소가 몇개나 있는지 count. 만일 이값이 1이 아니라면 곧바로 False반환"
   ]
  },
  {
   "cell_type": "code",
   "execution_count": 12,
   "metadata": {},
   "outputs": [
    {
     "data": {
      "text/plain": [
       "['0', '1', '2', '3', '4', '5', '6', '7', '8', '9']"
      ]
     },
     "execution_count": 12,
     "metadata": {},
     "output_type": "execute_result"
    }
   ],
   "source": [
    "list('0123456789')"
   ]
  },
  {
   "cell_type": "code",
   "execution_count": 27,
   "metadata": {},
   "outputs": [
    {
     "data": {
      "text/plain": [
       "[1, 1, 3, 1, 1, 1, 1, 0, 1, 1]"
      ]
     },
     "execution_count": 27,
     "metadata": {},
     "output_type": "execute_result"
    }
   ],
   "source": [
    "s='01232245689'\n",
    "results = []\n",
    "num_list = list('0123456789')\n",
    "for num in num_list:\n",
    "    results.append(s.count(num))\n",
    "results"
   ]
  },
  {
   "cell_type": "code",
   "execution_count": 33,
   "metadata": {},
   "outputs": [
    {
     "name": "stdout",
     "output_type": "stream",
     "text": [
      "8\n"
     ]
    }
   ],
   "source": [
    "cnt = 0\n",
    "for r in results:\n",
    "    if r ==1:\n",
    "        cnt +=1\n",
    "print(cnt)"
   ]
  },
  {
   "cell_type": "code",
   "execution_count": 34,
   "metadata": {},
   "outputs": [],
   "source": [
    "def duplicate_num(s):\n",
    "    result=[]\n",
    "    num_list = list('0123456789')\n",
    "    cnt =0\n",
    "    for num in num_list:\n",
    "        result.append(s.count(num))\n",
    "    for r in result:\n",
    "        if r == 1:\n",
    "            cnt += 1\n",
    "    if cnt == 10: \n",
    "        return True\n",
    "    else:\n",
    "        return False"
   ]
  },
  {
   "cell_type": "code",
   "execution_count": 35,
   "metadata": {},
   "outputs": [
    {
     "data": {
      "text/plain": [
       "True"
      ]
     },
     "execution_count": 35,
     "metadata": {},
     "output_type": "execute_result"
    }
   ],
   "source": [
    "duplicate_num('0123456789')"
   ]
  },
  {
   "cell_type": "code",
   "execution_count": 36,
   "metadata": {},
   "outputs": [
    {
     "data": {
      "text/plain": [
       "False"
      ]
     },
     "execution_count": 36,
     "metadata": {},
     "output_type": "execute_result"
    }
   ],
   "source": [
    "duplicate_num('01234')"
   ]
  },
  {
   "cell_type": "code",
   "execution_count": 37,
   "metadata": {},
   "outputs": [
    {
     "data": {
      "text/plain": [
       "False"
      ]
     },
     "execution_count": 37,
     "metadata": {},
     "output_type": "execute_result"
    }
   ],
   "source": [
    "duplicate_num('01234567890')"
   ]
  },
  {
   "cell_type": "code",
   "execution_count": 38,
   "metadata": {},
   "outputs": [
    {
     "data": {
      "text/plain": [
       "True"
      ]
     },
     "execution_count": 38,
     "metadata": {},
     "output_type": "execute_result"
    }
   ],
   "source": [
    "duplicate_num('6789012345')"
   ]
  },
  {
   "cell_type": "code",
   "execution_count": 57,
   "metadata": {},
   "outputs": [
    {
     "data": {
      "text/plain": [
       "False"
      ]
     },
     "execution_count": 57,
     "metadata": {},
     "output_type": "execute_result"
    }
   ],
   "source": [
    "duplicate_num('0123245678')"
   ]
  },
  {
   "cell_type": "markdown",
   "metadata": {},
   "source": [
    "## 3번"
   ]
  },
  {
   "cell_type": "code",
   "execution_count": null,
   "metadata": {},
   "outputs": [],
   "source": [
    "#3. 모스 부호 해독하여 영어 문장으로 출력. 단, 단어+단어는 공백2개, 글자+글자는 공백1개로 구분\n",
    "\n",
    "##접근\n",
    "#1. 함수명: mos_decoder\n",
    "#2. 입력값: 모스 부호(문자열), 출력값(result): 영어문장(문자열)\n",
    "#3. 모스 부호 규칙 표를 가지고 딕셔너리를 만듦.단, 모스부호가 key이고 알파벳이 value -> 그래야 key로 value를 얻을 수 있으니까!"
   ]
  },
  {
   "cell_type": "code",
   "execution_count": 40,
   "metadata": {},
   "outputs": [],
   "source": [
    "st = '.... .  ... .-..'"
   ]
  },
  {
   "cell_type": "code",
   "execution_count": 44,
   "metadata": {},
   "outputs": [
    {
     "data": {
      "text/plain": [
       "['.... .', '... .-..']"
      ]
     },
     "execution_count": 44,
     "metadata": {},
     "output_type": "execute_result"
    }
   ],
   "source": [
    "st.split('  ') #첫번째 분할: 공백2개 "
   ]
  },
  {
   "cell_type": "code",
   "execution_count": 54,
   "metadata": {},
   "outputs": [
    {
     "data": {
      "text/plain": [
       "'HE SL '"
      ]
     },
     "execution_count": 54,
     "metadata": {},
     "output_type": "execute_result"
    }
   ],
   "source": [
    "result =''\n",
    "for s in st.split('  '):\n",
    "    for s2 in s.split(' '): #두번째 분할: 공백1개 \n",
    "        result += su_dict[s2]\n",
    "    result += str(' ')\n",
    "result"
   ]
  },
  {
   "cell_type": "code",
   "execution_count": 55,
   "metadata": {},
   "outputs": [],
   "source": [
    "su_dict = {'.-':'A', '-...':'B', '-.-.':'C', '-..':'D', '.':'E', '..-.':'F', '--.':'G',\n",
    "          '....':'H', '..':'I', '.---':'J', '-.-':'K', '.-..':'L', '--':'M', '-.':'N', '---':'O',\n",
    "          '.--.':'P', '--.-':'Q', '.-.':'R', '...':'S', '-':'T', '..-':'U', '...-':'V', '.--':'W',\n",
    "          '-..-':'X', '-.--':'Y', '--..':'Z'}\n",
    "def mos_decoder(s):\n",
    "    result = ''\n",
    "    for s1 in s.split('  '):\n",
    "        for s2 in s1.split(' '):\n",
    "            result += su_dict[s2]\n",
    "        result += str(' ')\n",
    "    return result"
   ]
  },
  {
   "cell_type": "code",
   "execution_count": 56,
   "metadata": {},
   "outputs": [
    {
     "data": {
      "text/plain": [
       "'HE SLEEPS EARLY '"
      ]
     },
     "execution_count": 56,
     "metadata": {},
     "output_type": "execute_result"
    }
   ],
   "source": [
    "mos_decoder('.... .  ... .-.. . . .--. ...  . .- .-. .-.. -.--')"
   ]
  },
  {
   "cell_type": "code",
   "execution_count": 58,
   "metadata": {},
   "outputs": [],
   "source": [
    "#다른방법- list로 출력하기\n",
    "su_dict = {'.-':'A', '-...':'B', '-.-.':'C', '-..':'D', '.':'E', '..-.':'F', '--.':'G',\n",
    "          '....':'H', '..':'I', '.---':'J', '-.-':'K', '.-..':'L', '--':'M', '-.':'N', '---':'O',\n",
    "          '.--.':'P', '--.-':'Q', '.-.':'R', '...':'S', '-':'T', '..-':'U', '...-':'V', '.--':'W',\n",
    "          '-..-':'X', '-.--':'Y', '--..':'Z'}\n",
    "def mos_decode(s):\n",
    "    result = []\n",
    "    for word in s.split('  '): #단어+단어로 분리, 리스트 반환\n",
    "        for word2 in word.split(' '): #글자+글자로 분리, 리스트 반환\n",
    "            result.append(str(su_dict.get(word2)))\n",
    "        result.append(' ')\n",
    "    return ''.join(result)"
   ]
  },
  {
   "cell_type": "code",
   "execution_count": 59,
   "metadata": {},
   "outputs": [
    {
     "data": {
      "text/plain": [
       "'HE SLEEPS EARLY '"
      ]
     },
     "execution_count": 59,
     "metadata": {},
     "output_type": "execute_result"
    }
   ],
   "source": [
    "mos_decode('.... .  ... .-.. . . .--. ...  . .- .-. .-.. -.--')"
   ]
  },
  {
   "cell_type": "code",
   "execution_count": null,
   "metadata": {},
   "outputs": [],
   "source": []
  }
 ],
 "metadata": {
  "kernelspec": {
   "display_name": "Python 3",
   "language": "python",
   "name": "python3"
  },
  "language_info": {
   "codemirror_mode": {
    "name": "ipython",
    "version": 3
   },
   "file_extension": ".py",
   "mimetype": "text/x-python",
   "name": "python",
   "nbconvert_exporter": "python",
   "pygments_lexer": "ipython3",
   "version": "3.7.6"
  }
 },
 "nbformat": 4,
 "nbformat_minor": 4
}
