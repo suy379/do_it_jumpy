{
 "cells": [
  {
   "cell_type": "markdown",
   "metadata": {},
   "source": [
    "## 07-1. 정규 표현식 살펴보기\n",
    "- 정규 표현식은 __문자열__ 을 사용하는 모든 곳(파이썬 이외에서도)에서 공통적으로 사용할 수 있다. "
   ]
  },
  {
   "cell_type": "code",
   "execution_count": 1,
   "metadata": {},
   "outputs": [],
   "source": [
    "#정규 표현식을 모를 때, 주민번호 뒷자리를 모두 *로 변경하는 코드\n",
    "##전략\n",
    "#1. 문자열이 들어오면 이를 나눌수 있어야함.\n",
    "#2. 문자열이 주민번호라면, 총 문자열 수는 14자리이고 문자열의 6자리 이전&7가지 이후가 숫자여야 함.\n",
    "#3. 문자열 중 6자리 이후를 *로 바꿔야 함.\n",
    "#4. 출력은 park 800905-******* 이런 식으로 이름까지 같이 나오게!!\n",
    "data = '''\n",
    "park 800905-1049118\n",
    "kim 700905-1059119\n",
    "'''"
   ]
  },
  {
   "cell_type": "code",
   "execution_count": 25,
   "metadata": {},
   "outputs": [
    {
     "name": "stdout",
     "output_type": "stream",
     "text": [
      "800905-*******\n",
      "700905-*******\n"
     ]
    }
   ],
   "source": [
    "result = []\n",
    "for line in data.split('\\n'):#줄바꿈 기준으로 나누고 (4 lines)\n",
    "    for word in line.split():#공백 기준으로 나눔 \n",
    "        #print(word) #빈 리스트는 없어지고 값이 있는것만 출력됨. (park, 주민번호, kim, 주민번호)\n",
    "        word_list = []\n",
    "        if len(word)==14 and word[:6].isdigit() and word[7:].isdigit(): #주민번호에 대한 것만 word 수정 \n",
    "            #print(word)\n",
    "            word = word[:6] + '-' + '*******'\n",
    "            print(word)"
   ]
  },
  {
   "cell_type": "code",
   "execution_count": 24,
   "metadata": {},
   "outputs": [
    {
     "name": "stdout",
     "output_type": "stream",
     "text": [
      "\n",
      "park 800905-*******\n",
      "kim 700905-*******\n",
      "\n"
     ]
    }
   ],
   "source": [
    "result = []\n",
    "for line in data.split('\\n'):\n",
    "    word_list= []\n",
    "    for word in line.split():\n",
    "        if len(word)==14 and word[:6].isdigit() and word[7:].isdigit(): #이 조건을 만족하는 word에 대해서만!\n",
    "            word = word[:6] +'-'+'*'*7\n",
    "        word_list.append(word)\n",
    "    result.append(' '.join(word_list)) #공백을 기준으로 붙이기 \n",
    "print('\\n'.join(result)) #들어오는 line에 대해 줄바꿈 "
   ]
  },
  {
   "cell_type": "code",
   "execution_count": 26,
   "metadata": {},
   "outputs": [
    {
     "name": "stdout",
     "output_type": "stream",
     "text": [
      "\n",
      "park 800905-*******\n",
      "kim 700905-*******\n",
      "\n"
     ]
    }
   ],
   "source": [
    "#정규식을 사용하면 더 간편하다.\n",
    "import re\n",
    "pat = re.compile(\"(\\d{6})[-]\\d{7}\") #숫자 6개 - 숫자7개인 컴파일 객체 만듦\n",
    "print(pat.sub(\"\\g<1>-*******\", data)) #"
   ]
  },
  {
   "cell_type": "markdown",
   "metadata": {},
   "source": [
    "## 07-2. 정규 표현식 시작하기: re.compile(정규표현식)\n",
    "- 정규 표현식을 사용하는 이유? : __이런 조건에 맞는 문자만 필터링/전처리를 위해서!__\n",
    "- 파이썬에서 정규 표현식을 지원하는 re 모듈 사용 "
   ]
  },
  {
   "cell_type": "code",
   "execution_count": 1,
   "metadata": {},
   "outputs": [],
   "source": [
    "import re\n",
    "p = re.compile('ab*') #컴파일된 패턴 객체 'p'"
   ]
  },
  {
   "cell_type": "code",
   "execution_count": 2,
   "metadata": {},
   "outputs": [
    {
     "name": "stdout",
     "output_type": "stream",
     "text": [
      "<re.Match object; span=(0, 1), match='a'> <re.Match object; span=(0, 2), match='ab'> <re.Match object; span=(0, 3), match='abb'>\n"
     ]
    }
   ],
   "source": [
    "m = p.match('a')\n",
    "m2 = p.match('ab')\n",
    "m3 = p.match('abb')\n",
    "print(m, m2, m3)"
   ]
  },
  {
   "cell_type": "code",
   "execution_count": 7,
   "metadata": {},
   "outputs": [
    {
     "name": "stdout",
     "output_type": "stream",
     "text": [
      "None\n"
     ]
    }
   ],
   "source": [
    "p = re.compile('a.d')\n",
    "m = p.match('abcd')\n",
    "print(m)"
   ]
  },
  {
   "cell_type": "code",
   "execution_count": 8,
   "metadata": {},
   "outputs": [
    {
     "name": "stdout",
     "output_type": "stream",
     "text": [
      "<re.Match object; span=(0, 3), match='abd'>\n"
     ]
    }
   ],
   "source": [
    "m = p.match('abd')\n",
    "print(m)"
   ]
  },
  {
   "cell_type": "code",
   "execution_count": 9,
   "metadata": {},
   "outputs": [
    {
     "data": {
      "text/plain": [
       "<re.Match object; span=(0, 3), match='a.b'>"
      ]
     },
     "execution_count": 9,
     "metadata": {},
     "output_type": "execute_result"
    }
   ],
   "source": [
    "p = re.compile('a[.]b')\n",
    "p.match('a.b')"
   ]
  },
  {
   "cell_type": "code",
   "execution_count": 11,
   "metadata": {},
   "outputs": [
    {
     "name": "stdout",
     "output_type": "stream",
     "text": [
      "None\n"
     ]
    }
   ],
   "source": [
    "print(p.match('acb'))"
   ]
  },
  {
   "cell_type": "markdown",
   "metadata": {},
   "source": [
    "- 컴파일된 패턴 객체는 4가지 메서드를 제공한다.\n",
    "- __`p.match()`__ : 문자열의 처음부터 정규식과 매치되는지 조사 --- 매치되면 match 객체, 아니면 None 리턴 \n",
    "- __`p.search()`__ : 문자열 전체를 검색하여 정규식과 매치되는지 조사 -매치되면 match 객체, 아니면 None 리턴 \n",
    "- __`p.findall()`__ : 정규식과 매치되는 모든 문자열(substring)을 리스트로 리턴\n",
    "- __`p.finditer()`__ : 정규식과 매치되는 모든 문자열(substring)을 반복 가능한 객체로 리턴"
   ]
  },
  {
   "cell_type": "code",
   "execution_count": 14,
   "metadata": {},
   "outputs": [],
   "source": [
    "import re\n",
    "p = re.compile('[a-z]+') #모든 소문자 1번 이상 "
   ]
  },
  {
   "cell_type": "markdown",
   "metadata": {},
   "source": [
    "### match\n",
    "- 문자열의 __처음부터__ 정규식과 매치되는지 조사 (하나라도 틀리면 매치x)\n",
    "- 매치되면 match 객체, 아니면 None 리턴 "
   ]
  },
  {
   "cell_type": "code",
   "execution_count": 15,
   "metadata": {},
   "outputs": [
    {
     "name": "stdout",
     "output_type": "stream",
     "text": [
      "<re.Match object; span=(0, 6), match='python'>\n"
     ]
    }
   ],
   "source": [
    "m = p.match('python')\n",
    "print(m) #매치됨."
   ]
  },
  {
   "cell_type": "code",
   "execution_count": 5,
   "metadata": {},
   "outputs": [
    {
     "name": "stdout",
     "output_type": "stream",
     "text": [
      "None\n"
     ]
    }
   ],
   "source": [
    "m = p.match('3 python')\n",
    "print(m) #처음에 쓰인 '3'이 문자가 아니니까 매치안됨. None 리턴 "
   ]
  },
  {
   "cell_type": "code",
   "execution_count": 16,
   "metadata": {},
   "outputs": [
    {
     "name": "stdout",
     "output_type": "stream",
     "text": [
      "<re.Match object; span=(0, 6), match='python'>\n"
     ]
    }
   ],
   "source": [
    "m = p.match('python zzang 3')\n",
    "print(m) #처음에 매치되면 그 뒤에는 뭐가 오든 상관x"
   ]
  },
  {
   "cell_type": "code",
   "execution_count": null,
   "metadata": {},
   "outputs": [],
   "source": [
    "#파이썬 정규식 프로그램은 보통 다음과 같은 흐름으로 작성 (실행x)\n",
    "p = re.compile(정규표현식) #컴파일된 패턴객체\n",
    "m = p.match('조사할 문자열')\n",
    "if m: #매치가 된경우\n",
    "    print('Match found: ', m.group())\n",
    "else: #None 반환시\n",
    "    print('No match')"
   ]
  },
  {
   "cell_type": "markdown",
   "metadata": {},
   "source": [
    "### search\n",
    "- 문자열 __전체__ 를 검색해 정규식과 매치되는지 조사(하나라도 해당된다면 매치o)\n",
    "- 매치되면 match 객체, 아니면 None 리턴 "
   ]
  },
  {
   "cell_type": "code",
   "execution_count": 17,
   "metadata": {},
   "outputs": [
    {
     "name": "stdout",
     "output_type": "stream",
     "text": [
      "<re.Match object; span=(0, 6), match='python'>\n"
     ]
    }
   ],
   "source": [
    "m = p.search('python')\n",
    "print(m) #매치됨."
   ]
  },
  {
   "cell_type": "code",
   "execution_count": 18,
   "metadata": {},
   "outputs": [
    {
     "name": "stdout",
     "output_type": "stream",
     "text": [
      "<re.Match object; span=(2, 8), match='python'>\n"
     ]
    }
   ],
   "source": [
    "m = p.search('3 python')\n",
    "print(m) #매치됨. 왜냐면 전체를 봤을 때 문자 1개 이상이 쓰였으므로"
   ]
  },
  {
   "cell_type": "code",
   "execution_count": 22,
   "metadata": {},
   "outputs": [
    {
     "name": "stdout",
     "output_type": "stream",
     "text": [
      "<re.Match object; span=(2, 14), match='pythonsuyeon'>\n"
     ]
    }
   ],
   "source": [
    "m = p.search('3 pythonsuyeon')\n",
    "print(m) "
   ]
  },
  {
   "cell_type": "code",
   "execution_count": 23,
   "metadata": {},
   "outputs": [
    {
     "name": "stdout",
     "output_type": "stream",
     "text": [
      "<re.Match object; span=(2, 8), match='python'>\n"
     ]
    }
   ],
   "source": [
    "m = p.search('3 python suyeon')\n",
    "print(m) "
   ]
  },
  {
   "cell_type": "markdown",
   "metadata": {},
   "source": [
    "### findall\n",
    "- 정규식과 매치되는 모든 문자열을 list로 리턴"
   ]
  },
  {
   "cell_type": "code",
   "execution_count": 33,
   "metadata": {},
   "outputs": [
    {
     "name": "stdout",
     "output_type": "stream",
     "text": [
      "['life', 'is', 'too', 'short']\n"
     ]
    }
   ],
   "source": [
    "result = p.findall('life is too short')\n",
    "print(result)"
   ]
  },
  {
   "cell_type": "code",
   "execution_count": 9,
   "metadata": {},
   "outputs": [
    {
     "name": "stdout",
     "output_type": "stream",
     "text": [
      "['python']\n"
     ]
    }
   ],
   "source": [
    "m = p.findall('3 python')\n",
    "print(m) "
   ]
  },
  {
   "cell_type": "markdown",
   "metadata": {},
   "source": [
    "### finditer\n",
    "- 정규식과 매치되는 모든 문자열을 iterable 객체로 리턴"
   ]
  },
  {
   "cell_type": "code",
   "execution_count": 34,
   "metadata": {},
   "outputs": [
    {
     "name": "stdout",
     "output_type": "stream",
     "text": [
      "<callable_iterator object at 0x000001B35A8F63C8>\n"
     ]
    }
   ],
   "source": [
    "result = p.finditer('life is too short')\n",
    "print(result)"
   ]
  },
  {
   "cell_type": "code",
   "execution_count": 36,
   "metadata": {},
   "outputs": [],
   "source": [
    "for r in result:\n",
    "    print(r)"
   ]
  },
  {
   "cell_type": "markdown",
   "metadata": {},
   "source": [
    "### match 객체의 메서드\n",
    "- 앞서 match, search, finditer를 수행했을 때 매치되면 match 객체가 리턴되었다.\n",
    "- 이 `match객체`의 `메서드`들을 이용하면 여러 궁금증 해결 가능!\n",
    "---\n",
    "- __`m.group()`__ : 매치된 문자열을 리턴 \n",
    "- __`m.start()`__ : 매치된 문자열의 시작위치(인덱스) 리턴\n",
    "- __`m.end()`__ : 매치된 문자열의 끝위치(인덱스) 리턴\n",
    "- __`m.span()`__ : 매치된 문자열의 (시작,끝)에 해당하는 튜플 리턴"
   ]
  },
  {
   "cell_type": "code",
   "execution_count": 24,
   "metadata": {},
   "outputs": [
    {
     "name": "stdout",
     "output_type": "stream",
     "text": [
      "<re.Match object; span=(0, 6), match='python'>\n"
     ]
    }
   ],
   "source": [
    "m = p.match('python is beautiful') \n",
    "print(m) #매치됨 - match 객체 출력."
   ]
  },
  {
   "cell_type": "code",
   "execution_count": 25,
   "metadata": {},
   "outputs": [
    {
     "data": {
      "text/plain": [
       "'python'"
      ]
     },
     "execution_count": 25,
     "metadata": {},
     "output_type": "execute_result"
    }
   ],
   "source": [
    "#match 객체의 메서드를 사용해보자.\n",
    "m.group()"
   ]
  },
  {
   "cell_type": "code",
   "execution_count": 26,
   "metadata": {},
   "outputs": [
    {
     "data": {
      "text/plain": [
       "0"
      ]
     },
     "execution_count": 26,
     "metadata": {},
     "output_type": "execute_result"
    }
   ],
   "source": [
    "m.start() #match 메서드를 수행했으므로 0이 될수밖에 없음. 왜냐면 match메서드는 처음부터 매치안되면 매치가 안되므로."
   ]
  },
  {
   "cell_type": "code",
   "execution_count": 27,
   "metadata": {},
   "outputs": [
    {
     "data": {
      "text/plain": [
       "6"
      ]
     },
     "execution_count": 27,
     "metadata": {},
     "output_type": "execute_result"
    }
   ],
   "source": [
    "m.end()"
   ]
  },
  {
   "cell_type": "code",
   "execution_count": 28,
   "metadata": {},
   "outputs": [
    {
     "data": {
      "text/plain": [
       "(0, 6)"
      ]
     },
     "execution_count": 28,
     "metadata": {},
     "output_type": "execute_result"
    }
   ],
   "source": [
    "m.span()"
   ]
  },
  {
   "cell_type": "code",
   "execution_count": 29,
   "metadata": {},
   "outputs": [
    {
     "name": "stdout",
     "output_type": "stream",
     "text": [
      "<re.Match object; span=(2, 8), match='python'>\n"
     ]
    }
   ],
   "source": [
    "#search 메서드를 사용하면\n",
    "s = p.search('3 python is')\n",
    "print(s)"
   ]
  },
  {
   "cell_type": "code",
   "execution_count": 30,
   "metadata": {},
   "outputs": [
    {
     "data": {
      "text/plain": [
       "'python'"
      ]
     },
     "execution_count": 30,
     "metadata": {},
     "output_type": "execute_result"
    }
   ],
   "source": [
    "s.group()"
   ]
  },
  {
   "cell_type": "code",
   "execution_count": 31,
   "metadata": {},
   "outputs": [
    {
     "data": {
      "text/plain": [
       "2"
      ]
     },
     "execution_count": 31,
     "metadata": {},
     "output_type": "execute_result"
    }
   ],
   "source": [
    "s.start()"
   ]
  },
  {
   "cell_type": "code",
   "execution_count": 32,
   "metadata": {},
   "outputs": [
    {
     "data": {
      "text/plain": [
       "8"
      ]
     },
     "execution_count": 32,
     "metadata": {},
     "output_type": "execute_result"
    }
   ],
   "source": [
    "s.end()"
   ]
  },
  {
   "cell_type": "code",
   "execution_count": 33,
   "metadata": {},
   "outputs": [
    {
     "data": {
      "text/plain": [
       "(2, 8)"
      ]
     },
     "execution_count": 33,
     "metadata": {},
     "output_type": "execute_result"
    }
   ],
   "source": [
    "s.span()"
   ]
  },
  {
   "cell_type": "markdown",
   "metadata": {},
   "source": [
    "### 모듈 단위로 수행하기\n",
    "- 지금까지는 p = re.compile('[a-z]+') > m = p.match('python') 이렇게 썼지만 한줄에 쓸수도 있다.\n",
    "- m = re.match('[a-z]+', 'python') 이렇게!\n",
    "- 만일 선언한 컴파일 객체를 여러번 쓸거면 지금까지 배운대로 써도 되는데, __그냥 한두번 쓸거면 이렇게 간단한 식으로 쓰는게 편리하다.__\n",
    "---\n",
    "- __`re.match(정규식, 검사하려는 문자열)`__\n",
    "- __`re.search(정규식, 검사하려는 문자열)`__\n",
    "- __`re.findall(정규식, 검사하려는 문자열)`__\n",
    "- __`re.sub(정규식, b, a)`__ : 문자열 a에서 정규식 부분을 b로 바꿈."
   ]
  },
  {
   "cell_type": "code",
   "execution_count": 7,
   "metadata": {},
   "outputs": [
    {
     "name": "stdout",
     "output_type": "stream",
     "text": [
      "<re.Match object; span=(0, 6), match='python'>\n",
      "python\n"
     ]
    }
   ],
   "source": [
    "m = re.match('[a-z]+', 'python')\n",
    "print(m) #매치됨.\n",
    "print(m.group())"
   ]
  },
  {
   "cell_type": "markdown",
   "metadata": {},
   "source": [
    "### 컴파일 옵션: 정규식 컴파일 시 다음의 옵션 사용 가능. re.compile(정규표현식, 옵션)\n",
    "- __`DOTALL`(S)__ : 줄바꿈 문자(\\n)를 포함해 모든 문자와 매치가능하도록 함 \n",
    "- __`IGNORECASE`(I)__ : 대소문자 관계 없이 매치가능하도록 함\n",
    "- __`MULTILINE`(M)__ : 여러줄과 매치할 수 있도록 함(^,$ 메타문자와 관련)\n",
    "- __`VERBOSE`(X)__ : verbose 모드 사용가능(정규식 보기 편하게 쓰기, 주석 사용 등)"
   ]
  },
  {
   "cell_type": "markdown",
   "metadata": {},
   "source": [
    "### DOTALL, S\n",
    "- 메타문자는 원래 줄바꿈 문자(\\n)을 제외한 모든 문자와 매치됨.\n",
    "- 만일 \\n도 포함해 매치하고 싶을 경우 사용.(보통 여러 줄로 이루어진 문자열에서 사용하겠지?)\n",
    "- re.DOTALL도 되고 약어를 사용해 re.S로 써도 됨"
   ]
  },
  {
   "cell_type": "code",
   "execution_count": 50,
   "metadata": {},
   "outputs": [
    {
     "name": "stdout",
     "output_type": "stream",
     "text": [
      "<re.Match object; span=(0, 3), match='acb'>\n"
     ]
    }
   ],
   "source": [
    "import re\n",
    "p = re.compile('a.b') #a와 b안에 아무 문자나 써도 된다.(\\n 제외)\n",
    "m = p.match('acb')\n",
    "print(m) #매치됨"
   ]
  },
  {
   "cell_type": "code",
   "execution_count": 51,
   "metadata": {},
   "outputs": [
    {
     "name": "stdout",
     "output_type": "stream",
     "text": [
      "None\n"
     ]
    }
   ],
   "source": [
    "m = p.match('a\\nb')\n",
    "print(m) #매치안됨 "
   ]
  },
  {
   "cell_type": "code",
   "execution_count": 52,
   "metadata": {},
   "outputs": [
    {
     "name": "stdout",
     "output_type": "stream",
     "text": [
      "<re.Match object; span=(0, 3), match='a\\nb'>\n"
     ]
    }
   ],
   "source": [
    "#\\n도 포함해 매치하고 싶을 때! 사용.\n",
    "p = re.compile('a.b', re.DOTALL) #re.S 써도 됨 \n",
    "m = p.match('a\\nb')\n",
    "print(m) #매치됨 "
   ]
  },
  {
   "cell_type": "markdown",
   "metadata": {},
   "source": [
    "### IGNORECASE, I\n",
    "- 대소문자 구분 없이 매치가 가능하도록 할 때 사용"
   ]
  },
  {
   "cell_type": "code",
   "execution_count": 35,
   "metadata": {},
   "outputs": [
    {
     "name": "stdout",
     "output_type": "stream",
     "text": [
      "None\n"
     ]
    }
   ],
   "source": [
    "p = re.compile('[a-z]+') #소문자가 들어와야 한다.\n",
    "m = p.match('PYTHon')\n",
    "print(m) #매치안됨.(search면 가능)"
   ]
  },
  {
   "cell_type": "code",
   "execution_count": 9,
   "metadata": {},
   "outputs": [
    {
     "name": "stdout",
     "output_type": "stream",
     "text": [
      "<re.Match object; span=(0, 6), match='PYTHon'>\n"
     ]
    }
   ],
   "source": [
    "p = re.compile('[a-z]+', re.I)\n",
    "m = p.match('PYTHon')\n",
    "print(m) #매치됨."
   ]
  },
  {
   "cell_type": "code",
   "execution_count": 10,
   "metadata": {},
   "outputs": [
    {
     "data": {
      "text/plain": [
       "'PYTHon'"
      ]
     },
     "execution_count": 10,
     "metadata": {},
     "output_type": "execute_result"
    }
   ],
   "source": [
    "m.group()"
   ]
  },
  {
   "cell_type": "markdown",
   "metadata": {},
   "source": [
    "### MULTILINE, M\n",
    "- 여러 줄과 매치 가능하도록 할 떄 사용\n",
    "- ^python: 문자열의 처음이 python으로 반드시 시작해야 함\n",
    "- python$ : 문자열의 마지막이 python으로 반드시 끝나야 함\n",
    "- re.M 옵션은 ^,$ 메타문자를 문자열의 각 line마다 적용!"
   ]
  },
  {
   "cell_type": "code",
   "execution_count": 65,
   "metadata": {},
   "outputs": [],
   "source": [
    "p = re.compile('^python\\s\\w+') #python으로 반드시 처음에 시작하고, 그 뒤에 whitespace, 문자/숫자가 1개 이상 와야 한다는 표현식\n",
    "\n",
    "#이렇게 데이터가 여러줄인 경우..\n",
    "data = '''python one\n",
    "life is too short\n",
    "python two\n",
    "you need python\n",
    "python three'''"
   ]
  },
  {
   "cell_type": "code",
   "execution_count": 66,
   "metadata": {},
   "outputs": [
    {
     "name": "stdout",
     "output_type": "stream",
     "text": [
      "['python one']\n"
     ]
    }
   ],
   "source": [
    "m = p.findall(data)\n",
    "print(m) #딱 1줄만 인식됨..(그 이유는 메타문자 ^가 문자열 전체에 대해 처음이라고 인식하고 있기 때문.)"
   ]
  },
  {
   "cell_type": "code",
   "execution_count": 67,
   "metadata": {},
   "outputs": [
    {
     "name": "stdout",
     "output_type": "stream",
     "text": [
      "['python one', 'python two', 'python three']\n"
     ]
    }
   ],
   "source": [
    "#여러줄 인식되게 할 때 사용(이제 메타문자 ^가 각 line의 처음이라는 뜻으로 사용됨.)\n",
    "p = re.compile('^python\\s\\w+', re.M)\n",
    "print(p.findall(data))"
   ]
  },
  {
   "cell_type": "markdown",
   "metadata": {},
   "source": [
    "### VERBOSE, X\n",
    "- verbose 모드 사용가능 \n",
    "- 정규식을 쉽게 쓸수있도록 함."
   ]
  },
  {
   "cell_type": "code",
   "execution_count": 68,
   "metadata": {},
   "outputs": [],
   "source": [
    "charref = re.compile(r'&[#](0[0-7]+|[0-9]+|x[0-9a-fA-F]+);')"
   ]
  },
  {
   "cell_type": "code",
   "execution_count": 75,
   "metadata": {},
   "outputs": [],
   "source": [
    "#위 기능을 다시 쓰면\n",
    "##re.X의 편한 점은 정규식이 복잡할 경우 주석을 적고 여러 줄로 표현할 수 있게 해줌.\n",
    "charref = re.compile(r'''\n",
    "&[#]                          #여기 주석 쓸수있지롱~\n",
    "(\n",
    "0[0-7]+\n",
    "|[0-9]+\n",
    "|x[0-9a-fA-F]+\n",
    ")\n",
    ";\n",
    "''', re.X)"
   ]
  },
  {
   "cell_type": "code",
   "execution_count": 76,
   "metadata": {},
   "outputs": [
    {
     "name": "stdout",
     "output_type": "stream",
     "text": [
      "None\n"
     ]
    }
   ],
   "source": [
    "print(charref.match('python'))"
   ]
  },
  {
   "cell_type": "markdown",
   "metadata": {},
   "source": [
    "### 백슬래시 문제( \\ )"
   ]
  },
  {
   "cell_type": "code",
   "execution_count": 94,
   "metadata": {},
   "outputs": [
    {
     "name": "stdout",
     "output_type": "stream",
     "text": [
      "[]\n"
     ]
    }
   ],
   "source": [
    "#예를 들어 어떤 파일 내에 있는 '\\section'이라는 문자열을 찾고자 할 때 정규식을 쓰면...\n",
    "p = re.compile('\\section')\n",
    "print(p.findall('This is a \\section of the part.')) #section을 못찾음. 왜냐면 정규표현식 \\s가 whitespace(공백)인줄 알기때문..그래서 얘는 ' ection'만 찾음."
   ]
  },
  {
   "cell_type": "code",
   "execution_count": 99,
   "metadata": {},
   "outputs": [
    {
     "name": "stdout",
     "output_type": "stream",
     "text": [
      "[' ection']\n"
     ]
    }
   ],
   "source": [
    "p = re.compile('\\section')\n",
    "print(p.findall('This is a ection of the part.'))"
   ]
  },
  {
   "cell_type": "code",
   "execution_count": 96,
   "metadata": {},
   "outputs": [
    {
     "name": "stdout",
     "output_type": "stream",
     "text": [
      "[]\n"
     ]
    }
   ],
   "source": [
    "#매치하고 싶으면 백슬래시 두번 쓰기!--> 마찬가지로 \\section으로 인식..(문자열 리터럴 규칙 때문)\n",
    "p = re.compile('\\\\section')\n",
    "print(p.findall('This is a \\section of the part.')) "
   ]
  },
  {
   "cell_type": "code",
   "execution_count": 97,
   "metadata": {},
   "outputs": [
    {
     "name": "stdout",
     "output_type": "stream",
     "text": [
      "['\\\\section']\n"
     ]
    }
   ],
   "source": [
    "#방법1. 백슬래시 4번쓰기 \n",
    "p = re.compile('\\\\\\\\section')\n",
    "print(p.findall('This is a \\section of the part.')) "
   ]
  },
  {
   "cell_type": "code",
   "execution_count": 40,
   "metadata": {},
   "outputs": [
    {
     "name": "stdout",
     "output_type": "stream",
     "text": [
      "['\\\\section']\n"
     ]
    }
   ],
   "source": [
    "#방법2. Raw string 규칙 사용하기 \\\\앞에 r 써주기.\n",
    "p = re.compile(r'\\\\section')\n",
    "print(p.findall('This is a \\section of the part.')) "
   ]
  },
  {
   "cell_type": "code",
   "execution_count": null,
   "metadata": {},
   "outputs": [],
   "source": []
  }
 ],
 "metadata": {
  "kernelspec": {
   "display_name": "Python 3",
   "language": "python",
   "name": "python3"
  },
  "language_info": {
   "codemirror_mode": {
    "name": "ipython",
    "version": 3
   },
   "file_extension": ".py",
   "mimetype": "text/x-python",
   "name": "python",
   "nbconvert_exporter": "python",
   "pygments_lexer": "ipython3",
   "version": "3.7.6"
  }
 },
 "nbformat": 4,
 "nbformat_minor": 4
}
