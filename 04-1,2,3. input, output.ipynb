{
 "cells": [
  {
   "cell_type": "markdown",
   "metadata": {},
   "source": [
    "## 04-1. 함수\n",
    "- 똑같은 과정을 반복할 경우, 함수 정의하면 편리하다.\n",
    "- 프로그램을 만들 때 함수로 만들면 그 과정을 일목요연하게 볼 수 있다.\n",
    "-----\n",
    "- 입력값이 있다: 안에 입력 인자로 받는 게 있음. 함수(입력인자)\n",
    "- 출력값이 있다: return을 사용하고, 변수=함수() 로 쓸수 있다."
   ]
  },
  {
   "cell_type": "code",
   "execution_count": 1,
   "metadata": {},
   "outputs": [],
   "source": [
    "## 1. 일반적인 함수 유형 - 입력값, 출력값 존재\n",
    "def add_num(a,b):\n",
    "    return a+b"
   ]
  },
  {
   "cell_type": "code",
   "execution_count": 15,
   "metadata": {},
   "outputs": [
    {
     "name": "stdout",
     "output_type": "stream",
     "text": [
      "1029\n"
     ]
    }
   ],
   "source": [
    "a=add_num(497, 532)\n",
    "print(a)"
   ]
  },
  {
   "cell_type": "code",
   "execution_count": 3,
   "metadata": {},
   "outputs": [
    {
     "data": {
      "text/plain": [
       "'안녕파이썬'"
      ]
     },
     "execution_count": 3,
     "metadata": {},
     "output_type": "execute_result"
    }
   ],
   "source": [
    "add_num('안녕', '파이썬')"
   ]
  },
  {
   "cell_type": "code",
   "execution_count": 4,
   "metadata": {},
   "outputs": [],
   "source": [
    "## 2. 입력값x, 출력값만 있는 함수\n",
    "def say():\n",
    "    return 'Hi'"
   ]
  },
  {
   "cell_type": "code",
   "execution_count": 11,
   "metadata": {},
   "outputs": [
    {
     "name": "stdout",
     "output_type": "stream",
     "text": [
      "Hi\n"
     ]
    }
   ],
   "source": [
    "a= say()\n",
    "print(a)"
   ]
  },
  {
   "cell_type": "code",
   "execution_count": 7,
   "metadata": {},
   "outputs": [],
   "source": [
    "## 3. 입력값만 있고, 출력값x 함수\n",
    "def sum(a,b):\n",
    "    print('%d, %d의 합은 %d입니다.'%(a,b,a+b)) #돌려주는 값은 없고 그냥 print문 출력만 함."
   ]
  },
  {
   "cell_type": "code",
   "execution_count": 8,
   "metadata": {},
   "outputs": [
    {
     "name": "stdout",
     "output_type": "stream",
     "text": [
      "2, 5의 합은 7입니다.\n"
     ]
    }
   ],
   "source": [
    "sum(2,5)"
   ]
  },
  {
   "cell_type": "code",
   "execution_count": 12,
   "metadata": {},
   "outputs": [
    {
     "name": "stdout",
     "output_type": "stream",
     "text": [
      "2, 5의 합은 7입니다.\n",
      "None\n"
     ]
    }
   ],
   "source": [
    "a= sum(2,5)\n",
    "print(a) #출력값이 없음!(출력은 항상 return으로만 받을 수 있음.)"
   ]
  },
  {
   "cell_type": "code",
   "execution_count": 13,
   "metadata": {},
   "outputs": [],
   "source": [
    "## 4. 입력값x, 출력값x 함수 \n",
    "def say():\n",
    "    print('Hi')"
   ]
  },
  {
   "cell_type": "code",
   "execution_count": 14,
   "metadata": {},
   "outputs": [
    {
     "name": "stdout",
     "output_type": "stream",
     "text": [
      "Hi\n",
      "None\n"
     ]
    }
   ],
   "source": [
    "a=say()\n",
    "print(a)"
   ]
  },
  {
   "cell_type": "markdown",
   "metadata": {},
   "source": [
    "### 입력값이 몇 개가 될지 모를 때는: 입력 변수 앞에 * 를 써주자!\n",
    "- def 함수명(*입력변수): 수행문 \n",
    "- (*입력변수) 이렇게 쓰면 자동으로 들어오는 입력변수들을 모두 모아 튜플로 반환한다고 생각"
   ]
  },
  {
   "cell_type": "code",
   "execution_count": 18,
   "metadata": {},
   "outputs": [],
   "source": [
    "#여러 개의 입력값을 받고, 이를 모두 더하는 함수\n",
    "def sum_many(*args): #*뒤에는 아무 거나 써도 됨. 관례적으로 args를 쓴 것\n",
    "    sum_=0\n",
    "    for i in args:\n",
    "        sum_ +=i\n",
    "    return sum_"
   ]
  },
  {
   "cell_type": "code",
   "execution_count": 19,
   "metadata": {},
   "outputs": [
    {
     "data": {
      "text/plain": [
       "5"
      ]
     },
     "execution_count": 19,
     "metadata": {},
     "output_type": "execute_result"
    }
   ],
   "source": [
    "sum_many(2,3)"
   ]
  },
  {
   "cell_type": "code",
   "execution_count": 20,
   "metadata": {},
   "outputs": [
    {
     "data": {
      "text/plain": [
       "81"
      ]
     },
     "execution_count": 20,
     "metadata": {},
     "output_type": "execute_result"
    }
   ],
   "source": [
    "sum_many(2,3,4,5,23,32,12)"
   ]
  },
  {
   "cell_type": "code",
   "execution_count": 21,
   "metadata": {},
   "outputs": [
    {
     "data": {
      "text/plain": [
       "1654"
      ]
     },
     "execution_count": 21,
     "metadata": {},
     "output_type": "execute_result"
    }
   ],
   "source": [
    "sum_many(23,1,31,34,1,3,43,45,53,4,232,21,1,65,65,3,341,3,32,653)"
   ]
  },
  {
   "cell_type": "code",
   "execution_count": 22,
   "metadata": {},
   "outputs": [
    {
     "name": "stdout",
     "output_type": "stream",
     "text": [
      "15\n"
     ]
    }
   ],
   "source": [
    "a= sum_many(1,2,3,4,5)\n",
    "print(a)"
   ]
  },
  {
   "cell_type": "code",
   "execution_count": 23,
   "metadata": {},
   "outputs": [],
   "source": [
    "#무조건 *args만 쓸수 있는 건 아님. 다른 입력인자도 받을 수 있다!\n",
    "#choice값으로 'sum'이 들어오면 args들을 더하고, 'mul'이 들어오면 args들을 곱한 값을 반환\n",
    "\n",
    "def sum_mul(choice, *args):\n",
    "    if choice == 'sum':\n",
    "        result = 0\n",
    "        for i in args:\n",
    "            result+= i\n",
    "    elif choice == 'mul':\n",
    "        result = 1\n",
    "        for i in args:\n",
    "            result *= i \n",
    "    return result\n",
    "    "
   ]
  },
  {
   "cell_type": "code",
   "execution_count": 29,
   "metadata": {},
   "outputs": [
    {
     "name": "stdout",
     "output_type": "stream",
     "text": [
      "45\n"
     ]
    }
   ],
   "source": [
    "result = sum_mul('sum', 1,2,3,4,5,6,7,8,9)\n",
    "print(result)"
   ]
  },
  {
   "cell_type": "code",
   "execution_count": 30,
   "metadata": {},
   "outputs": [
    {
     "name": "stdout",
     "output_type": "stream",
     "text": [
      "30\n"
     ]
    }
   ],
   "source": [
    "a = sum_mul('mul', 3,5,2)\n",
    "print(a)"
   ]
  },
  {
   "cell_type": "code",
   "execution_count": 26,
   "metadata": {},
   "outputs": [
    {
     "ename": "UnboundLocalError",
     "evalue": "local variable 'result' referenced before assignment",
     "output_type": "error",
     "traceback": [
      "\u001b[1;31m---------------------------------------------------------------------------\u001b[0m",
      "\u001b[1;31mUnboundLocalError\u001b[0m                         Traceback (most recent call last)",
      "\u001b[1;32m<ipython-input-26-43e7aa3cda2e>\u001b[0m in \u001b[0;36m<module>\u001b[1;34m\u001b[0m\n\u001b[1;32m----> 1\u001b[1;33m \u001b[0msum_mul\u001b[0m\u001b[1;33m(\u001b[0m\u001b[1;36m32\u001b[0m\u001b[1;33m,\u001b[0m\u001b[1;36m1\u001b[0m\u001b[1;33m,\u001b[0m\u001b[1;36m4\u001b[0m\u001b[1;33m)\u001b[0m\u001b[1;33m\u001b[0m\u001b[1;33m\u001b[0m\u001b[0m\n\u001b[0m",
      "\u001b[1;32m<ipython-input-23-567a1f9f74ee>\u001b[0m in \u001b[0;36msum_mul\u001b[1;34m(choice, *args)\u001b[0m\n\u001b[0;32m     11\u001b[0m         \u001b[1;32mfor\u001b[0m \u001b[0mi\u001b[0m \u001b[1;32min\u001b[0m \u001b[0margs\u001b[0m\u001b[1;33m:\u001b[0m\u001b[1;33m\u001b[0m\u001b[1;33m\u001b[0m\u001b[0m\n\u001b[0;32m     12\u001b[0m             \u001b[0mresult\u001b[0m \u001b[1;33m*=\u001b[0m \u001b[0mi\u001b[0m\u001b[1;33m\u001b[0m\u001b[1;33m\u001b[0m\u001b[0m\n\u001b[1;32m---> 13\u001b[1;33m     \u001b[1;32mreturn\u001b[0m \u001b[0mresult\u001b[0m\u001b[1;33m\u001b[0m\u001b[1;33m\u001b[0m\u001b[0m\n\u001b[0m\u001b[0;32m     14\u001b[0m \u001b[1;33m\u001b[0m\u001b[0m\n",
      "\u001b[1;31mUnboundLocalError\u001b[0m: local variable 'result' referenced before assignment"
     ]
    }
   ],
   "source": [
    "sum_mul(32,1,4)"
   ]
  },
  {
   "cell_type": "code",
   "execution_count": 28,
   "metadata": {},
   "outputs": [
    {
     "ename": "UnboundLocalError",
     "evalue": "local variable 'result' referenced before assignment",
     "output_type": "error",
     "traceback": [
      "\u001b[1;31m---------------------------------------------------------------------------\u001b[0m",
      "\u001b[1;31mUnboundLocalError\u001b[0m                         Traceback (most recent call last)",
      "\u001b[1;32m<ipython-input-28-9a4dc16c848e>\u001b[0m in \u001b[0;36m<module>\u001b[1;34m\u001b[0m\n\u001b[1;32m----> 1\u001b[1;33m \u001b[0msum_mul\u001b[0m\u001b[1;33m(\u001b[0m\u001b[1;34m'suyeon'\u001b[0m\u001b[1;33m,\u001b[0m\u001b[1;36m1\u001b[0m\u001b[1;33m,\u001b[0m\u001b[1;36m2\u001b[0m\u001b[1;33m)\u001b[0m\u001b[1;33m\u001b[0m\u001b[1;33m\u001b[0m\u001b[0m\n\u001b[0m",
      "\u001b[1;32m<ipython-input-23-567a1f9f74ee>\u001b[0m in \u001b[0;36msum_mul\u001b[1;34m(choice, *args)\u001b[0m\n\u001b[0;32m     11\u001b[0m         \u001b[1;32mfor\u001b[0m \u001b[0mi\u001b[0m \u001b[1;32min\u001b[0m \u001b[0margs\u001b[0m\u001b[1;33m:\u001b[0m\u001b[1;33m\u001b[0m\u001b[1;33m\u001b[0m\u001b[0m\n\u001b[0;32m     12\u001b[0m             \u001b[0mresult\u001b[0m \u001b[1;33m*=\u001b[0m \u001b[0mi\u001b[0m\u001b[1;33m\u001b[0m\u001b[1;33m\u001b[0m\u001b[0m\n\u001b[1;32m---> 13\u001b[1;33m     \u001b[1;32mreturn\u001b[0m \u001b[0mresult\u001b[0m\u001b[1;33m\u001b[0m\u001b[1;33m\u001b[0m\u001b[0m\n\u001b[0m\u001b[0;32m     14\u001b[0m \u001b[1;33m\u001b[0m\u001b[0m\n",
      "\u001b[1;31mUnboundLocalError\u001b[0m: local variable 'result' referenced before assignment"
     ]
    }
   ],
   "source": [
    "sum_mul('suyeon',1,2)"
   ]
  },
  {
   "cell_type": "markdown",
   "metadata": {},
   "source": [
    "### 함수의 결과값은 언제나 하나!\n",
    "- return값으로 여러개를 쓰더라도 에러는 발생하지 않지만, 결과값은 언제나 하나이기 때문에 튜플로 묶어서 값을 반환함."
   ]
  },
  {
   "cell_type": "code",
   "execution_count": 31,
   "metadata": {},
   "outputs": [],
   "source": [
    "def sum_and_mul(a,b):\n",
    "    return a+b, a*b"
   ]
  },
  {
   "cell_type": "code",
   "execution_count": 32,
   "metadata": {},
   "outputs": [
    {
     "name": "stdout",
     "output_type": "stream",
     "text": [
      "(7, 12)\n"
     ]
    }
   ],
   "source": [
    "result = sum_and_mul(3,4)\n",
    "print(result)"
   ]
  },
  {
   "cell_type": "code",
   "execution_count": 34,
   "metadata": {},
   "outputs": [
    {
     "name": "stdout",
     "output_type": "stream",
     "text": [
      "7\n",
      "10\n"
     ]
    }
   ],
   "source": [
    "#그래서 따로 값을 받고자 하면 튜플의 원리를 이용해서..\n",
    "sum, mul = sum_and_mul(2,5)\n",
    "print(sum)\n",
    "print(mul)"
   ]
  },
  {
   "cell_type": "code",
   "execution_count": 38,
   "metadata": {},
   "outputs": [],
   "source": [
    "#의문...\n",
    "def sum_and_mul(a,b):\n",
    "    return a+b #이렇게 return문을 2개 이상 쓰게되면 첫번째 값만 출력된다. (첫번째 return만 실행되기 때문임..)\n",
    "    return a*b\n",
    "    return a-b\n",
    "    return a**b\n",
    "    return a/b"
   ]
  },
  {
   "cell_type": "code",
   "execution_count": 39,
   "metadata": {},
   "outputs": [
    {
     "name": "stdout",
     "output_type": "stream",
     "text": [
      "7\n"
     ]
    }
   ],
   "source": [
    "result = sum_and_mul(3,4)\n",
    "print(result)"
   ]
  },
  {
   "cell_type": "code",
   "execution_count": 40,
   "metadata": {},
   "outputs": [],
   "source": [
    "def 사칙연산(a,b):\n",
    "    return a+b, a-b, a*b, a/b, a%b"
   ]
  },
  {
   "cell_type": "code",
   "execution_count": 41,
   "metadata": {},
   "outputs": [
    {
     "name": "stdout",
     "output_type": "stream",
     "text": [
      "(15, -5, 50, 0.5, 5)\n"
     ]
    }
   ],
   "source": [
    "print(사칙연산(5,10))"
   ]
  },
  {
   "cell_type": "code",
   "execution_count": 42,
   "metadata": {},
   "outputs": [
    {
     "name": "stdout",
     "output_type": "stream",
     "text": [
      "15 -5 50 0.5 5\n"
     ]
    }
   ],
   "source": [
    "x, y, z, w, s = 사칙연산(5,10)\n",
    "print(x,y,z,w,s)"
   ]
  },
  {
   "cell_type": "markdown",
   "metadata": {},
   "source": [
    "### return의 또다른 쓰임새: return 뒤에 아무것도 안쓰면 함수를 즉시 빠져나갈수 있다!"
   ]
  },
  {
   "cell_type": "code",
   "execution_count": 1,
   "metadata": {},
   "outputs": [],
   "source": [
    "#이 예시 역시 리턴값(출력값)은 없다.\n",
    "def say_suyeon(suyeon):\n",
    "    if suyeon=='수연':\n",
    "        return\n",
    "    print('나의 별명은 %s 입니다.'%suyeon)"
   ]
  },
  {
   "cell_type": "code",
   "execution_count": 2,
   "metadata": {},
   "outputs": [
    {
     "name": "stdout",
     "output_type": "stream",
     "text": [
      "나의 별명은 수양 입니다.\n"
     ]
    }
   ],
   "source": [
    "say_suyeon('수양')"
   ]
  },
  {
   "cell_type": "code",
   "execution_count": 3,
   "metadata": {},
   "outputs": [
    {
     "name": "stdout",
     "output_type": "stream",
     "text": [
      "나의 별명은 수양이 입니다.\n",
      "None\n"
     ]
    }
   ],
   "source": [
    "a=say_suyeon('수양이')\n",
    "print(a)"
   ]
  },
  {
   "cell_type": "code",
   "execution_count": 4,
   "metadata": {},
   "outputs": [
    {
     "name": "stdout",
     "output_type": "stream",
     "text": [
      "None\n"
     ]
    }
   ],
   "source": [
    "a=say_suyeon('수연') #그냥 실행만 되고 출력되는건 없음 \n",
    "print(a)"
   ]
  },
  {
   "cell_type": "markdown",
   "metadata": {},
   "source": [
    "### 입력인수에 초깃값 미리 설정하기"
   ]
  },
  {
   "cell_type": "code",
   "execution_count": 55,
   "metadata": {},
   "outputs": [],
   "source": [
    "#자신의 이름, 나이, 성별을 출력(리턴값은 없음)\n",
    "#초기값으로 man=True라고 설정.\n",
    "def say_myself(name, old, man=True):\n",
    "    print('나의 이름은 %s 입니다.'%name)\n",
    "    print('나의 나이는 %s 세입니다.'%old)\n",
    "    if man:            ## 여기서 man == True라고 쓸필요도 없다! 디폴트가 True니까!!(값이 있다고 봄)\n",
    "        print('나는 남자입니다.')\n",
    "    else: print('나는 여자입니다.')"
   ]
  },
  {
   "cell_type": "code",
   "execution_count": 58,
   "metadata": {},
   "outputs": [
    {
     "name": "stdout",
     "output_type": "stream",
     "text": [
      "나의 이름은 최수연 입니다.\n",
      "나의 나이는 25 세입니다.\n",
      "나는 여자입니다.\n"
     ]
    }
   ],
   "source": [
    "say_myself('최수연', 25, man=False)"
   ]
  },
  {
   "cell_type": "code",
   "execution_count": 59,
   "metadata": {},
   "outputs": [
    {
     "name": "stdout",
     "output_type": "stream",
     "text": [
      "나의 이름은 최수연 입니다.\n",
      "나의 나이는 25 세입니다.\n",
      "나는 여자입니다.\n"
     ]
    }
   ],
   "source": [
    "say_myself('최수연', 25, False)"
   ]
  },
  {
   "cell_type": "code",
   "execution_count": 61,
   "metadata": {},
   "outputs": [
    {
     "name": "stdout",
     "output_type": "stream",
     "text": [
      "나의 이름은 김똥개 입니다.\n",
      "나의 나이는 25 세입니다.\n",
      "나는 남자입니다.\n"
     ]
    }
   ],
   "source": [
    "say_myself('김똥개', 25)"
   ]
  },
  {
   "cell_type": "code",
   "execution_count": 62,
   "metadata": {},
   "outputs": [
    {
     "ename": "SyntaxError",
     "evalue": "non-default argument follows default argument (<ipython-input-62-2620fee1559a>, line 2)",
     "output_type": "error",
     "traceback": [
      "\u001b[1;36m  File \u001b[1;32m\"<ipython-input-62-2620fee1559a>\"\u001b[1;36m, line \u001b[1;32m2\u001b[0m\n\u001b[1;33m    def say_myself(name, man=True, old):\u001b[0m\n\u001b[1;37m                  ^\u001b[0m\n\u001b[1;31mSyntaxError\u001b[0m\u001b[1;31m:\u001b[0m non-default argument follows default argument\n"
     ]
    }
   ],
   "source": [
    "##주의사항: 위치 주의\n",
    "def say_myself(name, man=True, old):\n",
    "    print('나의 이름은 %s 입니다.'%name)\n",
    "    print('나의 나이는 %s 세입니다.'%old)\n",
    "    if man:            ## 여기서 man == True라고 쓸필요도 없다! 디폴트가 True니까!!(값이 있다고 봄)\n",
    "        print('나는 남자입니다.')\n",
    "    else: print('나는 여자입니다.')"
   ]
  },
  {
   "cell_type": "markdown",
   "metadata": {},
   "source": [
    "- 에러 메세지를 보면, 초기값을 설정한 입력인수 뒤에 초기값 설정하지 않은 입력인수를 쓸수 없다고 되어있다.\n",
    "- 즉, 초기값을 설정할거라면 그 입력인수는 항상 __맨 마지막에!!__ 써야함을 잊지말자."
   ]
  },
  {
   "cell_type": "markdown",
   "metadata": {},
   "source": [
    "### 함수 안에서 선언된 변수의 효력 범위 \n",
    "- 함수 안에서 선언된 변수는, 함수 밖에서의 변수와 같지 않다.(함수 밖에서 쓸수가 없다)\n",
    "- 그래서 함수 안에서 선언된 변수는 함수 안에서밖에 못쓴다. 함수 밖에서 백날 출력해봤자 파이썬은 얘가 누군지 모른다!!"
   ]
  },
  {
   "cell_type": "code",
   "execution_count": 79,
   "metadata": {},
   "outputs": [],
   "source": [
    "#밑의 예시를 보자. 함수 밖에서 a=1로 선언된 변수가 있고, 함수 안에서도 a라는 변수를 사용했다.\n",
    "a=1\n",
    "\n",
    "def vartest(a): #결과값이 없는 함수(return이 없음!)\n",
    "    a=a+1"
   ]
  },
  {
   "cell_type": "code",
   "execution_count": 80,
   "metadata": {},
   "outputs": [],
   "source": [
    "vartest(a) #출력된게 없음."
   ]
  },
  {
   "cell_type": "code",
   "execution_count": 81,
   "metadata": {},
   "outputs": [
    {
     "name": "stdout",
     "output_type": "stream",
     "text": [
      "1\n"
     ]
    }
   ],
   "source": [
    "print(a) #하지만 a를 출력해보면 2가 나올거 같지만 1이 나온다. 그 이유는 함수 밖에서 a=1로 선언했기 때문이고 함수 안에 있던 a는 a가 아니기 때문"
   ]
  },
  {
   "cell_type": "code",
   "execution_count": 82,
   "metadata": {},
   "outputs": [],
   "source": [
    "#그래서 위의 vartest()함수는\n",
    "def vartest(hello):\n",
    "    hello = hello+1 #이것과 같다."
   ]
  },
  {
   "cell_type": "code",
   "execution_count": 83,
   "metadata": {},
   "outputs": [],
   "source": [
    "vartest(a)"
   ]
  },
  {
   "cell_type": "code",
   "execution_count": 84,
   "metadata": {},
   "outputs": [],
   "source": [
    "del a #앞의 a=1을 지우고나서, \n",
    "#확실하게 이해해보자.\n",
    "def vartest(a):\n",
    "    a= a+1"
   ]
  },
  {
   "cell_type": "code",
   "execution_count": 85,
   "metadata": {},
   "outputs": [],
   "source": [
    "vartest(3)"
   ]
  },
  {
   "cell_type": "code",
   "execution_count": 86,
   "metadata": {},
   "outputs": [
    {
     "ename": "NameError",
     "evalue": "name 'a' is not defined",
     "output_type": "error",
     "traceback": [
      "\u001b[1;31m---------------------------------------------------------------------------\u001b[0m",
      "\u001b[1;31mNameError\u001b[0m                                 Traceback (most recent call last)",
      "\u001b[1;32m<ipython-input-86-bca0e2660b9f>\u001b[0m in \u001b[0;36m<module>\u001b[1;34m\u001b[0m\n\u001b[1;32m----> 1\u001b[1;33m \u001b[0mprint\u001b[0m\u001b[1;33m(\u001b[0m\u001b[0ma\u001b[0m\u001b[1;33m)\u001b[0m\u001b[1;33m\u001b[0m\u001b[1;33m\u001b[0m\u001b[0m\n\u001b[0m",
      "\u001b[1;31mNameError\u001b[0m: name 'a' is not defined"
     ]
    }
   ],
   "source": [
    "print(a)"
   ]
  },
  {
   "cell_type": "markdown",
   "metadata": {},
   "source": [
    "### # 그렇다면, 함수 안의 a란 변수를 밖에서도 쓸 수 있게 하는 방법은? 2가지\n",
    "- `return` 이용하기 \n",
    "- `global` 이용하기"
   ]
  },
  {
   "cell_type": "code",
   "execution_count": 87,
   "metadata": {},
   "outputs": [],
   "source": [
    "#1. return 이용하기(물론 함수 안의 a와 밖의 a는 다르다!)\n",
    "a=1\n",
    "def vartest(a):\n",
    "    a= a+1\n",
    "    return a"
   ]
  },
  {
   "cell_type": "code",
   "execution_count": 88,
   "metadata": {},
   "outputs": [
    {
     "name": "stdout",
     "output_type": "stream",
     "text": [
      "2\n"
     ]
    }
   ],
   "source": [
    "a= vartest(a)\n",
    "print(a)"
   ]
  },
  {
   "cell_type": "code",
   "execution_count": 89,
   "metadata": {},
   "outputs": [],
   "source": [
    "#2. global 명령어 이용하기\n",
    "a=1\n",
    "def vartest():\n",
    "    global a #global을 이용하면 외부변수인 a를 함수안에서도 직접적으로 쓰겠단 뜻.(여기선 a=1을 함수 안에서도 쓰겠단 것)\n",
    "    a= a+1"
   ]
  },
  {
   "cell_type": "code",
   "execution_count": 90,
   "metadata": {},
   "outputs": [],
   "source": [
    "vartest()"
   ]
  },
  {
   "cell_type": "code",
   "execution_count": 91,
   "metadata": {},
   "outputs": [
    {
     "name": "stdout",
     "output_type": "stream",
     "text": [
      "2\n"
     ]
    }
   ],
   "source": [
    "print(a) #하지만 되도록 global은 쓰지 않는게 좋다.(외부 변수에 종속적인 함수는 좋은 함수가 아니기 때문.)"
   ]
  },
  {
   "cell_type": "markdown",
   "metadata": {},
   "source": [
    "## 04-2. 사용자 입력(input)과 출력"
   ]
  },
  {
   "cell_type": "markdown",
   "metadata": {},
   "source": [
    "### 사용자 입력\n",
    "- input의 사용\n",
    "- 프롬프트 띄워 사용자의 입력 받기"
   ]
  },
  {
   "cell_type": "code",
   "execution_count": 97,
   "metadata": {},
   "outputs": [
    {
     "name": "stdout",
     "output_type": "stream",
     "text": [
      "2\n",
      "<class 'str'>\n"
     ]
    }
   ],
   "source": [
    "#input: 주의. input은 입력되는 모든 것을 문자열로 취급함 \n",
    "a= input()\n",
    "print(type(a))"
   ]
  },
  {
   "cell_type": "code",
   "execution_count": 96,
   "metadata": {},
   "outputs": [
    {
     "name": "stdout",
     "output_type": "stream",
     "text": [
      "2\n",
      "<class 'int'>\n"
     ]
    }
   ],
   "source": [
    "#만일 숫자를 입력받고 싶을 땐\n",
    "a=int(input())\n",
    "print(type(a))"
   ]
  },
  {
   "cell_type": "code",
   "execution_count": 98,
   "metadata": {},
   "outputs": [
    {
     "name": "stdout",
     "output_type": "stream",
     "text": [
      "숫자를 입력하세요: 3\n"
     ]
    }
   ],
   "source": [
    "#프롬프트 띄우기\n",
    "num = input('숫자를 입력하세요: ')"
   ]
  },
  {
   "cell_type": "markdown",
   "metadata": {},
   "source": [
    "### print 자세히 알기"
   ]
  },
  {
   "cell_type": "code",
   "execution_count": 105,
   "metadata": {},
   "outputs": [
    {
     "name": "stdout",
     "output_type": "stream",
     "text": [
      "life is too short\n"
     ]
    }
   ],
   "source": [
    "#우리가 입력한 것을 출력하는것 외에도 다른 기능들이 있다!\n",
    "#1. 따옴표('')로 둘러싸인 문자열은 + 연산과 동일하다.(콤마를 쓰면 띄어쓰기가 자동으로 된다.)\n",
    "print('life','is','too short')"
   ]
  },
  {
   "cell_type": "code",
   "execution_count": 103,
   "metadata": {},
   "outputs": [
    {
     "name": "stdout",
     "output_type": "stream",
     "text": [
      "lifeistoo short\n"
     ]
    }
   ],
   "source": [
    "print('life''is''too short')"
   ]
  },
  {
   "cell_type": "code",
   "execution_count": 104,
   "metadata": {},
   "outputs": [
    {
     "name": "stdout",
     "output_type": "stream",
     "text": [
      "lifeistoo short\n"
     ]
    }
   ],
   "source": [
    "print('life'+'is'+'too short')"
   ]
  },
  {
   "cell_type": "code",
   "execution_count": 106,
   "metadata": {},
   "outputs": [
    {
     "name": "stdout",
     "output_type": "stream",
     "text": [
      "0\n",
      "1\n",
      "2\n",
      "3\n",
      "4\n",
      "5\n",
      "6\n",
      "7\n",
      "8\n",
      "9\n"
     ]
    }
   ],
   "source": [
    "#2. 한 줄에 결과값 출력할 땐 end='' 이용하기\n",
    "for i in range(10):\n",
    "    print(i)"
   ]
  },
  {
   "cell_type": "code",
   "execution_count": 107,
   "metadata": {},
   "outputs": [
    {
     "name": "stdout",
     "output_type": "stream",
     "text": [
      "0123456789"
     ]
    }
   ],
   "source": [
    "for i in range(10):\n",
    "    print(i, end='')"
   ]
  },
  {
   "cell_type": "code",
   "execution_count": 108,
   "metadata": {},
   "outputs": [
    {
     "name": "stdout",
     "output_type": "stream",
     "text": [
      "0 1 2 3 4 5 6 7 8 9 "
     ]
    }
   ],
   "source": [
    "for i in range(10):\n",
    "    print(i, end=' ')"
   ]
  },
  {
   "cell_type": "markdown",
   "metadata": {},
   "source": [
    "## 04-3. 파일 읽고 쓰기"
   ]
  },
  {
   "cell_type": "markdown",
   "metadata": {},
   "source": [
    "### 파일 생성하기\n",
    "- 파일 객체 = open(파일 이름, 파일 열기 모드) ex. f=open('suy.txt', 'w')\n",
    "- 파일 열기 모드: r(읽기 모드), w(쓰기 모드), a(추가 모드)"
   ]
  },
  {
   "cell_type": "code",
   "execution_count": 109,
   "metadata": {},
   "outputs": [],
   "source": [
    "#빈 txt 파일 생성 - 디렉토리에 저장됨.\n",
    "f= open('새파일.txt', 'w')\n",
    "f.close()"
   ]
  },
  {
   "cell_type": "code",
   "execution_count": 110,
   "metadata": {},
   "outputs": [],
   "source": [
    "#원하는 디렉토리에 생성\n",
    "f= open('C:\\Python\\새파일.txt', 'w')\n",
    "f.close()"
   ]
  },
  {
   "cell_type": "markdown",
   "metadata": {},
   "source": [
    "### 파일을 쓰기 모드로 열고 출력값 적기\n",
    "- 주의: 만일 쓰기 모드로 연다면, 이미 존재하는 파일을 쓰기 모드로 열면 기존 내용이 모두 삭제됨. / 해당 파일이 존재하지 않으면 새롭게 생성됨."
   ]
  },
  {
   "cell_type": "code",
   "execution_count": 111,
   "metadata": {},
   "outputs": [],
   "source": [
    "f= open('C:\\Python\\새파일.txt', 'w') #열기 \n",
    "for i in range(1,11):\n",
    "    data = '%d번째 줄입니다.\\n'%i\n",
    "    f.write(data)                            #쓰기\n",
    "f.close()"
   ]
  },
  {
   "cell_type": "markdown",
   "metadata": {},
   "source": [
    "### 외부 파일을 읽기(실질적으로 많이 씀)\n",
    "- readline()\n",
    "- readlines()\n",
    "- read()"
   ]
  },
  {
   "cell_type": "code",
   "execution_count": 119,
   "metadata": {},
   "outputs": [
    {
     "name": "stdout",
     "output_type": "stream",
     "text": [
      "1번째 줄입니다.\n",
      "\n"
     ]
    }
   ],
   "source": [
    "#readline 함수 이용: 한줄씩만 읽음.(type:문자열)\n",
    "f= open('C:\\Python\\새파일.txt','r')\n",
    "line = f.readline() #파일의 첫번쨰 줄만 읽어 출력.\n",
    "print(line)\n",
    "f.close()"
   ]
  },
  {
   "cell_type": "code",
   "execution_count": 120,
   "metadata": {},
   "outputs": [
    {
     "data": {
      "text/plain": [
       "'1번째 줄입니다.\\n'"
      ]
     },
     "execution_count": 120,
     "metadata": {},
     "output_type": "execute_result"
    }
   ],
   "source": [
    "line"
   ]
  },
  {
   "cell_type": "code",
   "execution_count": 114,
   "metadata": {},
   "outputs": [
    {
     "name": "stdout",
     "output_type": "stream",
     "text": [
      "1번째 줄입니다.\n",
      "\n",
      "2번째 줄입니다.\n",
      "\n",
      "3번째 줄입니다.\n",
      "\n",
      "4번째 줄입니다.\n",
      "\n",
      "5번째 줄입니다.\n",
      "\n",
      "6번째 줄입니다.\n",
      "\n",
      "7번째 줄입니다.\n",
      "\n",
      "8번째 줄입니다.\n",
      "\n",
      "9번째 줄입니다.\n",
      "\n",
      "10번째 줄입니다.\n",
      "\n"
     ]
    }
   ],
   "source": [
    "#전체 라인을 읽어 출력하고 싶다면\n",
    "f= open('C:\\Python\\새파일.txt','r')\n",
    "while True: #무한정 읽기(break되면 빠져나옴)\n",
    "    line = f.readline()\n",
    "    if not line: \n",
    "        break\n",
    "    print(line)\n",
    "f.close()"
   ]
  },
  {
   "cell_type": "code",
   "execution_count": 115,
   "metadata": {},
   "outputs": [
    {
     "name": "stdout",
     "output_type": "stream",
     "text": [
      "1\n",
      "1\n",
      "3\n",
      "3\n",
      "0\n",
      "0\n",
      "\n"
     ]
    }
   ],
   "source": [
    "while 1:\n",
    "    data=input()\n",
    "    if not data: break #아무것도 입력하지 않으면 빠져나옴 \n",
    "    print(data)"
   ]
  },
  {
   "cell_type": "code",
   "execution_count": 116,
   "metadata": {},
   "outputs": [
    {
     "name": "stdout",
     "output_type": "stream",
     "text": [
      "1번째 줄입니다.\n",
      "\n",
      "2번째 줄입니다.\n",
      "\n",
      "3번째 줄입니다.\n",
      "\n",
      "4번째 줄입니다.\n",
      "\n",
      "5번째 줄입니다.\n",
      "\n",
      "6번째 줄입니다.\n",
      "\n",
      "7번째 줄입니다.\n",
      "\n",
      "8번째 줄입니다.\n",
      "\n",
      "9번째 줄입니다.\n",
      "\n",
      "10번째 줄입니다.\n",
      "\n"
     ]
    }
   ],
   "source": [
    "#readlines()함수 이용: 전체를 다 읽어옴.\n",
    "f= open('C:/Python/새파일.txt','r')\n",
    "lines = f.readlines() #전체 읽어옴(type:리스트)\n",
    "\n",
    "for line in lines:\n",
    "    print(line)\n",
    "f.close()"
   ]
  },
  {
   "cell_type": "code",
   "execution_count": 118,
   "metadata": {},
   "outputs": [
    {
     "data": {
      "text/plain": [
       "['1번째 줄입니다.\\n',\n",
       " '2번째 줄입니다.\\n',\n",
       " '3번째 줄입니다.\\n',\n",
       " '4번째 줄입니다.\\n',\n",
       " '5번째 줄입니다.\\n',\n",
       " '6번째 줄입니다.\\n',\n",
       " '7번째 줄입니다.\\n',\n",
       " '8번째 줄입니다.\\n',\n",
       " '9번째 줄입니다.\\n',\n",
       " '10번째 줄입니다.\\n']"
      ]
     },
     "execution_count": 118,
     "metadata": {},
     "output_type": "execute_result"
    }
   ],
   "source": [
    "lines"
   ]
  },
  {
   "cell_type": "code",
   "execution_count": 124,
   "metadata": {},
   "outputs": [
    {
     "data": {
      "text/plain": [
       "'6번째 줄입니다.\\n'"
      ]
     },
     "execution_count": 124,
     "metadata": {},
     "output_type": "execute_result"
    }
   ],
   "source": [
    "lines[5]"
   ]
  },
  {
   "cell_type": "code",
   "execution_count": 125,
   "metadata": {},
   "outputs": [
    {
     "name": "stdout",
     "output_type": "stream",
     "text": [
      "['1번째 줄입니다.\\n', '2번째 줄입니다.\\n', '3번째 줄입니다.\\n', '4번째 줄입니다.\\n', '5번째 줄입니다.\\n']\n"
     ]
    }
   ],
   "source": [
    "#앞의 5줄만 읽고자 한다면?\n",
    "f= open('C:/Python/새파일.txt','r')\n",
    "lines = f.readlines() #전체 읽어옴(type:리스트)\n",
    "print(lines[:5])\n",
    "f.close()"
   ]
  },
  {
   "cell_type": "code",
   "execution_count": 121,
   "metadata": {},
   "outputs": [
    {
     "name": "stdout",
     "output_type": "stream",
     "text": [
      "1번째 줄입니다.\n",
      "2번째 줄입니다.\n",
      "3번째 줄입니다.\n",
      "4번째 줄입니다.\n",
      "5번째 줄입니다.\n",
      "6번째 줄입니다.\n",
      "7번째 줄입니다.\n",
      "8번째 줄입니다.\n",
      "9번째 줄입니다.\n",
      "10번째 줄입니다.\n",
      "\n"
     ]
    }
   ],
   "source": [
    "#read 사용\n",
    "f=open('C:\\Python\\새파일.txt','r')\n",
    "data = f.read() #전체 내용을 불러옴(type:문자열)\n",
    "print(data)\n",
    "f.close()"
   ]
  },
  {
   "cell_type": "code",
   "execution_count": 122,
   "metadata": {},
   "outputs": [
    {
     "data": {
      "text/plain": [
       "'1번째 줄입니다.\\n2번째 줄입니다.\\n3번째 줄입니다.\\n4번째 줄입니다.\\n5번째 줄입니다.\\n6번째 줄입니다.\\n7번째 줄입니다.\\n8번째 줄입니다.\\n9번째 줄입니다.\\n10번째 줄입니다.\\n'"
      ]
     },
     "execution_count": 122,
     "metadata": {},
     "output_type": "execute_result"
    }
   ],
   "source": [
    "data"
   ]
  },
  {
   "cell_type": "code",
   "execution_count": 123,
   "metadata": {},
   "outputs": [
    {
     "data": {
      "text/plain": [
       "'입'"
      ]
     },
     "execution_count": 123,
     "metadata": {},
     "output_type": "execute_result"
    }
   ],
   "source": [
    "data[5]"
   ]
  },
  {
   "cell_type": "code",
   "execution_count": 127,
   "metadata": {},
   "outputs": [
    {
     "name": "stdout",
     "output_type": "stream",
     "text": [
      "1번째 줄입니다.\n",
      "2번째 줄입니다.\n",
      "3번째 줄입니다.\n",
      "4번째 줄입니다.\n",
      "5번째 줄입니다.\n",
      "\n"
     ]
    }
   ],
   "source": [
    "f=open('C:\\Python\\새파일.txt','r')\n",
    "data = f.read() #전체 내용을 불러옴(type:문자열)\n",
    "print(data[:50])\n",
    "f.close()"
   ]
  },
  {
   "cell_type": "markdown",
   "metadata": {},
   "source": [
    "### 파일에 새로운 내용 추가하기(수정하기)\n",
    "- 원래의 값을 유지하면서 새로운 값만 추가하기"
   ]
  },
  {
   "cell_type": "code",
   "execution_count": 129,
   "metadata": {},
   "outputs": [],
   "source": [
    "f=open('C:\\Python\\새파일.txt','a')\n",
    "for i in range(11,20):\n",
    "    data = '%d번째 줄입니다.\\n'%i\n",
    "    f.write(data)\n",
    "f.close()"
   ]
  },
  {
   "cell_type": "code",
   "execution_count": 130,
   "metadata": {},
   "outputs": [
    {
     "name": "stdout",
     "output_type": "stream",
     "text": [
      "1번째 줄입니다.\n",
      "2번째 줄입니다.\n",
      "3번째 줄입니다.\n",
      "4번째 줄입니다.\n",
      "5번째 줄입니다.\n",
      "6번째 줄입니다.\n",
      "7번째 줄입니다.\n",
      "8번째 줄입니다.\n",
      "9번째 줄입니다.\n",
      "10번째 줄입니다.\n",
      "11번째 줄입니다.\n",
      "12번째 줄입니다.\n",
      "13번째 줄입니다.\n",
      "14번째 줄입니다.\n",
      "15번째 줄입니다.\n",
      "16번째 줄입니다.\n",
      "17번째 줄입니다.\n",
      "18번째 줄입니다.\n",
      "19번째 줄입니다.\n",
      "\n"
     ]
    }
   ],
   "source": [
    "#파일 열어서 확인\n",
    "f=open('C:\\Python\\새파일.txt','r')\n",
    "data = f.read()\n",
    "print(data)\n",
    "f.close()"
   ]
  },
  {
   "cell_type": "markdown",
   "metadata": {},
   "source": [
    "### with문과 함께 사용하기\n",
    "- 파일을 열고 닫는 것을 자동으로 해줌!"
   ]
  },
  {
   "cell_type": "code",
   "execution_count": 133,
   "metadata": {},
   "outputs": [],
   "source": [
    "#배웠던 방법으로 하면\n",
    "f=open('foo.txt', 'w')\n",
    "f.write('Life is too short, You need python!')\n",
    "f.close()"
   ]
  },
  {
   "cell_type": "code",
   "execution_count": 135,
   "metadata": {},
   "outputs": [
    {
     "name": "stdout",
     "output_type": "stream",
     "text": [
      "Life is too short, You need python!\n"
     ]
    }
   ],
   "source": [
    "f=open('foo.txt','r')\n",
    "print(f.read())\n",
    "f.close()"
   ]
  },
  {
   "cell_type": "code",
   "execution_count": 136,
   "metadata": {},
   "outputs": [],
   "source": [
    "## with를 써서 open, close를 자동으로 해줄수 있음.\n",
    "with open('foo2.txt', 'w') as f:\n",
    "    f.write('Life is too short, You need python!') #따로 close를 안써도 with 블록을 벗어나는 순간 자동으로 close된다."
   ]
  },
  {
   "cell_type": "code",
   "execution_count": 138,
   "metadata": {},
   "outputs": [
    {
     "name": "stdout",
     "output_type": "stream",
     "text": [
      "Life is too short, You need python!\n"
     ]
    }
   ],
   "source": [
    "with open('foo2.txt', 'r') as f:\n",
    "    print(f.read())"
   ]
  },
  {
   "cell_type": "markdown",
   "metadata": {},
   "source": [
    "### (참고) sys 모듈로 입력 인수 주기\n",
    "- sys1.py: argv는 명령창에서 입력한 변수들을 의미. 먼저 sys.argv[0]는 sys1.py이다. // sys1.py를 도스에서 실행할 때는 이 파일을 불러온 후, 뒤에 aaa bbb ccc를 써보자. 그럼 얘네가 차례대로 sys.argv[1], [2], [3]이 되므로 1번 인덱스 이후 값들이 출력돼야 하니 aaa bbb ccc가 출력될 것임.\n",
    "- sys2.py: 마찬가지로 도스 실행 시 불러오고, 뒤에 문자를 쓰면 대문자로 바뀌어 출력됨."
   ]
  },
  {
   "cell_type": "code",
   "execution_count": 139,
   "metadata": {},
   "outputs": [
    {
     "name": "stdout",
     "output_type": "stream",
     "text": [
      "-f\n",
      "C:\\Users\\user\\AppData\\Roaming\\jupyter\\runtime\\kernel-6884a300-98dd-4a38-a2ef-90d2d8016442.json\n"
     ]
    }
   ],
   "source": [
    "#sys1.py로 실행하기!\n",
    "import sys\n",
    "\n",
    "args = sys.argv[1:]\n",
    "for i in args:\n",
    "    print(i)"
   ]
  },
  {
   "cell_type": "code",
   "execution_count": null,
   "metadata": {},
   "outputs": [],
   "source": []
  }
 ],
 "metadata": {
  "kernelspec": {
   "display_name": "Python 3",
   "language": "python",
   "name": "python3"
  },
  "language_info": {
   "codemirror_mode": {
    "name": "ipython",
    "version": 3
   },
   "file_extension": ".py",
   "mimetype": "text/x-python",
   "name": "python",
   "nbconvert_exporter": "python",
   "pygments_lexer": "ipython3",
   "version": "3.7.6"
  }
 },
 "nbformat": 4,
 "nbformat_minor": 4
}
