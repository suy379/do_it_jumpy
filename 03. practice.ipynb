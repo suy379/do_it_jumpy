{
 "cells": [
  {
   "cell_type": "code",
   "execution_count": 3,
   "metadata": {},
   "outputs": [
    {
     "name": "stdout",
     "output_type": "stream",
     "text": [
      "shirt\n"
     ]
    }
   ],
   "source": [
    "#if문\n",
    "#1. 다음 코드의 결과값은 무엇일까?\n",
    "a= 'Life is too short, you need python'\n",
    "\n",
    "if 'wife' in a: print('wife')\n",
    "elif 'python' in a and 'you' not in a: print('python')\n",
    "elif 'shirt' not in a: print('shirt')\n",
    "elif 'need' in a: print('need')\n",
    "else: print('none')"
   ]
  },
  {
   "cell_type": "code",
   "execution_count": 7,
   "metadata": {},
   "outputs": [
    {
     "name": "stdout",
     "output_type": "stream",
     "text": [
      "*\n",
      "**\n",
      "***\n",
      "****\n",
      "*****\n"
     ]
    }
   ],
   "source": [
    "#while문\n",
    "#2. while문을 이용해 별을 표시하는 프로그램을 작성하라.\n",
    "i=0\n",
    "while True:\n",
    "    i +=1\n",
    "    if i >5: break\n",
    "    print('*'*i)"
   ]
  },
  {
   "cell_type": "code",
   "execution_count": 8,
   "metadata": {},
   "outputs": [
    {
     "name": "stdout",
     "output_type": "stream",
     "text": [
      "79.0\n"
     ]
    }
   ],
   "source": [
    "#for문\n",
    "#3. A학급에 총 10명의 학생이 있고 이들의 중간고사 성적이 주어져 있다.\n",
    "#for문을 이용해 A학급의 평균 점수를 구해보자.\n",
    "A=[70, 60, 55, 75, 95, 90, 80, 80, 85, 100]\n",
    "total = 0\n",
    "for a in A:\n",
    "    total += a\n",
    "average = total/len(A)\n",
    "print(average)"
   ]
  },
  {
   "cell_type": "code",
   "execution_count": null,
   "metadata": {},
   "outputs": [],
   "source": []
  }
 ],
 "metadata": {
  "kernelspec": {
   "display_name": "Python 3",
   "language": "python",
   "name": "python3"
  },
  "language_info": {
   "codemirror_mode": {
    "name": "ipython",
    "version": 3
   },
   "file_extension": ".py",
   "mimetype": "text/x-python",
   "name": "python",
   "nbconvert_exporter": "python",
   "pygments_lexer": "ipython3",
   "version": "3.7.6"
  }
 },
 "nbformat": 4,
 "nbformat_minor": 4
}
