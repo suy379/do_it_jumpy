{
 "cells": [
  {
   "cell_type": "markdown",
   "metadata": {},
   "source": [
    "## 05-1. 클래스(Class)"
   ]
  },
  {
   "cell_type": "code",
   "execution_count": 10,
   "metadata": {},
   "outputs": [],
   "source": [
    "#계산기(덧셈)를 앞서 배운 함수를 통해 구현 - adder함수에 하나씩 넣을 때마다 계속 더해지게 만들기\n",
    "result = 0\n",
    "\n",
    "def adder(num): \n",
    "    global result #참고로, 여기에 result=0를 쓰면 안됨! 그럼 adder 함수 실행할 때마다 초기화되서 0에다가 더해지게 됨.\n",
    "    result += num\n",
    "    return result"
   ]
  },
  {
   "cell_type": "code",
   "execution_count": 11,
   "metadata": {},
   "outputs": [
    {
     "data": {
      "text/plain": [
       "3"
      ]
     },
     "execution_count": 11,
     "metadata": {},
     "output_type": "execute_result"
    }
   ],
   "source": [
    "adder(3)"
   ]
  },
  {
   "cell_type": "code",
   "execution_count": 12,
   "metadata": {},
   "outputs": [
    {
     "data": {
      "text/plain": [
       "10"
      ]
     },
     "execution_count": 12,
     "metadata": {},
     "output_type": "execute_result"
    }
   ],
   "source": [
    "adder(7)"
   ]
  },
  {
   "cell_type": "code",
   "execution_count": 13,
   "metadata": {},
   "outputs": [
    {
     "data": {
      "text/plain": [
       "20"
      ]
     },
     "execution_count": 13,
     "metadata": {},
     "output_type": "execute_result"
    }
   ],
   "source": [
    "adder(10)"
   ]
  },
  {
   "cell_type": "code",
   "execution_count": 14,
   "metadata": {},
   "outputs": [
    {
     "data": {
      "text/plain": [
       "10"
      ]
     },
     "execution_count": 14,
     "metadata": {},
     "output_type": "execute_result"
    }
   ],
   "source": [
    "adder(-10)"
   ]
  },
  {
   "cell_type": "code",
   "execution_count": 15,
   "metadata": {},
   "outputs": [],
   "source": [
    "#한 프로그램에서 2개의 계산기가 필요하다면? --> 함수를 2개 만들기.\n",
    "result1= 0\n",
    "result2= 0\n",
    "\n",
    "def adder1(num):\n",
    "    global result1\n",
    "    result1 += num\n",
    "    return result1\n",
    "\n",
    "def adder2(num):\n",
    "    global result2\n",
    "    result2 +=num\n",
    "    return result2"
   ]
  },
  {
   "cell_type": "code",
   "execution_count": 16,
   "metadata": {},
   "outputs": [
    {
     "name": "stdout",
     "output_type": "stream",
     "text": [
      "3\n",
      "7\n"
     ]
    }
   ],
   "source": [
    "print(adder1(3))\n",
    "print(adder1(4))"
   ]
  },
  {
   "cell_type": "code",
   "execution_count": 17,
   "metadata": {},
   "outputs": [
    {
     "name": "stdout",
     "output_type": "stream",
     "text": [
      "2\n",
      "7\n"
     ]
    }
   ],
   "source": [
    "print(adder2(2))\n",
    "print(adder2(5))"
   ]
  },
  {
   "cell_type": "markdown",
   "metadata": {},
   "source": [
    "- 똑같은 일을 하는 adder1, adder2가 만들어짐. (그리고 adder1의 결과가 adder2에 영향 미치지 않음)\n",
    "- 그렇다면 만일 계산기가 3개, 5개, ... 이렇게 많이 필요하면 그때마다 똑같은 함수를 만들어야 할까? --> No. class를 이용하자!"
   ]
  },
  {
   "cell_type": "code",
   "execution_count": 20,
   "metadata": {},
   "outputs": [],
   "source": [
    "class Calculator:\n",
    "    def __init__(self):\n",
    "        self.result = 0\n",
    "        \n",
    "    def adder(self, num): #클래스 내의 함수들 정의 -> 인스턴스들에 이용.\n",
    "        self.result += num\n",
    "        return self.result\n",
    "    \n",
    "cal1 = Calculator() #이렇게 Calculator라는 클래스를 한번 만들어 놓으니까 이제 필요할 때마다 호출해서 계속 새로운 계산기 객체(인스턴스)를 만들 수 있음!\n",
    "cal2 = Calculator()"
   ]
  },
  {
   "cell_type": "code",
   "execution_count": 22,
   "metadata": {},
   "outputs": [
    {
     "name": "stdout",
     "output_type": "stream",
     "text": [
      "3\n",
      "7\n"
     ]
    }
   ],
   "source": [
    "print(cal1.adder(3))\n",
    "print(cal1.adder(4))"
   ]
  },
  {
   "cell_type": "code",
   "execution_count": 23,
   "metadata": {},
   "outputs": [
    {
     "name": "stdout",
     "output_type": "stream",
     "text": [
      "2\n",
      "7\n"
     ]
    }
   ],
   "source": [
    "print(cal2.adder(2))\n",
    "print(cal2.adder(5))"
   ]
  },
  {
   "cell_type": "markdown",
   "metadata": {},
   "source": [
    "### 클래스 개념 잡기\n",
    "- 이렇듯 클래스를 이용하면 함수보다 훨씬 간단해진다!\n",
    "- __클래스__란 뽑기의 틀처럼, 똑같은 무엇인가를 계속해서 만들어낼수 있는 설계 도면\n",
    "- __인스턴스__란 클래스에 의해 만들어진 피조물(별/하트가 찍힌 뽑기)"
   ]
  },
  {
   "cell_type": "code",
   "execution_count": 24,
   "metadata": {},
   "outputs": [],
   "source": [
    "#간단한 예(클래스)\n",
    "class Simple:\n",
    "    pass"
   ]
  },
  {
   "cell_type": "code",
   "execution_count": 25,
   "metadata": {},
   "outputs": [
    {
     "name": "stdout",
     "output_type": "stream",
     "text": [
      "<__main__.Simple object at 0x000001F752272148>\n"
     ]
    }
   ],
   "source": [
    "a= Simple() #인스턴스\n",
    "print(a)"
   ]
  },
  {
   "cell_type": "markdown",
   "metadata": {},
   "source": [
    "### 클래스 기초 쌓기\n",
    "- 클래스 내 함수를 쓰고 싶으면 __반드시 함수의 첫번쨰 인수로 self를 써줘야 한다!!__\n",
    "- 클래스로 찍어낸 인스턴스 안에도 클래스 함수(def로 정의된 것)의 피가 흐르고 있다고 생각"
   ]
  },
  {
   "cell_type": "code",
   "execution_count": 26,
   "metadata": {},
   "outputs": [],
   "source": [
    "##클래스 변수\n",
    "class Service:\n",
    "    secret = '영구는 배꼽이 두 개다.' #비밀 정보를 갖고 있는 클래스로, 가입을 해야만 이 정보를 얻을 수 있음."
   ]
  },
  {
   "cell_type": "code",
   "execution_count": 27,
   "metadata": {},
   "outputs": [],
   "source": [
    "#가입(인스턴스 찍어내기)\n",
    "pey = Service()"
   ]
  },
  {
   "cell_type": "code",
   "execution_count": 28,
   "metadata": {},
   "outputs": [
    {
     "data": {
      "text/plain": [
       "'영구는 배꼽이 두 개다.'"
      ]
     },
     "execution_count": 28,
     "metadata": {},
     "output_type": "execute_result"
    }
   ],
   "source": [
    "pey.secret #가입을 했으니 이제 비밀 정보를 얻을 수 있음.(참고로 secret은 함수가 아니므로 뒤에 ()를 붙일 필요 없다.)"
   ]
  },
  {
   "cell_type": "code",
   "execution_count": 33,
   "metadata": {},
   "outputs": [],
   "source": [
    "##클래스 함수\n",
    "class Service:\n",
    "    secret = '영구는 배꼽이 두 개다.'\n",
    "    def sum(self, a, b):\n",
    "        result = a+b\n",
    "        print('%d + %d = %d입니다.'%(a,b,result))"
   ]
  },
  {
   "cell_type": "code",
   "execution_count": 34,
   "metadata": {},
   "outputs": [],
   "source": [
    "pey = Service()"
   ]
  },
  {
   "cell_type": "code",
   "execution_count": 35,
   "metadata": {},
   "outputs": [
    {
     "data": {
      "text/plain": [
       "'영구는 배꼽이 두 개다.'"
      ]
     },
     "execution_count": 35,
     "metadata": {},
     "output_type": "execute_result"
    }
   ],
   "source": [
    "pey.secret"
   ]
  },
  {
   "cell_type": "code",
   "execution_count": 36,
   "metadata": {},
   "outputs": [
    {
     "name": "stdout",
     "output_type": "stream",
     "text": [
      "1 + 2 = 3입니다.\n"
     ]
    }
   ],
   "source": [
    "pey.sum(1,2) #sum은 클래스의 함수이므로 뒤에 ()를 붙여 준다."
   ]
  },
  {
   "cell_type": "markdown",
   "metadata": {},
   "source": [
    "#### 함수 업그레이드: self 제대로 알기"
   ]
  },
  {
   "cell_type": "code",
   "execution_count": 37,
   "metadata": {},
   "outputs": [],
   "source": [
    "#이름 출력 서비스 추가\n",
    "class Service:\n",
    "    secret = '영구는 배꼽이 두 개다.'\n",
    "    def setname(self, name):\n",
    "        self.name = name          #name을 쓰게 되면 이것은 self(인스턴스).name 값이 되므로(self.name이 새롭게 지정한 객체이다.)\n",
    "    def sum(self, a, b):\n",
    "        result = a+b\n",
    "        print('%s 님 %d + %d = %d입니다.'%(self.name,a,b,result))  #여기에 들어갈 수 있게 된다.\n",
    "        "
   ]
  },
  {
   "cell_type": "code",
   "execution_count": 38,
   "metadata": {},
   "outputs": [],
   "source": [
    "suyeon = Service()"
   ]
  },
  {
   "cell_type": "code",
   "execution_count": 42,
   "metadata": {},
   "outputs": [
    {
     "name": "stdout",
     "output_type": "stream",
     "text": [
      "수연 님 1 + 1 = 2입니다.\n"
     ]
    }
   ],
   "source": [
    "suyeon.setname('수연')\n",
    "suyeon.sum(1,1)"
   ]
  },
  {
   "cell_type": "markdown",
   "metadata": {},
   "source": [
    "#### __init__은 무엇인가?"
   ]
  },
  {
   "cell_type": "code",
   "execution_count": 43,
   "metadata": {},
   "outputs": [
    {
     "ename": "AttributeError",
     "evalue": "'Service' object has no attribute 'name'",
     "output_type": "error",
     "traceback": [
      "\u001b[1;31m---------------------------------------------------------------------------\u001b[0m",
      "\u001b[1;31mAttributeError\u001b[0m                            Traceback (most recent call last)",
      "\u001b[1;32m<ipython-input-43-f434c2611df1>\u001b[0m in \u001b[0;36m<module>\u001b[1;34m\u001b[0m\n\u001b[0;32m      1\u001b[0m \u001b[1;31m#항의 전화\u001b[0m\u001b[1;33m\u001b[0m\u001b[1;33m\u001b[0m\u001b[1;33m\u001b[0m\u001b[0m\n\u001b[0;32m      2\u001b[0m \u001b[0mbabo\u001b[0m \u001b[1;33m=\u001b[0m \u001b[0mService\u001b[0m\u001b[1;33m(\u001b[0m\u001b[1;33m)\u001b[0m\u001b[1;33m\u001b[0m\u001b[1;33m\u001b[0m\u001b[0m\n\u001b[1;32m----> 3\u001b[1;33m \u001b[0mbabo\u001b[0m\u001b[1;33m.\u001b[0m\u001b[0msum\u001b[0m\u001b[1;33m(\u001b[0m\u001b[1;36m1\u001b[0m\u001b[1;33m,\u001b[0m\u001b[1;36m1\u001b[0m\u001b[1;33m)\u001b[0m\u001b[1;33m\u001b[0m\u001b[1;33m\u001b[0m\u001b[0m\n\u001b[0m",
      "\u001b[1;32m<ipython-input-37-69ed0049b1cd>\u001b[0m in \u001b[0;36msum\u001b[1;34m(self, a, b)\u001b[0m\n\u001b[0;32m      6\u001b[0m     \u001b[1;32mdef\u001b[0m \u001b[0msum\u001b[0m\u001b[1;33m(\u001b[0m\u001b[0mself\u001b[0m\u001b[1;33m,\u001b[0m \u001b[0ma\u001b[0m\u001b[1;33m,\u001b[0m \u001b[0mb\u001b[0m\u001b[1;33m)\u001b[0m\u001b[1;33m:\u001b[0m\u001b[1;33m\u001b[0m\u001b[1;33m\u001b[0m\u001b[0m\n\u001b[0;32m      7\u001b[0m         \u001b[0mresult\u001b[0m \u001b[1;33m=\u001b[0m \u001b[0ma\u001b[0m\u001b[1;33m+\u001b[0m\u001b[0mb\u001b[0m\u001b[1;33m\u001b[0m\u001b[1;33m\u001b[0m\u001b[0m\n\u001b[1;32m----> 8\u001b[1;33m         \u001b[0mprint\u001b[0m\u001b[1;33m(\u001b[0m\u001b[1;34m'%s 님 %d + %d = %d입니다.'\u001b[0m\u001b[1;33m%\u001b[0m\u001b[1;33m(\u001b[0m\u001b[0mself\u001b[0m\u001b[1;33m.\u001b[0m\u001b[0mname\u001b[0m\u001b[1;33m,\u001b[0m\u001b[0ma\u001b[0m\u001b[1;33m,\u001b[0m\u001b[0mb\u001b[0m\u001b[1;33m,\u001b[0m\u001b[0mresult\u001b[0m\u001b[1;33m)\u001b[0m\u001b[1;33m)\u001b[0m\u001b[1;33m\u001b[0m\u001b[1;33m\u001b[0m\u001b[0m\n\u001b[0m\u001b[0;32m      9\u001b[0m \u001b[1;33m\u001b[0m\u001b[0m\n",
      "\u001b[1;31mAttributeError\u001b[0m: 'Service' object has no attribute 'name'"
     ]
    }
   ],
   "source": [
    "#항의 전화\n",
    "babo = Service()\n",
    "babo.sum(1,1) #왜 이게 에러가 뜰까?? --> setname을 먼저 실행하지 않으면 에러가 뜬다!"
   ]
  },
  {
   "cell_type": "code",
   "execution_count": 44,
   "metadata": {},
   "outputs": [],
   "source": [
    "#setname을 실행하지 않아도 바로 sum함수를 실행할수 있는 방법이 없나?\n",
    "#setname 함수를 지우고, __init__을 사용!\n",
    "class Service:\n",
    "    secret = '영구는 배꼽이 두 개다.'\n",
    "    def __init__(self, name): ###init의 기능: 인스턴스를 만들 때 반드시 실행된다!!!!! (앞으로는 인스턴스를 만드려면 init 뒤의 입력인자들을 써줘야 가능하다.)\n",
    "        self.name = name\n",
    "    def sum(self, a, b):\n",
    "        result = a+b\n",
    "        print('%s 님 %d + %d = %d입니다.'%(self.name,a,b,result)) "
   ]
  },
  {
   "cell_type": "code",
   "execution_count": 45,
   "metadata": {},
   "outputs": [
    {
     "ename": "TypeError",
     "evalue": "__init__() missing 1 required positional argument: 'name'",
     "output_type": "error",
     "traceback": [
      "\u001b[1;31m---------------------------------------------------------------------------\u001b[0m",
      "\u001b[1;31mTypeError\u001b[0m                                 Traceback (most recent call last)",
      "\u001b[1;32m<ipython-input-45-df4d2cd2604d>\u001b[0m in \u001b[0;36m<module>\u001b[1;34m\u001b[0m\n\u001b[1;32m----> 1\u001b[1;33m \u001b[0mbabo\u001b[0m \u001b[1;33m=\u001b[0m \u001b[0mService\u001b[0m\u001b[1;33m(\u001b[0m\u001b[1;33m)\u001b[0m\u001b[1;33m\u001b[0m\u001b[1;33m\u001b[0m\u001b[0m\n\u001b[0m",
      "\u001b[1;31mTypeError\u001b[0m: __init__() missing 1 required positional argument: 'name'"
     ]
    }
   ],
   "source": [
    "babo = Service()"
   ]
  },
  {
   "cell_type": "code",
   "execution_count": 46,
   "metadata": {},
   "outputs": [],
   "source": [
    "babo = Service('난바보') #이래야만 인스턴스가 만들어짐."
   ]
  },
  {
   "cell_type": "code",
   "execution_count": 47,
   "metadata": {},
   "outputs": [
    {
     "name": "stdout",
     "output_type": "stream",
     "text": [
      "난바보 님 4 + 7 = 11입니다.\n"
     ]
    }
   ],
   "source": [
    "babo.sum(4,7)"
   ]
  },
  {
   "cell_type": "markdown",
   "metadata": {},
   "source": [
    "### 클래스 자세히 알기\n",
    "- 클래스를 이용하면 함수보다 더 우아하게 프로그램을 만들 수 있다 +_+\n",
    "- 클래스 함수 = __메서드__"
   ]
  },
  {
   "cell_type": "raw",
   "metadata": {},
   "source": [
    "# 클래스의 구조 - []대괄호 안에 있는 것은 생략 가능하단 뜻.\n",
    "\n",
    "class 클래스명[(상속 클래스명)]:  #상속할 클래스명이 없다면 안써도 된다.\n",
    "    <클래스 변수 1>\n",
    "    <클래스 변수 2>\n",
    "    ...\n",
    "    <클래스 변수 N>\n",
    "    \n",
    "    def 클래스 함수1(self[, 인수1, 인수2, ...]):\n",
    "        수행할 문장 1\n",
    "        수행할 문장 2 \n",
    "        ...\n",
    "    def 클래스 함수 2(self[, 인수1, 인수2, ..]):\n",
    "    \n",
    "    ...\n",
    "    "
   ]
  },
  {
   "cell_type": "markdown",
   "metadata": {},
   "source": [
    "### 사칙연산 클래스 만들기\n",
    "- 미리 구상후 만들어보자.\n",
    "- 클래스명: FourCal\n",
    "- 2개의 숫자 입력받기: setdata 메서드\n",
    "- 더하기: sum 메서드/ 빼기: sub/곱하기: mul/나누기: div"
   ]
  },
  {
   "cell_type": "code",
   "execution_count": null,
   "metadata": {},
   "outputs": [],
   "source": [
    "#인스턴스는 다음과 같이 쓰게 될 것이다.(실행x)\n",
    "a = FourCal()\n",
    "a.setdata(11, 17)\n",
    "print(a.sum(), a.mul(), a.sub(), a.div())"
   ]
  },
  {
   "cell_type": "code",
   "execution_count": 48,
   "metadata": {},
   "outputs": [],
   "source": [
    "#클래스 구조 만들기\n",
    "class FourCal:\n",
    "    pass ##아무것도 수행하지 않는단 뜻. 임시로 코드를 만들 때 주로 씀"
   ]
  },
  {
   "cell_type": "code",
   "execution_count": 49,
   "metadata": {},
   "outputs": [
    {
     "data": {
      "text/plain": [
       "__main__.FourCal"
      ]
     },
     "execution_count": 49,
     "metadata": {},
     "output_type": "execute_result"
    }
   ],
   "source": [
    "a=FourCal()\n",
    "type(a)"
   ]
  },
  {
   "cell_type": "code",
   "execution_count": 56,
   "metadata": {},
   "outputs": [],
   "source": [
    "class FourCal:\n",
    "    def setdata(self, a, b): #객체에 숫자 지정할 수 있게 만들기\n",
    "        self.a = a\n",
    "        self.b = b\n",
    "    def sum(self): #사칙연산 함수들 만듦 \n",
    "        return self.a + self.b\n",
    "    def sub(self):\n",
    "        return self.a - self.b\n",
    "    def mul(self):\n",
    "        return self.a * self.b\n",
    "    def div(self):\n",
    "        return self.a / self.b"
   ]
  },
  {
   "cell_type": "code",
   "execution_count": 57,
   "metadata": {},
   "outputs": [
    {
     "name": "stdout",
     "output_type": "stream",
     "text": [
      "6 8 2 2.0\n"
     ]
    }
   ],
   "source": [
    "#이제 앞서 썼던 코드가 돌아갈 것임.\n",
    "a = FourCal()\n",
    "a.setdata(4, 2)\n",
    "print(a.sum(), a.mul(), a.sub(), a.div())"
   ]
  },
  {
   "cell_type": "code",
   "execution_count": 58,
   "metadata": {},
   "outputs": [],
   "source": [
    "#setdata 함수 정의하지 말고 그냥 __init__으로 통일해보자.\n",
    "class FourCal:\n",
    "    def __init__(self, a, b):\n",
    "        self.a = a\n",
    "        self.b = b\n",
    "    def sum(self): #사칙연산 함수들 만듦 \n",
    "        return self.a + self.b\n",
    "    def sub(self):\n",
    "        return self.a - self.b\n",
    "    def mul(self):\n",
    "        return self.a * self.b\n",
    "    def div(self):\n",
    "        return self.a / self.b"
   ]
  },
  {
   "cell_type": "code",
   "execution_count": 59,
   "metadata": {},
   "outputs": [
    {
     "name": "stdout",
     "output_type": "stream",
     "text": [
      "6 8 2 2.0\n"
     ]
    }
   ],
   "source": [
    "a = FourCal(4, 2)\n",
    "print(a.sum(), a.mul(), a.sub(), a.div())"
   ]
  },
  {
   "cell_type": "markdown",
   "metadata": {},
   "source": [
    "### 박씨네 집 클래스 만들기\n",
    "- 미리 구상해보자.\n",
    "- 클래스명: HousePark\n",
    "- 박씨 가족 이름 설정 -> setname 메서드\n",
    "- 박씨 가족 중 한 사람이 여행 가고 싶은 곳 출력 -> travel 메서드"
   ]
  },
  {
   "cell_type": "code",
   "execution_count": null,
   "metadata": {},
   "outputs": [],
   "source": [
    "#인스턴스를 만들어 출력하려면 다음과 같을 것이다.(실행x)\n",
    "pey = HousePark()\n",
    "print(pey.lastname) #성은 자동으로 '박'이 출력되도록 하자.\n",
    "pey.setname('응용') #이름을 설정할수 있게 하고 \n",
    "print(pey.fullname) #'박응용'이렇게 성+이름이 출력되도록 하자.\n",
    "pey.travel('부산') #이걸 하면 바로 '박응용, 부산여행을 가다.'이렇게 출력되도록 하자."
   ]
  },
  {
   "cell_type": "code",
   "execution_count": 1,
   "metadata": {},
   "outputs": [],
   "source": [
    "class HousePark:\n",
    "    pass"
   ]
  },
  {
   "cell_type": "code",
   "execution_count": 2,
   "metadata": {},
   "outputs": [
    {
     "data": {
      "text/plain": [
       "__main__.HousePark"
      ]
     },
     "execution_count": 2,
     "metadata": {},
     "output_type": "execute_result"
    }
   ],
   "source": [
    "pey = HousePark()\n",
    "type(pey)"
   ]
  },
  {
   "cell_type": "code",
   "execution_count": 3,
   "metadata": {},
   "outputs": [],
   "source": [
    "class HousePark:\n",
    "    #클래스 변수 설정 \n",
    "    lastname = '박'"
   ]
  },
  {
   "cell_type": "code",
   "execution_count": 4,
   "metadata": {},
   "outputs": [
    {
     "name": "stdout",
     "output_type": "stream",
     "text": [
      "박\n"
     ]
    }
   ],
   "source": [
    "pey = HousePark()\n",
    "print(pey.lastname) #출력시 lastname은 함수(메서드)가 아니니까 그냥 출력 "
   ]
  },
  {
   "cell_type": "code",
   "execution_count": 5,
   "metadata": {},
   "outputs": [
    {
     "name": "stdout",
     "output_type": "stream",
     "text": [
      "박\n"
     ]
    }
   ],
   "source": [
    "su = HousePark()\n",
    "print(su.lastname)"
   ]
  },
  {
   "cell_type": "code",
   "execution_count": 25,
   "metadata": {},
   "outputs": [],
   "source": [
    "class HousePark:\n",
    "    #클래스 변수 설정 (여기엔 self를 쓰면 안된다!)\n",
    "    lastname = '박'\n",
    "    def setname(self, first):\n",
    "        self.fullname = self.lastname + first #여기서 아예 self.fullname을 만든다. self.fullname을 반드시 return할 필욘 없음.\n",
    "    def travel(self, where):\n",
    "        print('%s, %s여행을 가다.'%(self.fullname, where))"
   ]
  },
  {
   "cell_type": "code",
   "execution_count": 26,
   "metadata": {},
   "outputs": [
    {
     "name": "stdout",
     "output_type": "stream",
     "text": [
      "박\n"
     ]
    }
   ],
   "source": [
    "pey = HousePark()\n",
    "print(pey.lastname)"
   ]
  },
  {
   "cell_type": "code",
   "execution_count": 27,
   "metadata": {},
   "outputs": [],
   "source": [
    "pey.setname('응용')"
   ]
  },
  {
   "cell_type": "code",
   "execution_count": 28,
   "metadata": {},
   "outputs": [
    {
     "name": "stdout",
     "output_type": "stream",
     "text": [
      "박응용\n"
     ]
    }
   ],
   "source": [
    "print(pey.fullname) #출력 가능(마찬가지로 fullname도 함수가 아니므로 뒤에 ()를 쓰면 안된다.)"
   ]
  },
  {
   "cell_type": "code",
   "execution_count": 29,
   "metadata": {},
   "outputs": [
    {
     "name": "stdout",
     "output_type": "stream",
     "text": [
      "박응용, 부산여행을 가다.\n"
     ]
    }
   ],
   "source": [
    "pey.travel('부산')"
   ]
  },
  {
   "cell_type": "markdown",
   "metadata": {},
   "source": [
    "### 초깃값 설정하기(init)"
   ]
  },
  {
   "cell_type": "code",
   "execution_count": 30,
   "metadata": {},
   "outputs": [
    {
     "ename": "AttributeError",
     "evalue": "'HousePark' object has no attribute 'fullname'",
     "output_type": "error",
     "traceback": [
      "\u001b[1;31m---------------------------------------------------------------------------\u001b[0m",
      "\u001b[1;31mAttributeError\u001b[0m                            Traceback (most recent call last)",
      "\u001b[1;32m<ipython-input-30-a45abdade91b>\u001b[0m in \u001b[0;36m<module>\u001b[1;34m\u001b[0m\n\u001b[0;32m      1\u001b[0m \u001b[1;31m#만일 다음과 같이 하면 실행이 안된다.\u001b[0m\u001b[1;33m\u001b[0m\u001b[1;33m\u001b[0m\u001b[1;33m\u001b[0m\u001b[0m\n\u001b[0;32m      2\u001b[0m \u001b[0mpark\u001b[0m \u001b[1;33m=\u001b[0m \u001b[0mHousePark\u001b[0m\u001b[1;33m(\u001b[0m\u001b[1;33m)\u001b[0m\u001b[1;33m\u001b[0m\u001b[1;33m\u001b[0m\u001b[0m\n\u001b[1;32m----> 3\u001b[1;33m \u001b[0mpark\u001b[0m\u001b[1;33m.\u001b[0m\u001b[0mtravel\u001b[0m\u001b[1;33m(\u001b[0m\u001b[1;34m'부산'\u001b[0m\u001b[1;33m)\u001b[0m\u001b[1;33m\u001b[0m\u001b[1;33m\u001b[0m\u001b[0m\n\u001b[0m",
      "\u001b[1;32m<ipython-input-25-604dae70271c>\u001b[0m in \u001b[0;36mtravel\u001b[1;34m(self, where)\u001b[0m\n\u001b[0;32m      5\u001b[0m         \u001b[0mself\u001b[0m\u001b[1;33m.\u001b[0m\u001b[0mfullname\u001b[0m \u001b[1;33m=\u001b[0m \u001b[0mself\u001b[0m\u001b[1;33m.\u001b[0m\u001b[0mlastname\u001b[0m \u001b[1;33m+\u001b[0m \u001b[0mfirst\u001b[0m \u001b[1;31m#여기서 아예 self.fullname을 만든다. self.fullname을 반드시 return할 필욘 없음.\u001b[0m\u001b[1;33m\u001b[0m\u001b[1;33m\u001b[0m\u001b[0m\n\u001b[0;32m      6\u001b[0m     \u001b[1;32mdef\u001b[0m \u001b[0mtravel\u001b[0m\u001b[1;33m(\u001b[0m\u001b[0mself\u001b[0m\u001b[1;33m,\u001b[0m \u001b[0mwhere\u001b[0m\u001b[1;33m)\u001b[0m\u001b[1;33m:\u001b[0m\u001b[1;33m\u001b[0m\u001b[1;33m\u001b[0m\u001b[0m\n\u001b[1;32m----> 7\u001b[1;33m         \u001b[0mprint\u001b[0m\u001b[1;33m(\u001b[0m\u001b[1;34m'%s, %s여행을 가다.'\u001b[0m\u001b[1;33m%\u001b[0m\u001b[1;33m(\u001b[0m\u001b[0mself\u001b[0m\u001b[1;33m.\u001b[0m\u001b[0mfullname\u001b[0m\u001b[1;33m,\u001b[0m \u001b[0mwhere\u001b[0m\u001b[1;33m)\u001b[0m\u001b[1;33m)\u001b[0m\u001b[1;33m\u001b[0m\u001b[1;33m\u001b[0m\u001b[0m\n\u001b[0m",
      "\u001b[1;31mAttributeError\u001b[0m: 'HousePark' object has no attribute 'fullname'"
     ]
    }
   ],
   "source": [
    "#만일 다음과 같이 하면 실행이 안된다.\n",
    "park = HousePark()\n",
    "park.travel('부산') #역시 같은 이유로, setname함수를 실행하지 않았기 때문!"
   ]
  },
  {
   "cell_type": "code",
   "execution_count": 31,
   "metadata": {},
   "outputs": [],
   "source": [
    "#보통 클래스 설계 시 이렇게 오류가 발생할 수 있는 상황을 아예 차단시킬 수 있는 클래스를 만드는 게 중요하다.\n",
    "#그래서 init 이란 초기값을 많이 활용한단 것임.\n",
    "class HousePark:\n",
    "    lastname = '박'\n",
    "    def __init__(self, first):\n",
    "        self.fullname = self.lastname + first \n",
    "    def travel(self, where):\n",
    "        print('%s, %s여행을 가다.'%(self.fullname, where))"
   ]
  },
  {
   "cell_type": "code",
   "execution_count": 33,
   "metadata": {},
   "outputs": [
    {
     "name": "stdout",
     "output_type": "stream",
     "text": [
      "박수연, 부산여행을 가다.\n"
     ]
    }
   ],
   "source": [
    "park = HousePark('수연') #이젠 init에 의해 first(이름)을 반드시 써야만 실행이 된다.\n",
    "park.travel('부산') "
   ]
  },
  {
   "cell_type": "markdown",
   "metadata": {},
   "source": [
    "### 클래스의 상속 \n",
    "- 어떤 클래스를 만들 때 다른 클래스의 기능을 물려받을 수 있도록 하는 것.\n",
    "- 이번에는 HousePark(박씨네 집)에 이어 HouseChoi(최씨네 집)을 만들어보자."
   ]
  },
  {
   "cell_type": "code",
   "execution_count": 36,
   "metadata": {},
   "outputs": [],
   "source": [
    "#상속을 이용하면 아주 편리하게 만들수 있다. -> \"new클래스(old클래스)\" 라고 쓰기.\n",
    "class HouseChoi(HousePark):\n",
    "    #클래스 변수만 바꿈\n",
    "    lastname = '최'"
   ]
  },
  {
   "cell_type": "code",
   "execution_count": 35,
   "metadata": {},
   "outputs": [
    {
     "name": "stdout",
     "output_type": "stream",
     "text": [
      "최줄리엣, 영국여행을 가다.\n"
     ]
    }
   ],
   "source": [
    "#그래도 이렇게 바로 HousePark라는 클래스의 기능을 모두 사용 가능.\n",
    "juliet = HouseChoi('줄리엣')\n",
    "juliet.travel('영국')"
   ]
  },
  {
   "cell_type": "markdown",
   "metadata": {},
   "source": [
    "#### 매서드 오버라이딩(overwriting)\n",
    "- 클래스를 상속받긴 했는데, old클래스의 메서드와 이름은 같지만 수행하는 게 다르게 만들고 싶을 땐?"
   ]
  },
  {
   "cell_type": "code",
   "execution_count": null,
   "metadata": {},
   "outputs": [],
   "source": [
    "#예를 들어(실행x)\n",
    "juliet = HouseChoi('줄리엣')\n",
    "juliet.travel('영국') #'최줄리엣, 영국여행을 가다.'-> 이거 말고 '최줄리엣, 영국 여행 3일 동안 가네.' 로 출력되도록 해보자!!\n",
    "                            #즉, 메서드명(travel)은 같으나 수행을 다르게 하게 해보자.(즉 수정해보자.)"
   ]
  },
  {
   "cell_type": "code",
   "execution_count": 37,
   "metadata": {},
   "outputs": [],
   "source": [
    "class HouseChoi(HousePark):\n",
    "    #클래스 변수만 바꿈\n",
    "    lastname = '최'\n",
    "    #바꾸고자 하는 메서드를 new클래스(HouseChoi)안에서 다시 구현하면 끝!\n",
    "    def travel(self, where, day):\n",
    "        print('%s, %s여행 %s일 동안 가네.'%(self.fullname, where, day))"
   ]
  },
  {
   "cell_type": "code",
   "execution_count": 39,
   "metadata": {},
   "outputs": [
    {
     "name": "stdout",
     "output_type": "stream",
     "text": [
      "최줄리엣, 영국여행 3일 동안 가네.\n"
     ]
    }
   ],
   "source": [
    "#코드 다시 실행해보면 \n",
    "juliet = HouseChoi('줄리엣')\n",
    "juliet.travel('영국', 3)"
   ]
  },
  {
   "cell_type": "markdown",
   "metadata": {},
   "source": [
    "#### 연산자 오버로딩(overloading)\n",
    "- 연산자(+, *, -, /) 를 객체끼리 사용할 수 있게 하는 기법\n",
    "- +: __ add__\n",
    "- -: __ sub __\n",
    "- *: __ mul__\n",
    "- /: __ truediv__"
   ]
  },
  {
   "cell_type": "code",
   "execution_count": null,
   "metadata": {},
   "outputs": [],
   "source": [
    "#예를 들어(실행x)\n",
    "pey =HousePark('응용')\n",
    "juliet = HouseChoi('줄리엣')\n",
    "pey+juliet #얘가 '박응용, 최줄리엣 결혼했네' 로 출력될 수 있게 만들어보자."
   ]
  },
  {
   "cell_type": "code",
   "execution_count": 49,
   "metadata": {},
   "outputs": [],
   "source": [
    "class HousePark:\n",
    "    lastname = '박'\n",
    "    def __init__(self, first):\n",
    "        self.fullname = self.lastname + first \n",
    "    def travel(self, where):\n",
    "        print('%s, %s여행을 가다.'%(self.fullname, where))\n",
    "    def love(self, other):\n",
    "        print('%s, %s 사랑에 빠졌네.'%(self.fullname, other.fullname))\n",
    "    def __add__(self, other):\n",
    "        print('%s, %s 결혼했네'%(self.fullname, other.fullname))       ##연산자 오버로딩 사용 (__add__는 +연산자를 의미)\n",
    "        \n",
    "class HouseChoi(HousePark):\n",
    "    #클래스 변수만 바꿈\n",
    "    lastname = '최'\n",
    "    #바꾸고자 하는 메서드를 new클래스(HouseChoi)안에서 다시 구현하면 끝!\n",
    "    def travel(self, where, day):\n",
    "        print('%s, %s여행 %s일 동안 가네.'%(self.fullname, where, day))"
   ]
  },
  {
   "cell_type": "code",
   "execution_count": 50,
   "metadata": {},
   "outputs": [],
   "source": [
    "pey =HousePark('응용')\n",
    "juliet = HouseChoi('줄리엣')"
   ]
  },
  {
   "cell_type": "code",
   "execution_count": 42,
   "metadata": {},
   "outputs": [
    {
     "name": "stdout",
     "output_type": "stream",
     "text": [
      "박응용, 최줄리엣 사랑에 빠졌네.\n"
     ]
    }
   ],
   "source": [
    "pey.love(juliet)   #other 부분에 juliet이라는 (상속된) 인스턴트를 넣어주어야 함!(그래야 들어간 인스턴트의 fullname이 뭔지 알수 있으니까)"
   ]
  },
  {
   "cell_type": "code",
   "execution_count": 51,
   "metadata": {},
   "outputs": [
    {
     "name": "stdout",
     "output_type": "stream",
     "text": [
      "박응용, 최줄리엣 결혼했네\n"
     ]
    }
   ],
   "source": [
    "pey+juliet #연산자 오버로딩을 사용\n",
    "                #주의.이코드는 pey.love(juliet) 부분을 실행하지 않아도 실행 된다!"
   ]
  },
  {
   "cell_type": "code",
   "execution_count": 47,
   "metadata": {},
   "outputs": [],
   "source": [
    "class HousePark:\n",
    "    lastname = '박'\n",
    "    def __init__(self, first):\n",
    "        self.fullname = self.lastname + first \n",
    "    def travel(self, where):\n",
    "        print('%s, %s여행을 가다.'%(self.fullname, where))\n",
    "    def love(self, other):\n",
    "        print('%s, %s 사랑에 빠졌네.'%(self.fullname, other.fullname))\n",
    "    def __mul__(self, num):\n",
    "        print('%s, %s번 결혼했네'%(self.fullname, num))       ##연산자 오버로딩 사용 (__mul__은 *연산자를 의미)"
   ]
  },
  {
   "cell_type": "code",
   "execution_count": 48,
   "metadata": {},
   "outputs": [
    {
     "name": "stdout",
     "output_type": "stream",
     "text": [
      "박응용, 3번 결혼했네\n"
     ]
    }
   ],
   "source": [
    "pey=HousePark('응용')\n",
    "pey*3"
   ]
  },
  {
   "cell_type": "code",
   "execution_count": 1,
   "metadata": {},
   "outputs": [],
   "source": [
    "class HousePark:\n",
    "    lastname = '박'\n",
    "    def __init__(self, first):\n",
    "        self.fullname = self.lastname + first \n",
    "    def travel(self, where):\n",
    "        print('%s, %s여행을 가다.'%(self.fullname, where))\n",
    "    def love(self, other):\n",
    "        print('%s, %s 사랑에 빠졌네.'%(self.fullname, other.fullname))\n",
    "    def __add__(self, num):\n",
    "        print('%s, %s번 결혼했네'%(self.fullname, num))        ##연산자 오버로딩 사용 (__add__는 +연산자를 의미)"
   ]
  },
  {
   "cell_type": "code",
   "execution_count": 2,
   "metadata": {},
   "outputs": [
    {
     "name": "stdout",
     "output_type": "stream",
     "text": [
      "박응용, 3번 결혼했네\n"
     ]
    }
   ],
   "source": [
    "pey=HousePark('응용')\n",
    "pey+3"
   ]
  },
  {
   "cell_type": "code",
   "execution_count": 7,
   "metadata": {},
   "outputs": [],
   "source": [
    "class HousePark:\n",
    "    lastname = '박'\n",
    "    def __init__(self, first):\n",
    "        self.fullname = self.lastname + first \n",
    "    def travel(self, where):\n",
    "        print('%s, %s여행을 가다.'%(self.fullname, where))\n",
    "        \n",
    "class HouseChoi(HousePark):\n",
    "    #클래스 변수만 바꿈\n",
    "    lastname = '최'\n",
    "    #바꾸고자 하는 메서드를 new클래스(HouseChoi)안에서 다시 구현하면 끝!\n",
    "    def travel(self, where, day):\n",
    "        print('%s, %s여행 %s일 동안 가네.'%(self.fullname, where, day))\n",
    "    def __truediv__(self, other):\n",
    "        print('%s, %s 둘은 진심으로 사랑하네.'%(self.fullname,other.fullname))       ##연산자 오버로딩 사용 (__treudiv__는 /연산자를 의미)"
   ]
  },
  {
   "cell_type": "code",
   "execution_count": 8,
   "metadata": {},
   "outputs": [
    {
     "name": "stdout",
     "output_type": "stream",
     "text": [
      "최줄리엣, 박응용 둘은 진심으로 사랑하네.\n"
     ]
    }
   ],
   "source": [
    "pey=HousePark('응용')\n",
    "j=HouseChoi('줄리엣')\n",
    "j/pey"
   ]
  },
  {
   "cell_type": "markdown",
   "metadata": {},
   "source": [
    "### 박씨네 집 클래스 완성하기\n",
    "- 스토리 구상:\n",
    "- 박응용, 부산에 놀러감\n",
    "- 최줄리엣, 우연히 3일간 부산에 놀러감\n",
    "- 둘은 사랑에 빠져 결혼함\n",
    "- 그러다 싸워서 이혼함"
   ]
  },
  {
   "cell_type": "code",
   "execution_count": null,
   "metadata": {},
   "outputs": [],
   "source": [
    "#다음과 같이 출력되게 하자(실행x)\n",
    "pey =HousePark('응용')\n",
    "juliet =HouseChoi('줄리엣')\n",
    "pey.travel('부산') #'박응용 부산여행을 가다.' 출력\n",
    "juliet.travel('부산',3) #'최줄리엣 부산여행 3일 가네.' 출력\n",
    "pey.love(juliet) #'박응용, 최줄리엣 사랑에 빠졌네' 출력\n",
    "pey+juliet  #'박응용, 최줄리엣 결혼했네'\n",
    "pey.fight(juliet) #'박응용, 최줄리엣 싸우네'\n",
    "pey-juliet #'박응용, 최줄리엣 이혼했네'"
   ]
  },
  {
   "cell_type": "code",
   "execution_count": 52,
   "metadata": {},
   "outputs": [],
   "source": [
    "class HousePark:\n",
    "    lastname = '박'\n",
    "    def __init__(self, first):\n",
    "        self.fullname = self.lastname + first \n",
    "    def travel(self, where):\n",
    "        print('%s %s여행을 가다.'%(self.fullname, where))\n",
    "    def love(self, other):\n",
    "        print('%s, %s 사랑에 빠졌네.'%(self.fullname, other.fullname))\n",
    "    def __add__(self, other):\n",
    "        print('%s, %s 결혼했네'%(self.fullname, other.fullname))       ##연산자 오버로딩 사용 (__add__는 +연산자를 의미)\n",
    "    def fight(self, other):\n",
    "        print('%s, %s 싸우네'%(self.fullname, other.fullname))\n",
    "    def __sub__(self, other):\n",
    "        print('%s, %s 이혼했네'%(self.fullname, other.fullname))       ##연산자 오버로딩 사용 (__sub__는 -연산자를 의미)\n",
    "        \n",
    "class HouseChoi(HousePark):\n",
    "    lastname = '최'\n",
    "    def travel(self, where, day):\n",
    "        print('%s %s여행 %s일 가네.'%(self.fullname, where, day))"
   ]
  },
  {
   "cell_type": "code",
   "execution_count": 53,
   "metadata": {},
   "outputs": [
    {
     "name": "stdout",
     "output_type": "stream",
     "text": [
      "박응용 부산여행을 가다.\n",
      "최줄리엣 부산여행 3일 가네.\n",
      "박응용, 최줄리엣 사랑에 빠졌네.\n",
      "박응용, 최줄리엣 결혼했네\n",
      "박응용, 최줄리엣 싸우네\n",
      "박응용, 최줄리엣 이혼했네\n"
     ]
    }
   ],
   "source": [
    "#앞의 것 출력 \n",
    "pey =HousePark('응용')\n",
    "juliet =HouseChoi('줄리엣')\n",
    "pey.travel('부산') #'박응용 부산여행을 가다.' 출력\n",
    "juliet.travel('부산',3) #'최줄리엣 부산여행 3일 가네.' 출력\n",
    "pey.love(juliet) #'박응용, 최줄리엣 사랑에 빠졌네' 출력\n",
    "pey+juliet  #'박응용, 최줄리엣 결혼했네'\n",
    "pey.fight(juliet) #'박응용, 최줄리엣 싸우네'\n",
    "pey-juliet #'박응용, 최줄리엣 이혼했네'"
   ]
  },
  {
   "cell_type": "code",
   "execution_count": null,
   "metadata": {},
   "outputs": [],
   "source": []
  }
 ],
 "metadata": {
  "kernelspec": {
   "display_name": "Python 3",
   "language": "python",
   "name": "python3"
  },
  "language_info": {
   "codemirror_mode": {
    "name": "ipython",
    "version": 3
   },
   "file_extension": ".py",
   "mimetype": "text/x-python",
   "name": "python",
   "nbconvert_exporter": "python",
   "pygments_lexer": "ipython3",
   "version": "3.7.6"
  }
 },
 "nbformat": 4,
 "nbformat_minor": 4
}
