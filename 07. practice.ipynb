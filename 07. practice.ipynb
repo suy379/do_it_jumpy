{
 "cells": [
  {
   "cell_type": "code",
   "execution_count": 1,
   "metadata": {},
   "outputs": [],
   "source": [
    "#다시 문제 풀어보자.\n",
    "## 주민등록번호를 포함하고 있는 텍스트(data)가 있다. 이 텍스트에 포함된 모든 주민등록번호의 뒷자리를 * 문자로 변경하시오.(정규표현식 활용해야 함.)\n",
    "data = '''\n",
    "park 800905-2049118\n",
    "kim 700905-1059119\n",
    "'''\n",
    "#예상되는 결과값은\n",
    "#park 800905-*******\n",
    "#kim 700905-*******"
   ]
  },
  {
   "cell_type": "code",
   "execution_count": 7,
   "metadata": {},
   "outputs": [],
   "source": [
    "#위의 data에 딱 맞는 정규표현식은?\n",
    "import re\n",
    "p = re.compile(r'[a-z]+\\s+\\d+[-]\\d+') #이름 공백 숫자1 숫자2"
   ]
  },
  {
   "cell_type": "code",
   "execution_count": 6,
   "metadata": {},
   "outputs": [
    {
     "name": "stdout",
     "output_type": "stream",
     "text": [
      "\n",
      "park 800905-*******\n",
      "kim 700905-*******\n",
      "\n"
     ]
    }
   ],
   "source": [
    "p = re.compile(r'([a-z]+\\s+\\d+)[-]\\d+') #그룹화\n",
    "print(p.sub('\\g<1>-*******', data))"
   ]
  },
  {
   "cell_type": "code",
   "execution_count": 8,
   "metadata": {},
   "outputs": [
    {
     "name": "stdout",
     "output_type": "stream",
     "text": [
      "\n",
      "park 800905-*******\n",
      "kim 700905-*******\n",
      "\n"
     ]
    }
   ],
   "source": [
    "#숫자 개수도 딱 맞아야 된다고 하면?\n",
    "p = re.compile(r'([a-z]+\\s+\\d{6})[-]\\d{7}')\n",
    "print(p.sub('\\g<1>-*******', data))"
   ]
  },
  {
   "cell_type": "code",
   "execution_count": 9,
   "metadata": {},
   "outputs": [
    {
     "name": "stdout",
     "output_type": "stream",
     "text": [
      "\n",
      "park 800905-*******\n",
      "kim 700905-*******\n",
      "\n"
     ]
    }
   ],
   "source": [
    "#사실 앞의 이름 부분을 활용할 일이 없으면 굳이 정규표현식에 안써도 된다!!\n",
    "p = re.compile(r'(\\d{6})[-]\\d{7}')\n",
    "print(p.sub('\\g<1>-*******', data))"
   ]
  },
  {
   "cell_type": "markdown",
   "metadata": {},
   "source": [
    "## 연습문제"
   ]
  },
  {
   "cell_type": "markdown",
   "metadata": {},
   "source": [
    "### 1번\n",
    "- 답: B"
   ]
  },
  {
   "cell_type": "markdown",
   "metadata": {},
   "source": [
    "### 2번"
   ]
  },
  {
   "cell_type": "code",
   "execution_count": 72,
   "metadata": {},
   "outputs": [
    {
     "name": "stdout",
     "output_type": "stream",
     "text": [
      "10\n"
     ]
    }
   ],
   "source": [
    "#2. 다음 코드의 결과값은?\n",
    "import re\n",
    "p = re.compile('[a-z]+') #소문자 1개 이상 \n",
    "m = p.search('5 python')\n",
    "print(m.start()+m.end()) #2+8 =10"
   ]
  },
  {
   "cell_type": "markdown",
   "metadata": {},
   "source": [
    "### 3번"
   ]
  },
  {
   "cell_type": "code",
   "execution_count": 10,
   "metadata": {},
   "outputs": [],
   "source": [
    "#다음과 같은 문자열에서 핸드폰 번호 뒷자리 숫자 4개를 ####으로 바꾸는 프로그램을 정규식을 이용해 해보자.\n",
    "data = '''\n",
    "park 010-9999-9988\n",
    "kim 010-9909-7789\n",
    "lee 010-8789-7768\n",
    "'''"
   ]
  },
  {
   "cell_type": "code",
   "execution_count": null,
   "metadata": {},
   "outputs": [],
   "source": [
    "#먼저 데이터에 해당하는 정규표현식을 써보자.(실행x)\n",
    "p = re.compile(r'[a-z]+\\s+\\d+[-]\\d{4}[-]\\d{4}') #010 부분은 개수가 안주어져있고, 중간자리 마지막자리는 4개라고 정해져있다고 한다면..\n",
    "#위의 정규식에서 우리가 필요한 부분은 핸드폰 번호뿐이다. "
   ]
  },
  {
   "cell_type": "code",
   "execution_count": 12,
   "metadata": {},
   "outputs": [
    {
     "name": "stdout",
     "output_type": "stream",
     "text": [
      "\n",
      "park 010-9999-####\n",
      "kim 010-9909-####\n",
      "lee 010-8789-####\n",
      "\n"
     ]
    }
   ],
   "source": [
    "import re\n",
    "p = re.compile(r'([a-z]+\\s+\\d+[-]\\d{4})[-]\\d{4}') \n",
    "print(p.sub('\\g<1>-####', data))"
   ]
  },
  {
   "cell_type": "code",
   "execution_count": 13,
   "metadata": {},
   "outputs": [
    {
     "name": "stdout",
     "output_type": "stream",
     "text": [
      "\n",
      "park 010-9999-####\n",
      "kim 010-9909-####\n",
      "lee 010-8789-####\n",
      "\n"
     ]
    }
   ],
   "source": [
    "p = re.compile(r'(\\d+[-]\\d{4})[-]\\d{4}') #혹은 앞부분을 지워도 된다.\n",
    "print(p.sub('\\g<1>-####', data))"
   ]
  },
  {
   "cell_type": "code",
   "execution_count": 17,
   "metadata": {},
   "outputs": [
    {
     "name": "stdout",
     "output_type": "stream",
     "text": [
      "\n",
      "park 010-####-9988\n",
      "kim 010-####-7789\n",
      "lee 010-####-7768\n",
      "\n"
     ]
    }
   ],
   "source": [
    "#만일 핸드폰 번호 앞번호만 바꾼다면?\n",
    "p = re.compile(r'(\\d+)[-]\\d{4}[-](\\d{4})') \n",
    "print(p.sub('\\g<1>-####-\\g<2>', data))"
   ]
  },
  {
   "cell_type": "code",
   "execution_count": 18,
   "metadata": {},
   "outputs": [
    {
     "name": "stdout",
     "output_type": "stream",
     "text": [
      "\n",
      "park 010-####-9988\n",
      "kim 010-####-7789\n",
      "lee 010-####-7768\n",
      "\n"
     ]
    }
   ],
   "source": [
    "#그룹핑할때 [-]부분도 포함해서 할수있다.\n",
    "p = re.compile(r'(\\d+[-])\\d{4}([-]\\d{4})') \n",
    "print(p.sub('\\g<1>####\\g<2>', data))"
   ]
  },
  {
   "cell_type": "markdown",
   "metadata": {},
   "source": [
    "### 4번"
   ]
  },
  {
   "cell_type": "code",
   "execution_count": null,
   "metadata": {},
   "outputs": [],
   "source": [
    "#다음은 이메일 주소를 나타내는 정규식이다. 이 정규식은 park@naver.com 등과 매치된다.\n",
    "#긍정형 전방탐색기법을 활용해 .com, .net이 아닌 이메일 주소는 제외시키는 정규식을 작성해라.\n",
    "\n",
    "#주어진 정규식(실행x)\n",
    "'.*[@].*[.].*$'"
   ]
  },
  {
   "cell_type": "code",
   "execution_count": 14,
   "metadata": {},
   "outputs": [
    {
     "name": "stdout",
     "output_type": "stream",
     "text": [
      "park@naver.com\n"
     ]
    }
   ],
   "source": [
    "#정규식이 이메일과 잘 매치되는지 확인\n",
    "import re\n",
    "p = re.compile('.*[@].*[.].*$')\n",
    "m = p.match('park@naver.com')\n",
    "print(m.group())"
   ]
  },
  {
   "cell_type": "code",
   "execution_count": 69,
   "metadata": {},
   "outputs": [
    {
     "name": "stdout",
     "output_type": "stream",
     "text": [
      "park@naver.com\n"
     ]
    }
   ],
   "source": [
    "#긍정형 전방 탐색\n",
    "p = re.compile('.*[@].*[.](?=com$|net$).*$')\n",
    "print(p.match('park@naver.com').group())"
   ]
  },
  {
   "cell_type": "code",
   "execution_count": 22,
   "metadata": {},
   "outputs": [
    {
     "name": "stdout",
     "output_type": "stream",
     "text": [
      "kim@daum.net\n"
     ]
    }
   ],
   "source": [
    "p = re.compile('.*[@].*[.](?=com$|net$).*$')\n",
    "print(p.match('kim@daum.net').group())"
   ]
  },
  {
   "cell_type": "code",
   "execution_count": 71,
   "metadata": {},
   "outputs": [
    {
     "ename": "AttributeError",
     "evalue": "'NoneType' object has no attribute 'group'",
     "output_type": "error",
     "traceback": [
      "\u001b[1;31m---------------------------------------------------------------------------\u001b[0m",
      "\u001b[1;31mAttributeError\u001b[0m                            Traceback (most recent call last)",
      "\u001b[1;32m<ipython-input-71-02625fc9f351>\u001b[0m in \u001b[0;36m<module>\u001b[1;34m\u001b[0m\n\u001b[0;32m      1\u001b[0m \u001b[0mp\u001b[0m \u001b[1;33m=\u001b[0m \u001b[0mre\u001b[0m\u001b[1;33m.\u001b[0m\u001b[0mcompile\u001b[0m\u001b[1;33m(\u001b[0m\u001b[1;34m'.*[@].*[.](?=com$|net$).*$'\u001b[0m\u001b[1;33m)\u001b[0m\u001b[1;33m\u001b[0m\u001b[1;33m\u001b[0m\u001b[0m\n\u001b[1;32m----> 2\u001b[1;33m \u001b[0mprint\u001b[0m\u001b[1;33m(\u001b[0m\u001b[0mp\u001b[0m\u001b[1;33m.\u001b[0m\u001b[0mmatch\u001b[0m\u001b[1;33m(\u001b[0m\u001b[1;34m'lee@myhome.co.kr'\u001b[0m\u001b[1;33m)\u001b[0m\u001b[1;33m.\u001b[0m\u001b[0mgroup\u001b[0m\u001b[1;33m(\u001b[0m\u001b[1;33m)\u001b[0m\u001b[1;33m)\u001b[0m\u001b[1;33m\u001b[0m\u001b[1;33m\u001b[0m\u001b[0m\n\u001b[0m",
      "\u001b[1;31mAttributeError\u001b[0m: 'NoneType' object has no attribute 'group'"
     ]
    }
   ],
   "source": [
    "p = re.compile('.*[@].*[.](?=com$|net$).*$')\n",
    "print(p.match('lee@myhome.co.kr').group())"
   ]
  },
  {
   "cell_type": "code",
   "execution_count": null,
   "metadata": {},
   "outputs": [],
   "source": [
    "#파이썬 정규식 프로그램은 보통 다음과 같은 흐름으로 작성 (실행x)\n",
    "p = re.compile(정규표현식) #컴파일된 패턴객체\n",
    "m = p.match('조사할 문자열')\n",
    "if m: #매치가 된경우\n",
    "    print('Match found: ', m.group())\n",
    "else: #None 반환시\n",
    "    print('No match')"
   ]
  },
  {
   "cell_type": "code",
   "execution_count": 33,
   "metadata": {},
   "outputs": [],
   "source": [
    "data = '''suy379@naver.com \n",
    "dosagy@naver.com'''"
   ]
  },
  {
   "cell_type": "code",
   "execution_count": 34,
   "metadata": {},
   "outputs": [
    {
     "name": "stdout",
     "output_type": "stream",
     "text": [
      "suy379@naver.com \n",
      "dosagy@naver.com\n"
     ]
    }
   ],
   "source": [
    "p = re.compile('.*[@].*[.](?=com$|net$).*$', re.S)\n",
    "m = p.match(data)\n",
    "if m:\n",
    "    print(m.group())\n",
    "else:\n",
    "    print('No match')"
   ]
  },
  {
   "cell_type": "markdown",
   "metadata": {},
   "source": [
    "### 5번: XML 처리"
   ]
  },
  {
   "cell_type": "code",
   "execution_count": 7,
   "metadata": {},
   "outputs": [
    {
     "name": "stdout",
     "output_type": "stream",
     "text": [
      "<blog date=\"20151231\">\n",
      " <subject>Why python?</subject>\n",
      " <author>Eric</author>\n",
      " <content>Life is too short, You need Python!</content>\n",
      "</blog>\n"
     ]
    }
   ],
   "source": [
    "#ElementTree를 이용해 다음의 XML 문서를 작성하고 파일에 오늘 날짜로 저장하시오.\n",
    "from xml.etree.ElementTree import Element, SubElement, dump, ElementTree\n",
    "\n",
    "note = Element('blog', date='20151231')\n",
    "SubElement(note, 'subject').text = 'Why python?'\n",
    "SubElement(note, 'author').text = 'Eric'\n",
    "SubElement(note, 'content').text = 'Life is too short, You need Python!'\n",
    "\n",
    "def indent(elem, level=0):\n",
    "    i = '\\n' + level*\" \"\n",
    "    if len(elem):\n",
    "        if not elem.text or not elem.text.strip():\n",
    "            elem.text = i+' '\n",
    "        if not elem.tail or not elem.tail.strip():\n",
    "            elem.tail = i\n",
    "        for elem in elem:\n",
    "            indent(elem, level+1)\n",
    "        if not elem.tail or not elem.tail.strip():\n",
    "            elem.tail = i\n",
    "    else:\n",
    "        if level and (not elem.tail or not elem.tail.strip()):\n",
    "            elem.tail = i\n",
    "            \n",
    "            \n",
    "\n",
    "indent(note)\n",
    "dump(note)"
   ]
  },
  {
   "cell_type": "code",
   "execution_count": 8,
   "metadata": {},
   "outputs": [],
   "source": [
    "#저장\n",
    "ElementTree(note).write('20210209.xml')"
   ]
  },
  {
   "cell_type": "code",
   "execution_count": 9,
   "metadata": {},
   "outputs": [],
   "source": [
    "#불러오기\n",
    "from xml.etree.ElementTree import parse\n",
    "tree = parse('20210209.xml')\n",
    "note = tree.getroot()"
   ]
  },
  {
   "cell_type": "code",
   "execution_count": 10,
   "metadata": {},
   "outputs": [
    {
     "name": "stderr",
     "output_type": "stream",
     "text": [
      "C:\\Users\\user\\anaconda3\\lib\\site-packages\\ipykernel_launcher.py:1: DeprecationWarning: This method will be removed in future versions.  Use 'list(elem)' or iteration over elem instead.\n",
      "  \"\"\"Entry point for launching an IPython kernel.\n"
     ]
    },
    {
     "data": {
      "text/plain": [
       "[<Element 'subject' at 0x000001DA6396E318>,\n",
       " <Element 'author' at 0x000001DA63A61688>,\n",
       " <Element 'content' at 0x000001DA63A61E08>]"
      ]
     },
     "execution_count": 10,
     "metadata": {},
     "output_type": "execute_result"
    }
   ],
   "source": [
    "note.getchildren()"
   ]
  },
  {
   "cell_type": "code",
   "execution_count": null,
   "metadata": {},
   "outputs": [],
   "source": []
  }
 ],
 "metadata": {
  "kernelspec": {
   "display_name": "Python 3",
   "language": "python",
   "name": "python3"
  },
  "language_info": {
   "codemirror_mode": {
    "name": "ipython",
    "version": 3
   },
   "file_extension": ".py",
   "mimetype": "text/x-python",
   "name": "python",
   "nbconvert_exporter": "python",
   "pygments_lexer": "ipython3",
   "version": "3.7.6"
  }
 },
 "nbformat": 4,
 "nbformat_minor": 4
}
